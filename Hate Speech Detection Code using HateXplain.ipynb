{
 "cells": [
  {
   "cell_type": "code",
   "execution_count": 1,
   "metadata": {},
   "outputs": [],
   "source": [
    "import pandas as pd"
   ]
  },
  {
   "cell_type": "code",
   "execution_count": 2,
   "metadata": {},
   "outputs": [],
   "source": [
    "df_train=pd.read_csv(\"HateXplain Datasets (Train-Val-Test)/train.csv\")\n",
    "df_val=pd.read_csv(\"HateXplain Datasets (Train-Val-Test)/val.csv\")\n",
    "df_test=pd.read_csv(\"HateXplain Datasets (Train-Val-Test)/test.csv\")"
   ]
  },
  {
   "cell_type": "code",
   "execution_count": 3,
   "metadata": {},
   "outputs": [],
   "source": [
    "# df_train.head()\n",
    "# df_val.head()\n",
    "# df_test.head()"
   ]
  },
  {
   "cell_type": "code",
   "execution_count": 4,
   "metadata": {},
   "outputs": [],
   "source": [
    "#creating true labels toxic =1 and non-toxic = 0 for each dataset\n",
    "df_train['True_Label']= [1 if x =='toxic' else 0  for x in df_train['final_label']]\n",
    "df_val['True_Label']= [1 if x =='toxic' else 0  for x in df_val['final_label']]\n",
    "df_test['True_Label']= [1 if x =='toxic' else 0  for x in df_test['final_label']]"
   ]
  },
  {
   "cell_type": "code",
   "execution_count": 5,
   "metadata": {},
   "outputs": [],
   "source": [
    "df_train=df_train[['sentence','True_Label']]\n",
    "df_val=df_val[['sentence','True_Label']]\n",
    "df_test=df_test[['sentence','True_Label']]"
   ]
  },
  {
   "cell_type": "code",
   "execution_count": 6,
   "metadata": {},
   "outputs": [
    {
     "name": "stdout",
     "output_type": "stream",
     "text": [
      "<class 'pandas.core.frame.DataFrame'>\n",
      "RangeIndex: 15383 entries, 0 to 15382\n",
      "Data columns (total 2 columns):\n",
      " #   Column      Non-Null Count  Dtype \n",
      "---  ------      --------------  ----- \n",
      " 0   sentence    15383 non-null  object\n",
      " 1   True_Label  15383 non-null  int64 \n",
      "dtypes: int64(1), object(1)\n",
      "memory usage: 240.5+ KB\n"
     ]
    }
   ],
   "source": [
    "df_train.info()"
   ]
  },
  {
   "cell_type": "code",
   "execution_count": 7,
   "metadata": {},
   "outputs": [
    {
     "data": {
      "text/plain": [
       "1    9132\n",
       "0    6251\n",
       "Name: True_Label, dtype: int64"
      ]
     },
     "execution_count": 7,
     "metadata": {},
     "output_type": "execute_result"
    }
   ],
   "source": [
    "df_train.True_Label.value_counts()"
   ]
  },
  {
   "cell_type": "code",
   "execution_count": 8,
   "metadata": {},
   "outputs": [
    {
     "name": "stdout",
     "output_type": "stream",
     "text": [
      "<class 'pandas.core.frame.DataFrame'>\n",
      "RangeIndex: 1922 entries, 0 to 1921\n",
      "Data columns (total 2 columns):\n",
      " #   Column      Non-Null Count  Dtype \n",
      "---  ------      --------------  ----- \n",
      " 0   sentence    1922 non-null   object\n",
      " 1   True_Label  1922 non-null   int64 \n",
      "dtypes: int64(1), object(1)\n",
      "memory usage: 30.2+ KB\n"
     ]
    }
   ],
   "source": [
    "df_val.info()"
   ]
  },
  {
   "cell_type": "code",
   "execution_count": 9,
   "metadata": {},
   "outputs": [
    {
     "data": {
      "text/plain": [
       "1    1141\n",
       "0     781\n",
       "Name: True_Label, dtype: int64"
      ]
     },
     "execution_count": 9,
     "metadata": {},
     "output_type": "execute_result"
    }
   ],
   "source": [
    "df_val.True_Label.value_counts()"
   ]
  },
  {
   "cell_type": "code",
   "execution_count": 10,
   "metadata": {},
   "outputs": [
    {
     "name": "stdout",
     "output_type": "stream",
     "text": [
      "<class 'pandas.core.frame.DataFrame'>\n",
      "RangeIndex: 1924 entries, 0 to 1923\n",
      "Data columns (total 2 columns):\n",
      " #   Column      Non-Null Count  Dtype \n",
      "---  ------      --------------  ----- \n",
      " 0   sentence    1924 non-null   object\n",
      " 1   True_Label  1924 non-null   int64 \n",
      "dtypes: int64(1), object(1)\n",
      "memory usage: 30.2+ KB\n"
     ]
    }
   ],
   "source": [
    "df_test.info()"
   ]
  },
  {
   "cell_type": "code",
   "execution_count": 11,
   "metadata": {},
   "outputs": [
    {
     "data": {
      "text/plain": [
       "1    1142\n",
       "0     782\n",
       "Name: True_Label, dtype: int64"
      ]
     },
     "execution_count": 11,
     "metadata": {},
     "output_type": "execute_result"
    }
   ],
   "source": [
    "df_test.True_Label.value_counts()"
   ]
  },
  {
   "cell_type": "markdown",
   "metadata": {},
   "source": [
    "# <center>Data Cleaning</center>"
   ]
  },
  {
   "cell_type": "code",
   "execution_count": 12,
   "metadata": {},
   "outputs": [],
   "source": [
    "#remove all the \"<???>\"\n",
    "import re\n",
    "df_train['sentence']=df_train['sentence'].str.replace(r\"<.*>\",\"\")\n",
    "df_val['sentence']=df_val['sentence'].str.replace(r\"<.*>\",\"\")\n",
    "df_test['sentence']=df_test['sentence'].str.replace(r\"<.*>\",\"\")"
   ]
  },
  {
   "cell_type": "code",
   "execution_count": 13,
   "metadata": {},
   "outputs": [
    {
     "data": {
      "text/html": [
       "<div>\n",
       "<style scoped>\n",
       "    .dataframe tbody tr th:only-of-type {\n",
       "        vertical-align: middle;\n",
       "    }\n",
       "\n",
       "    .dataframe tbody tr th {\n",
       "        vertical-align: top;\n",
       "    }\n",
       "\n",
       "    .dataframe thead th {\n",
       "        text-align: right;\n",
       "    }\n",
       "</style>\n",
       "<table border=\"1\" class=\"dataframe\">\n",
       "  <thead>\n",
       "    <tr style=\"text-align: right;\">\n",
       "      <th></th>\n",
       "      <th>sentence</th>\n",
       "      <th>True_Label</th>\n",
       "    </tr>\n",
       "  </thead>\n",
       "  <tbody>\n",
       "  </tbody>\n",
       "</table>\n",
       "</div>"
      ],
      "text/plain": [
       "Empty DataFrame\n",
       "Columns: [sentence, True_Label]\n",
       "Index: []"
      ]
     },
     "execution_count": 13,
     "metadata": {},
     "output_type": "execute_result"
    }
   ],
   "source": [
    "#check that no comment contains the word <user> in train\n",
    "df_train[df_train.sentence.str.contains(\"<\")]"
   ]
  },
  {
   "cell_type": "code",
   "execution_count": 14,
   "metadata": {},
   "outputs": [
    {
     "data": {
      "text/html": [
       "<div>\n",
       "<style scoped>\n",
       "    .dataframe tbody tr th:only-of-type {\n",
       "        vertical-align: middle;\n",
       "    }\n",
       "\n",
       "    .dataframe tbody tr th {\n",
       "        vertical-align: top;\n",
       "    }\n",
       "\n",
       "    .dataframe thead th {\n",
       "        text-align: right;\n",
       "    }\n",
       "</style>\n",
       "<table border=\"1\" class=\"dataframe\">\n",
       "  <thead>\n",
       "    <tr style=\"text-align: right;\">\n",
       "      <th></th>\n",
       "      <th>sentence</th>\n",
       "      <th>True_Label</th>\n",
       "    </tr>\n",
       "  </thead>\n",
       "  <tbody>\n",
       "  </tbody>\n",
       "</table>\n",
       "</div>"
      ],
      "text/plain": [
       "Empty DataFrame\n",
       "Columns: [sentence, True_Label]\n",
       "Index: []"
      ]
     },
     "execution_count": 14,
     "metadata": {},
     "output_type": "execute_result"
    }
   ],
   "source": [
    "#check that no comment contains the word <user> in valid\n",
    "df_val[df_val.sentence.str.contains(\"<\")]"
   ]
  },
  {
   "cell_type": "code",
   "execution_count": 15,
   "metadata": {},
   "outputs": [
    {
     "data": {
      "text/html": [
       "<div>\n",
       "<style scoped>\n",
       "    .dataframe tbody tr th:only-of-type {\n",
       "        vertical-align: middle;\n",
       "    }\n",
       "\n",
       "    .dataframe tbody tr th {\n",
       "        vertical-align: top;\n",
       "    }\n",
       "\n",
       "    .dataframe thead th {\n",
       "        text-align: right;\n",
       "    }\n",
       "</style>\n",
       "<table border=\"1\" class=\"dataframe\">\n",
       "  <thead>\n",
       "    <tr style=\"text-align: right;\">\n",
       "      <th></th>\n",
       "      <th>sentence</th>\n",
       "      <th>True_Label</th>\n",
       "    </tr>\n",
       "  </thead>\n",
       "  <tbody>\n",
       "  </tbody>\n",
       "</table>\n",
       "</div>"
      ],
      "text/plain": [
       "Empty DataFrame\n",
       "Columns: [sentence, True_Label]\n",
       "Index: []"
      ]
     },
     "execution_count": 15,
     "metadata": {},
     "output_type": "execute_result"
    }
   ],
   "source": [
    "#check that no comment contains the word <user> in test\n",
    "df_test[df_test.sentence.str.contains(\"<\")]"
   ]
  },
  {
   "cell_type": "markdown",
   "metadata": {},
   "source": [
    "#  <center>Data Split (same as HateXplain authors)</center>"
   ]
  },
  {
   "cell_type": "code",
   "execution_count": 16,
   "metadata": {},
   "outputs": [],
   "source": [
    "from sklearn.model_selection import train_test_split\n",
    "import numpy as np\n",
    "import pandas as pd\n",
    "import matplotlib.pyplot as plt\n",
    "import warnings\n",
    "import nltk\n",
    "import processing as pp  # local module\n",
    "import feature_extraction as fe #local module\n",
    "import model #local module\n",
    "import models #local module"
   ]
  },
  {
   "cell_type": "code",
   "execution_count": 17,
   "metadata": {},
   "outputs": [],
   "source": [
    "train_corpus=np.array(df_train['sentence'])\n",
    "train_label=np.array(df_train['True_Label'])\n",
    "valid_corpus=np.array(df_val['sentence'])\n",
    "valid_label=np.array(df_val['True_Label'])\n",
    "test_corpus=np.array(df_test['sentence'])\n",
    "test_label=np.array(df_test['True_Label'])"
   ]
  },
  {
   "cell_type": "code",
   "execution_count": 18,
   "metadata": {},
   "outputs": [
    {
     "data": {
      "text/plain": [
       "((15383,), (1922,), (1924,))"
      ]
     },
     "execution_count": 18,
     "metadata": {},
     "output_type": "execute_result"
    }
   ],
   "source": [
    "train_corpus.shape,valid_corpus.shape,test_corpus.shape"
   ]
  },
  {
   "cell_type": "markdown",
   "metadata": {},
   "source": [
    "# <center>Pre-processing</center>"
   ]
  },
  {
   "cell_type": "markdown",
   "metadata": {},
   "source": [
    "### Step 1: Raw Data - Build the minimum pipeline without preprocessing"
   ]
  },
  {
   "cell_type": "code",
   "execution_count": 19,
   "metadata": {},
   "outputs": [
    {
     "name": "stdout",
     "output_type": "stream",
     "text": [
      "TFIDF model:> Train features shape: (15383, 24011)  Validation features shape: (1922, 24011)\n"
     ]
    }
   ],
   "source": [
    "# Use Raw Data with TF-IDF\n",
    "tv_train_features,tv_valid_features = fe.tfidf_vectors(train_corpus, valid_corpus,ngram_range=(1,1),max_features=None)\n",
    "print('TFIDF model:> Train features shape:', tv_train_features.shape,' Validation features shape:', tv_valid_features.shape)"
   ]
  },
  {
   "cell_type": "code",
   "execution_count": 20,
   "metadata": {},
   "outputs": [
    {
     "name": "stdout",
     "output_type": "stream",
     "text": [
      "TF-IDF + Raw Data Train Accuracy >>  0.7598647858025093\n",
      "TF-IDF + Raw Data Valid Accuracy >>  0.6451612903225806\n"
     ]
    }
   ],
   "source": [
    "# Naïve Bayes Classifier\n",
    "Raw_Train_Accuracy, Raw_Valid_Accuracy=model.naive_bayes_model(tv_train_features, tv_valid_features, train_label, valid_label)\n",
    "print('TF-IDF + Raw Data Train Accuracy >> ', Raw_Train_Accuracy)\n",
    "print('TF-IDF + Raw Data Valid Accuracy >> ', Raw_Valid_Accuracy)"
   ]
  },
  {
   "cell_type": "markdown",
   "metadata": {},
   "source": [
    "### Step 2: Execute each preprocessing step alone to check its impact on the same previous model"
   ]
  },
  {
   "cell_type": "markdown",
   "metadata": {},
   "source": [
    "<p style=\"color:red; font-size:16px;\"> HTML Stripping</p>"
   ]
  },
  {
   "cell_type": "code",
   "execution_count": 21,
   "metadata": {},
   "outputs": [
    {
     "name": "stdout",
     "output_type": "stream",
     "text": [
      "TFIDF model:> Train features shape: (15383, 24011)  Validation features shape: (1922, 24011)\n",
      "TF-IDF + HTML Stripping Train Accuracy >>  0.7598647858025093\n",
      "TF-IDF + HTML Stripping Valid Accuracy >>  0.6451612903225806\n",
      "Percentage improvement in Validation Accuracy >>  0.000000000000000\n"
     ]
    }
   ],
   "source": [
    "#Apply HTML stripping on train data\n",
    "norm_train_corpus = pp.normalize_corpus(corpus=train_corpus, html_stripping=True, contraction_expansion=False,\n",
    "                      accented_char_removal=False, text_lower_case=False, \n",
    "                      text_lemmatization=False, special_char_removal=False, \n",
    "                      stopword_removal=False,text_stemming = False,stem='ps')\n",
    "\n",
    "#Apply HTML stripping on validation data\n",
    "norm_valid_corpus = pp.normalize_corpus(corpus=valid_corpus, html_stripping=True, contraction_expansion=False,\n",
    "                      accented_char_removal=False, text_lower_case=False, \n",
    "                      text_lemmatization=False, special_char_removal=False, \n",
    "                      stopword_removal=False,text_stemming = False,stem='ps')\n",
    "\n",
    "# Use the new Data with TF-IDF\n",
    "tv_train_features,tv_valid_features = fe.tfidf_vectors(norm_train_corpus, norm_valid_corpus,ngram_range=(1,1),max_features=None)\n",
    "print('TFIDF model:> Train features shape:', tv_train_features.shape,' Validation features shape:', tv_valid_features.shape)\n",
    "\n",
    "# Naïve Bayes Classifier\n",
    "Train_Accuracy, Valid_Accuracy=model.naive_bayes_model(tv_train_features, tv_valid_features, train_label, valid_label)\n",
    "print('TF-IDF + HTML Stripping Train Accuracy >> ', Train_Accuracy)\n",
    "print('TF-IDF + HTML Stripping Valid Accuracy >> ', Valid_Accuracy)\n",
    "\n",
    "#calculate the improvement in accuracy on validation data in %\n",
    "improvement = (Valid_Accuracy - Raw_Valid_Accuracy)/Raw_Valid_Accuracy\n",
    "print('Percentage improvement in Validation Accuracy >> ' , '%.15f' % (improvement * 100))"
   ]
  },
  {
   "cell_type": "markdown",
   "metadata": {},
   "source": [
    "<p style=\"color:red; font-size:16px;\"> Contraction Expansion</p>"
   ]
  },
  {
   "cell_type": "code",
   "execution_count": 22,
   "metadata": {},
   "outputs": [
    {
     "name": "stdout",
     "output_type": "stream",
     "text": [
      "TFIDF model:> Train features shape: (15383, 24011)  Validation features shape: (1922, 24011)\n",
      "TF-IDF + Contraction Expansion Train Accuracy >>  0.7598647858025093\n",
      "TF-IDF + Contraction Expansion Valid Accuracy >>  0.6451612903225806\n",
      "Percentage improvement in Validation Accuracy >>  0.000000000000000\n"
     ]
    }
   ],
   "source": [
    "#Apply contraction expansion on train data\n",
    "norm_train_corpus = pp.normalize_corpus(corpus=train_corpus, html_stripping=False, contraction_expansion=True,\n",
    "                      accented_char_removal=False, text_lower_case=False, \n",
    "                      text_lemmatization=False, special_char_removal=False, \n",
    "                      stopword_removal=False,text_stemming = False,stem='ps')\n",
    "\n",
    "#Apply contraction expansion on validation data\n",
    "norm_valid_corpus = pp.normalize_corpus(corpus=valid_corpus, html_stripping=False, contraction_expansion=True,\n",
    "                      accented_char_removal=False, text_lower_case=False, \n",
    "                      text_lemmatization=False, special_char_removal=False, \n",
    "                      stopword_removal=False,text_stemming = False,stem='ps')\n",
    "\n",
    "# Use the new Data with TF-IDF\n",
    "tv_train_features,tv_valid_features = fe.tfidf_vectors(norm_train_corpus, norm_valid_corpus,ngram_range=(1,1),max_features=None)\n",
    "print('TFIDF model:> Train features shape:', tv_train_features.shape,' Validation features shape:', tv_valid_features.shape)\n",
    "\n",
    "# Naïve Bayes Classifier\n",
    "Train_Accuracy, Valid_Accuracy=model.naive_bayes_model(tv_train_features, tv_valid_features, train_label, valid_label)\n",
    "print('TF-IDF + Contraction Expansion Train Accuracy >> ', Train_Accuracy)\n",
    "print('TF-IDF + Contraction Expansion Valid Accuracy >> ', Valid_Accuracy)\n",
    "\n",
    "#calculate the improvement in accuracy on validation data in %\n",
    "improvement = (Valid_Accuracy - Raw_Valid_Accuracy)/Raw_Valid_Accuracy\n",
    "print('Percentage improvement in Validation Accuracy >> ' , '%.15f' % (improvement * 100))"
   ]
  },
  {
   "cell_type": "markdown",
   "metadata": {},
   "source": [
    "<p style=\"color:red; font-size:16px;\">Accented character removal</p>"
   ]
  },
  {
   "cell_type": "code",
   "execution_count": 23,
   "metadata": {},
   "outputs": [
    {
     "name": "stdout",
     "output_type": "stream",
     "text": [
      "TFIDF model:> Train features shape: (15383, 23979)  Validation features shape: (1922, 23979)\n",
      "TF-IDF + Accented char removal Train Accuracy >>  0.7601898199310928\n",
      "TF-IDF + Accented char removal Valid Accuracy >>  0.645681581685744\n",
      "Percentage improvement in Validation Accuracy >>  0.080645161290318\n"
     ]
    }
   ],
   "source": [
    "#Apply accented char removal on train data\n",
    "norm_train_corpus = pp.normalize_corpus(corpus=train_corpus, html_stripping=False, contraction_expansion=False,\n",
    "                      accented_char_removal=True, text_lower_case=False, \n",
    "                      text_lemmatization=False, special_char_removal=False, \n",
    "                      stopword_removal=False,text_stemming = False,stem='ps')\n",
    "\n",
    "#Apply accented char removal on validation data\n",
    "norm_valid_corpus = pp.normalize_corpus(corpus=valid_corpus, html_stripping=False, contraction_expansion=False,\n",
    "                      accented_char_removal=True, text_lower_case=False, \n",
    "                      text_lemmatization=False, special_char_removal=False, \n",
    "                      stopword_removal=False,text_stemming = False,stem='ps')\n",
    "\n",
    "# Use the new Data with TF-IDF\n",
    "tv_train_features,tv_valid_features = fe.tfidf_vectors(norm_train_corpus, norm_valid_corpus,ngram_range=(1,1),max_features=None)\n",
    "print('TFIDF model:> Train features shape:', tv_train_features.shape,' Validation features shape:', tv_valid_features.shape)\n",
    "\n",
    "\n",
    "# Naïve Bayes Classifier\n",
    "Train_Accuracy, Valid_Accuracy=model.naive_bayes_model(tv_train_features, tv_valid_features, train_label, valid_label)\n",
    "print('TF-IDF + Accented char removal Train Accuracy >> ', Train_Accuracy)\n",
    "print('TF-IDF + Accented char removal Valid Accuracy >> ', Valid_Accuracy)\n",
    "\n",
    "#calculate the improvement in accuracy on validation data in %\n",
    "improvement = (Valid_Accuracy - Raw_Valid_Accuracy)/Raw_Valid_Accuracy\n",
    "print('Percentage improvement in Validation Accuracy >> ' , '%.15f' % (improvement * 100))"
   ]
  },
  {
   "cell_type": "markdown",
   "metadata": {},
   "source": [
    "<p style=\"color:red; font-size:16px;\">Text lower case</p>"
   ]
  },
  {
   "cell_type": "code",
   "execution_count": 24,
   "metadata": {},
   "outputs": [
    {
     "name": "stdout",
     "output_type": "stream",
     "text": [
      "TFIDF model:> Train features shape: (15383, 24011)  Validation features shape: (1922, 24011)\n",
      "TF-IDF + Text lower case Train Accuracy >>  0.7598647858025093\n",
      "TF-IDF + Text lower case Valid Accuracy >>  0.6451612903225806\n",
      "Percentage improvement in Validation Accuracy >>  0.000000000000000\n"
     ]
    }
   ],
   "source": [
    "#Apply Text lower case on train data\n",
    "norm_train_corpus = pp.normalize_corpus(corpus=train_corpus, html_stripping=False, contraction_expansion=False,\n",
    "                      accented_char_removal=False, text_lower_case=True, \n",
    "                      text_lemmatization=False, special_char_removal=False, \n",
    "                      stopword_removal=False,text_stemming = False,stem='ps')\n",
    "\n",
    "#Apply Text lower case on validation data\n",
    "norm_valid_corpus = pp.normalize_corpus(corpus=valid_corpus, html_stripping=False, contraction_expansion=False,\n",
    "                      accented_char_removal=False, text_lower_case=True, \n",
    "                      text_lemmatization=False, special_char_removal=False, \n",
    "                      stopword_removal=False,text_stemming = False,stem='ps')\n",
    "\n",
    "# Use the new Data with TF-IDF\n",
    "tv_train_features,tv_valid_features = fe.tfidf_vectors(norm_train_corpus, norm_valid_corpus,ngram_range=(1,1),max_features=None)\n",
    "print('TFIDF model:> Train features shape:', tv_train_features.shape,' Validation features shape:', tv_valid_features.shape)\n",
    "\n",
    "\n",
    "# Naïve Bayes Classifier\n",
    "Train_Accuracy, Valid_Accuracy=model.naive_bayes_model(tv_train_features, tv_valid_features, train_label, valid_label)\n",
    "print('TF-IDF + Text lower case Train Accuracy >> ', Train_Accuracy)\n",
    "print('TF-IDF + Text lower case Valid Accuracy >> ', Valid_Accuracy)\n",
    "\n",
    "#calculate the improvement in accuracy on validation data in %\n",
    "improvement = (Valid_Accuracy - Raw_Valid_Accuracy)/Raw_Valid_Accuracy\n",
    "print('Percentage improvement in Validation Accuracy >> ' , '%.15f' % (improvement * 100))"
   ]
  },
  {
   "cell_type": "markdown",
   "metadata": {},
   "source": [
    "<p style=\"color:red; font-size:16px;\">Lemmatization</p>"
   ]
  },
  {
   "cell_type": "code",
   "execution_count": 25,
   "metadata": {},
   "outputs": [
    {
     "name": "stdout",
     "output_type": "stream",
     "text": [
      "TFIDF model:> Train features shape: (15383, 19417)  Validation features shape: (1922, 19417)\n",
      "TF-IDF + Text lemmatization Train Accuracy >>  0.7485535981278034\n",
      "TF-IDF + Text lemmatization Valid Accuracy >>  0.6446409989594173\n",
      "Percentage improvement in Validation Accuracy >>  -0.080645161290318\n"
     ]
    }
   ],
   "source": [
    "#Apply Text lemmatization on train data\n",
    "norm_train_corpus = pp.normalize_corpus(corpus=train_corpus, html_stripping=False, contraction_expansion=False,\n",
    "                      accented_char_removal=False, text_lower_case=False, \n",
    "                      text_lemmatization=True, special_char_removal=False, \n",
    "                      stopword_removal=False,text_stemming = False,stem='ps')\n",
    "\n",
    "#Apply Text lemmatization on validation data\n",
    "norm_valid_corpus = pp.normalize_corpus(corpus=valid_corpus, html_stripping=False, contraction_expansion=False,\n",
    "                      accented_char_removal=False, text_lower_case=False, \n",
    "                      text_lemmatization=True, special_char_removal=False, \n",
    "                      stopword_removal=False,text_stemming = False,stem='ps')\n",
    "\n",
    "# Use the new Data with TF-IDF\n",
    "tv_train_features,tv_valid_features = fe.tfidf_vectors(norm_train_corpus, norm_valid_corpus,ngram_range=(1,1),max_features=None)\n",
    "print('TFIDF model:> Train features shape:', tv_train_features.shape,' Validation features shape:', tv_valid_features.shape)\n",
    "\n",
    "\n",
    "# Naïve Bayes Classifier\n",
    "Train_Accuracy, Valid_Accuracy=model.naive_bayes_model(tv_train_features, tv_valid_features, train_label, valid_label)\n",
    "print('TF-IDF + Text lemmatization Train Accuracy >> ', Train_Accuracy)\n",
    "print('TF-IDF + Text lemmatization Valid Accuracy >> ', Valid_Accuracy)\n",
    "\n",
    "#calculate the improvement in accuracy on validation data in %\n",
    "improvement = (Valid_Accuracy - Raw_Valid_Accuracy)/Raw_Valid_Accuracy\n",
    "print('Percentage improvement in Validation Accuracy >> ' , '%.15f' % (improvement * 100))"
   ]
  },
  {
   "cell_type": "markdown",
   "metadata": {},
   "source": [
    "<p style=\"color:red; font-size:16px;\">Special Character Removal</p>"
   ]
  },
  {
   "cell_type": "code",
   "execution_count": 26,
   "metadata": {},
   "outputs": [
    {
     "name": "stdout",
     "output_type": "stream",
     "text": [
      "TFIDF model:> Train features shape: (15383, 23983)  Validation features shape: (1922, 23983)\n",
      "TF-IDF + Special character removal Train Accuracy >>  0.7601898199310928\n",
      "TF-IDF + Special character removal Valid Accuracy >>  0.6451612903225806\n",
      "Percentage improvement in Validation Accuracy >>  0.000000000000000\n"
     ]
    }
   ],
   "source": [
    "#Apply special character removal on train data\n",
    "norm_train_corpus = pp.normalize_corpus(corpus=train_corpus, html_stripping=False, contraction_expansion=False,\n",
    "                      accented_char_removal=False, text_lower_case=False, \n",
    "                      text_lemmatization=False, special_char_removal=True, \n",
    "                      stopword_removal=False,text_stemming = False,stem='ps')\n",
    "\n",
    "#Apply special character removal on validation data\n",
    "norm_valid_corpus = pp.normalize_corpus(corpus=valid_corpus, html_stripping=False, contraction_expansion=False,\n",
    "                      accented_char_removal=False, text_lower_case=False, \n",
    "                      text_lemmatization=False, special_char_removal=True, \n",
    "                      stopword_removal=False,text_stemming = False,stem='ps')\n",
    "\n",
    "# Use the new Data with TF-IDF\n",
    "tv_train_features,tv_valid_features = fe.tfidf_vectors(norm_train_corpus, norm_valid_corpus,ngram_range=(1,1),max_features=None)\n",
    "print('TFIDF model:> Train features shape:', tv_train_features.shape,' Validation features shape:', tv_valid_features.shape)\n",
    "\n",
    "\n",
    "# Naïve Bayes Classifier\n",
    "Train_Accuracy, Valid_Accuracy=model.naive_bayes_model(tv_train_features, tv_valid_features, train_label, valid_label)\n",
    "print('TF-IDF + Special character removal Train Accuracy >> ', Train_Accuracy)\n",
    "print('TF-IDF + Special character removal Valid Accuracy >> ', Valid_Accuracy)\n",
    "\n",
    "#calculate the improvement in accuracy on validation data in %\n",
    "improvement = (Valid_Accuracy - Raw_Valid_Accuracy)/Raw_Valid_Accuracy\n",
    "print('Percentage improvement in Validation Accuracy >> ' , '%.15f' % (improvement * 100))"
   ]
  },
  {
   "cell_type": "markdown",
   "metadata": {},
   "source": [
    "<p style=\"color:red; font-size:16px;\">Stopword Removal</p>"
   ]
  },
  {
   "cell_type": "code",
   "execution_count": 27,
   "metadata": {},
   "outputs": [
    {
     "name": "stdout",
     "output_type": "stream",
     "text": [
      "TFIDF model:> Train features shape: (15383, 23868)  Validation features shape: (1922, 23868)\n",
      "TF-IDF + Stopword removal Train Accuracy >>  0.8011441201326139\n",
      "TF-IDF + Stopword removal Valid Accuracy >>  0.6644120707596254\n",
      "Percentage improvement in Validation Accuracy >>  2.983870967741937\n"
     ]
    }
   ],
   "source": [
    "#Apply stopword removal on train data\n",
    "norm_train_corpus = pp.normalize_corpus(corpus=train_corpus, html_stripping=False, contraction_expansion=False,\n",
    "                      accented_char_removal=False, text_lower_case=False, \n",
    "                      text_lemmatization=False, special_char_removal=False, \n",
    "                      stopword_removal=True,text_stemming = False,stem='ps')\n",
    "\n",
    "#Apply stopword removal on validation data\n",
    "norm_valid_corpus = pp.normalize_corpus(corpus=valid_corpus, html_stripping=False, contraction_expansion=False,\n",
    "                      accented_char_removal=False, text_lower_case=False, \n",
    "                      text_lemmatization=False, special_char_removal=False, \n",
    "                      stopword_removal=True,text_stemming = False,stem='ps')\n",
    "\n",
    "# Use the new Data with TF-IDF\n",
    "tv_train_features,tv_valid_features = fe.tfidf_vectors(norm_train_corpus, norm_valid_corpus,ngram_range=(1,1),max_features=None)\n",
    "print('TFIDF model:> Train features shape:', tv_train_features.shape,' Validation features shape:', tv_valid_features.shape)\n",
    "\n",
    "\n",
    "# Naïve Bayes Classifier\n",
    "Train_Accuracy, Valid_Accuracy=model.naive_bayes_model(tv_train_features, tv_valid_features, train_label, valid_label)\n",
    "print('TF-IDF + Stopword removal Train Accuracy >> ', Train_Accuracy)\n",
    "print('TF-IDF + Stopword removal Valid Accuracy >> ', Valid_Accuracy)\n",
    "\n",
    "#calculate the improvement in accuracy on validation data in %\n",
    "improvement = (Valid_Accuracy - Raw_Valid_Accuracy)/Raw_Valid_Accuracy\n",
    "print('Percentage improvement in Validation Accuracy >> ' , '%.15f' % (improvement * 100))"
   ]
  },
  {
   "cell_type": "markdown",
   "metadata": {},
   "source": [
    "<p style=\"color:red; font-size:16px;\">Snowball Stemmer</p>"
   ]
  },
  {
   "cell_type": "code",
   "execution_count": 28,
   "metadata": {},
   "outputs": [
    {
     "name": "stdout",
     "output_type": "stream",
     "text": [
      "TFIDF model:> Train features shape: (15383, 17239)  Validation features shape: (1922, 17239)\n",
      "TF-IDF + Snowball Stemmer Train Accuracy >>  0.7459533250991354\n",
      "TF-IDF + Snowball Stemmer Valid Accuracy >>  0.645681581685744\n",
      "Percentage improvement in Validation Accuracy >>  0.080645161290318\n"
     ]
    }
   ],
   "source": [
    "#Apply Snowball Stemmer on train data\n",
    "norm_train_corpus = pp.normalize_corpus(corpus=train_corpus, html_stripping=False, contraction_expansion=False,\n",
    "                      accented_char_removal=False, text_lower_case=False, \n",
    "                      text_lemmatization=False, special_char_removal=False, \n",
    "                      stopword_removal=False,text_stemming = True,stem='ss')\n",
    "\n",
    "#Apply Snowball Stemmer on validation data\n",
    "norm_valid_corpus = pp.normalize_corpus(corpus=valid_corpus, html_stripping=False, contraction_expansion=False,\n",
    "                      accented_char_removal=False, text_lower_case=False, \n",
    "                      text_lemmatization=False, special_char_removal=False, \n",
    "                      stopword_removal=False,text_stemming = True,stem='ss')\n",
    "\n",
    "# Use the new Data with TF-IDF\n",
    "tv_train_features,tv_valid_features = fe.tfidf_vectors(norm_train_corpus, norm_valid_corpus,ngram_range=(1,1),max_features=None)\n",
    "print('TFIDF model:> Train features shape:', tv_train_features.shape,' Validation features shape:', tv_valid_features.shape)\n",
    "\n",
    "\n",
    "# Naïve Bayes Classifier\n",
    "Train_Accuracy, Valid_Accuracy=model.naive_bayes_model(tv_train_features, tv_valid_features, train_label, valid_label)\n",
    "print('TF-IDF + Snowball Stemmer Train Accuracy >> ', Train_Accuracy)\n",
    "print('TF-IDF + Snowball Stemmer Valid Accuracy >> ', Valid_Accuracy)\n",
    "\n",
    "#calculate the improvement in accuracy on validation data in %\n",
    "improvement = (Valid_Accuracy - Raw_Valid_Accuracy)/Raw_Valid_Accuracy\n",
    "print('Percentage improvement in Validation Accuracy >> ' , '%.15f' %  (improvement * 100))"
   ]
  },
  {
   "cell_type": "markdown",
   "metadata": {},
   "source": [
    "<p style=\"color:red; font-size:16px;\">Lancaster Stemmer</p>"
   ]
  },
  {
   "cell_type": "code",
   "execution_count": 29,
   "metadata": {},
   "outputs": [
    {
     "name": "stdout",
     "output_type": "stream",
     "text": [
      "TFIDF model:> Train features shape: (15383, 14688)  Validation features shape: (1922, 14688)\n",
      "TF-IDF + Lancaster Stemmer Train Accuracy >>  0.7413378404732497\n",
      "TF-IDF + Lancaster Stemmer Valid Accuracy >>  0.645681581685744\n",
      "Percentage improvement in Validation Accuracy >>  0.080645161290318\n"
     ]
    }
   ],
   "source": [
    "#Apply Lancaster Stemmer on train data\n",
    "norm_train_corpus = pp.normalize_corpus(corpus=train_corpus, html_stripping=False, contraction_expansion=False,\n",
    "                      accented_char_removal=False, text_lower_case=False, \n",
    "                      text_lemmatization=False, special_char_removal=False, \n",
    "                      stopword_removal=False,text_stemming = True,stem='ls')\n",
    "\n",
    "#Apply Lancaster Stemmer on validation data\n",
    "norm_valid_corpus = pp.normalize_corpus(corpus=valid_corpus, html_stripping=False, contraction_expansion=False,\n",
    "                      accented_char_removal=False, text_lower_case=False, \n",
    "                      text_lemmatization=False, special_char_removal=False, \n",
    "                      stopword_removal=False,text_stemming = True,stem='ls')\n",
    "\n",
    "# Use the new Data with TF-IDF\n",
    "tv_train_features,tv_valid_features = fe.tfidf_vectors(norm_train_corpus, norm_valid_corpus,ngram_range=(1,1),max_features=None)\n",
    "print('TFIDF model:> Train features shape:', tv_train_features.shape,' Validation features shape:', tv_valid_features.shape)\n",
    "\n",
    "\n",
    "# Naïve Bayes Classifier\n",
    "Train_Accuracy, Valid_Accuracy=model.naive_bayes_model(tv_train_features, tv_valid_features, train_label, valid_label)\n",
    "print('TF-IDF + Lancaster Stemmer Train Accuracy >> ', Train_Accuracy)\n",
    "print('TF-IDF + Lancaster Stemmer Valid Accuracy >> ', Valid_Accuracy)\n",
    "\n",
    "#calculate the improvement in accuracy on validation data in %\n",
    "improvement = (Valid_Accuracy - Raw_Valid_Accuracy)/Raw_Valid_Accuracy\n",
    "print('Percentage improvement in Validation Accuracy >> ' , '%.15f' % (improvement * 100))"
   ]
  },
  {
   "cell_type": "markdown",
   "metadata": {},
   "source": [
    "<p style=\"color:red; font-size:16px;\">Porter Stemmer</p>"
   ]
  },
  {
   "cell_type": "code",
   "execution_count": 30,
   "metadata": {},
   "outputs": [
    {
     "name": "stdout",
     "output_type": "stream",
     "text": [
      "TFIDF model:> Train features shape: (15383, 17281)  Validation features shape: (1922, 17281)\n",
      "TF-IDF + Porter Stemmer Train Accuracy >>  0.7470584411363194\n",
      "TF-IDF + Porter Stemmer Valid Accuracy >>  0.6493236212278877\n",
      "Percentage improvement in Validation Accuracy >>  0.645161290322592\n"
     ]
    }
   ],
   "source": [
    "#Apply Porter Stemmer on train data\n",
    "norm_train_corpus = pp.normalize_corpus(corpus=train_corpus, html_stripping=False, contraction_expansion=False,\n",
    "                      accented_char_removal=False, text_lower_case=False, \n",
    "                      text_lemmatization=False, special_char_removal=False, \n",
    "                      stopword_removal=False,text_stemming = True,stem='ps')\n",
    "\n",
    "#Apply Porter Stemmer on validation data\n",
    "norm_valid_corpus = pp.normalize_corpus(corpus=valid_corpus, html_stripping=False, contraction_expansion=False,\n",
    "                      accented_char_removal=False, text_lower_case=False, \n",
    "                      text_lemmatization=False, special_char_removal=False, \n",
    "                      stopword_removal=False,text_stemming = True,stem='ps')\n",
    "\n",
    "# Use the new Data with TF-IDF\n",
    "tv_train_features,tv_valid_features = fe.tfidf_vectors(norm_train_corpus, norm_valid_corpus,ngram_range=(1,1),max_features=None)\n",
    "print('TFIDF model:> Train features shape:', tv_train_features.shape,' Validation features shape:', tv_valid_features.shape)\n",
    "\n",
    "\n",
    "# Naïve Bayes Classifier\n",
    "Train_Accuracy, Valid_Accuracy=model.naive_bayes_model(tv_train_features, tv_valid_features, train_label, valid_label)\n",
    "print('TF-IDF + Porter Stemmer Train Accuracy >> ', Train_Accuracy)\n",
    "print('TF-IDF + Porter Stemmer Valid Accuracy >> ', Valid_Accuracy)\n",
    "\n",
    "#calculate the improvement in accuracy on validation data in %\n",
    "improvement = (Valid_Accuracy - Raw_Valid_Accuracy)/Raw_Valid_Accuracy\n",
    "print('Percentage improvement in Validation Accuracy >> ' , '%.15f' % (improvement * 100))"
   ]
  },
  {
   "cell_type": "markdown",
   "metadata": {},
   "source": [
    "__Now we will try to combine the methods that improved the accuracy score  to see if the improvement would increase further__ <br/>\n",
    "\n",
    "\n",
    "*   Stopword removal\n",
    "*   Stemming (porter)"
   ]
  },
  {
   "cell_type": "markdown",
   "metadata": {},
   "source": [
    "<p style=\"color:red; font-size:16px;\">Combination of preprocessing techniques in the following order:</p>\n",
    "<p style=\"color:red; font-size:14px;\">1-Stemming(porter)</p>\n",
    "<p style=\"color:red; font-size:14px;\">2-Stopword removal</p>"
   ]
  },
  {
   "cell_type": "code",
   "execution_count": 31,
   "metadata": {},
   "outputs": [
    {
     "name": "stdout",
     "output_type": "stream",
     "text": [
      "TFIDF model:> Train features shape: (15383, 17136)  Validation features shape: (1922, 17136)\n",
      "TF-IDF + Combination Train Accuracy >>  0.7767665604888513\n",
      "TF-IDF + Combination Valid Accuracy >>  0.663891779396462\n",
      "Percentage improvement in Validation Accuracy >>  2.903225806451620\n"
     ]
    }
   ],
   "source": [
    "#Apply combination on train data\n",
    "norm_train_corpus = pp.normalize_corpus(corpus=train_corpus, html_stripping=False, contraction_expansion=False,\n",
    "                      accented_char_removal=True, text_lower_case=False, \n",
    "                      text_lemmatization=False, special_char_removal=False, \n",
    "                      stopword_removal=True,text_stemming = True,stem='ps')\n",
    "\n",
    "#Apply combination on validation data\n",
    "norm_valid_corpus = pp.normalize_corpus(corpus=valid_corpus, html_stripping=False, contraction_expansion=False,\n",
    "                      accented_char_removal=False, text_lower_case=False, \n",
    "                      text_lemmatization=False, special_char_removal=False, \n",
    "                      stopword_removal=True,text_stemming = True,stem='ps')\n",
    "\n",
    "# Use the new Data with TF-IDF\n",
    "tv_train_features,tv_valid_features = fe.tfidf_vectors(norm_train_corpus, norm_valid_corpus,ngram_range=(1,1),max_features=None)\n",
    "print('TFIDF model:> Train features shape:', tv_train_features.shape,' Validation features shape:', tv_valid_features.shape)\n",
    "\n",
    "\n",
    "# Naïve Bayes Classifier\n",
    "Train_Accuracy, Valid_Accuracy=model.naive_bayes_model(tv_train_features, tv_valid_features, train_label, valid_label)\n",
    "print('TF-IDF + Combination Train Accuracy >> ', Train_Accuracy)\n",
    "print('TF-IDF + Combination Valid Accuracy >> ', Valid_Accuracy)\n",
    "\n",
    "#calculate the improvement in accuracy on validation data in %\n",
    "improvement = (Valid_Accuracy - Raw_Valid_Accuracy)/Raw_Valid_Accuracy\n",
    "print('Percentage improvement in Validation Accuracy >> ' , '%.15f' % (improvement * 100))"
   ]
  },
  {
   "cell_type": "markdown",
   "metadata": {},
   "source": [
    "The accuracy percentage was increased by 2.9% when using the combination techniques which is less than the increase produced by \"stopword removal\" only, let's try a different combination, this time with a descending order of accuracy improvement:\n",
    "* 1-Stopword removal\n",
    "* 2-Stemmming"
   ]
  },
  {
   "cell_type": "code",
   "execution_count": 32,
   "metadata": {},
   "outputs": [],
   "source": [
    "#import the new local module\n",
    "import processing2 as pp2"
   ]
  },
  {
   "cell_type": "code",
   "execution_count": 33,
   "metadata": {},
   "outputs": [
    {
     "name": "stdout",
     "output_type": "stream",
     "text": [
      "TFIDF model:> Train features shape: (15383, 17188)  Validation features shape: (1922, 17188)\n",
      "TF-IDF + Combination Train Accuracy >>  0.7800169017746863\n",
      "TF-IDF + Combination Valid Accuracy >>  0.6690946930280958\n",
      "Percentage improvement in Validation Accuracy >>  3.709677419354847\n"
     ]
    }
   ],
   "source": [
    "#Apply combination on train data\n",
    "norm_train_corpus = pp2.normalize_corpus(corpus=train_corpus, html_stripping=False, contraction_expansion=False,\n",
    "                      accented_char_removal=False, text_lower_case=False, \n",
    "                      text_lemmatization=False, special_char_removal=False, \n",
    "                      stopword_removal=True,text_stemming = True,stem='ps')\n",
    "\n",
    "#Apply combination on validation data\n",
    "norm_valid_corpus = pp2.normalize_corpus(corpus=valid_corpus, html_stripping=False, contraction_expansion=False,\n",
    "                      accented_char_removal=False, text_lower_case=False, \n",
    "                      text_lemmatization=False, special_char_removal=False, \n",
    "                      stopword_removal=True,text_stemming = True,stem='ps')\n",
    "\n",
    "# Use the new Data with TF-IDF\n",
    "tv_train_features,tv_valid_features = fe.tfidf_vectors(norm_train_corpus, norm_valid_corpus,ngram_range=(1,1),max_features=None)\n",
    "print('TFIDF model:> Train features shape:', tv_train_features.shape,' Validation features shape:', tv_valid_features.shape)\n",
    "\n",
    "\n",
    "# Naïve Bayes Classifier\n",
    "Train_Accuracy, Valid_Accuracy=model.naive_bayes_model(tv_train_features, tv_valid_features, train_label, valid_label)\n",
    "print('TF-IDF + Combination Train Accuracy >> ', Train_Accuracy)\n",
    "print('TF-IDF + Combination Valid Accuracy >> ', Valid_Accuracy)\n",
    "\n",
    "#calculate the improvement in accuracy on validation data in %\n",
    "improvement = (Valid_Accuracy - Raw_Valid_Accuracy)/Raw_Valid_Accuracy\n",
    "print('Percentage improvement in Validation Accuracy >> ' , '%.15f' % (improvement * 100))"
   ]
  },
  {
   "cell_type": "markdown",
   "metadata": {},
   "source": [
    "The accuracy percentage was increased by 3.7% when using this combination technique which is the highest so far. This combination will be used for the rest of our study."
   ]
  },
  {
   "cell_type": "markdown",
   "metadata": {},
   "source": [
    "Generating the final preprocessed dataset that will be used"
   ]
  },
  {
   "cell_type": "code",
   "execution_count": 34,
   "metadata": {},
   "outputs": [],
   "source": [
    "#Apply combination on train data\n",
    "norm_train_corpus = pp2.normalize_corpus(corpus=train_corpus, html_stripping=False, contraction_expansion=False,\n",
    "                      accented_char_removal=False, text_lower_case=False, \n",
    "                      text_lemmatization=False, special_char_removal=False, \n",
    "                      stopword_removal=True,text_stemming = True,stem='ps')\n",
    "\n",
    "#Apply combination on validation data\n",
    "norm_valid_corpus = pp2.normalize_corpus(corpus=valid_corpus, html_stripping=False, contraction_expansion=False,\n",
    "                      accented_char_removal=False, text_lower_case=False, \n",
    "                      text_lemmatization=False, special_char_removal=False, \n",
    "                      stopword_removal=True,text_stemming = True,stem='ps')"
   ]
  },
  {
   "cell_type": "markdown",
   "metadata": {},
   "source": [
    "# <center>Feature Engineering & Classification Models</center>"
   ]
  },
  {
   "cell_type": "markdown",
   "metadata": {},
   "source": [
    "We will now experiment with different feature engineering & classification models"
   ]
  },
  {
   "cell_type": "markdown",
   "metadata": {},
   "source": [
    "## BOW (unigram)"
   ]
  },
  {
   "cell_type": "code",
   "execution_count": 35,
   "metadata": {},
   "outputs": [
    {
     "name": "stdout",
     "output_type": "stream",
     "text": [
      "Unigram BOW model:> Train features shape: (15383, 17188)  Validation features shape: (1922, 17188)\n"
     ]
    }
   ],
   "source": [
    "cv_train_features,cv_valid_features = fe.bow_vectors(norm_train_corpus, norm_valid_corpus,ngram_range=(1,1),max_features=None)\n",
    "print('Unigram BOW model:> Train features shape:', cv_train_features.shape,' Validation features shape:', cv_valid_features.shape)"
   ]
  },
  {
   "cell_type": "markdown",
   "metadata": {},
   "source": [
    "### Naive Bayes Multinomial"
   ]
  },
  {
   "cell_type": "code",
   "execution_count": 36,
   "metadata": {},
   "outputs": [
    {
     "name": "stdout",
     "output_type": "stream",
     "text": [
      "Unigram BoW + MNB Train mean CV AUC score >>  0.7755178393894233\n",
      "Unigram BoW + MNB Valid AUC score >>  0.8101290397151453\n",
      "Unigram BoW + MNB Valid Accuracy score >>  0.7232049947970863\n",
      "Unigram BoW + MNB Valid F1 score >>  0.7856567284448025\n"
     ]
    }
   ],
   "source": [
    "bow1_mnb_cv_mean_score, bow1_mnb_test_auc_score, bow1_mnb_test_accuracy_score, bow1_mnb_test_f1_score, bow1_mnb_test_prob, bow1_mnb_test_pred=models.naive_bayes_model(cv_train_features, cv_valid_features, train_label, valid_label,5)\n",
    "print('Unigram BoW + MNB Train mean CV AUC score >> ', bow1_mnb_cv_mean_score)\n",
    "print('Unigram BoW + MNB Valid AUC score >> ', bow1_mnb_test_auc_score)\n",
    "print('Unigram BoW + MNB Valid Accuracy score >> ', bow1_mnb_test_accuracy_score)\n",
    "print('Unigram BoW + MNB Valid F1 score >> ', bow1_mnb_test_f1_score)"
   ]
  },
  {
   "cell_type": "code",
   "execution_count": 37,
   "metadata": {},
   "outputs": [
    {
     "data": {
      "text/plain": [
       "<sklearn.metrics._plot.confusion_matrix.ConfusionMatrixDisplay at 0x20f6c4eddf0>"
      ]
     },
     "execution_count": 37,
     "metadata": {},
     "output_type": "execute_result"
    },
    {
     "data": {
      "image/png": "[encoded data removed]",
      "text/plain": [
       "<Figure size 432x288 with 2 Axes>"
      ]
     },
     "metadata": {
      "needs_background": "light"
     },
     "output_type": "display_data"
    }
   ],
   "source": [
    "#confusion matrix\n",
    "from sklearn.metrics import confusion_matrix, ConfusionMatrixDisplay\n",
    "cm = confusion_matrix(valid_label, bow1_mnb_test_pred)\n",
    "disp = ConfusionMatrixDisplay(confusion_matrix=cm)\n",
    "disp.plot()"
   ]
  },
  {
   "cell_type": "code",
   "execution_count": 38,
   "metadata": {},
   "outputs": [
    {
     "data": {
      "text/plain": [
       "Text(0, 0.5, 'TPR')"
      ]
     },
     "execution_count": 38,
     "metadata": {},
     "output_type": "execute_result"
    },
    {
     "data": {
      "image/png": "[encoded data removed]",
      "text/plain": [
       "<Figure size 432x288 with 1 Axes>"
      ]
     },
     "metadata": {
      "needs_background": "light"
     },
     "output_type": "display_data"
    }
   ],
   "source": [
    "#ROC Curve \n",
    "import matplotlib.pyplot as plt\n",
    "from sklearn.metrics import roc_curve\n",
    "fpr,tpr,thr=roc_curve(valid_label, bow1_mnb_test_prob[:,1])\n",
    "\n",
    "plt.plot(fpr,tpr)\n",
    "plt.xlim([-0.05,1.05])\n",
    "plt.ylim([-0.05,1.05])\n",
    "plt.plot([0,1],[0,1],'--')\n",
    "plt.xlabel(\"FPR\")\n",
    "plt.ylabel(\"TPR\")"
   ]
  },
  {
   "cell_type": "markdown",
   "metadata": {},
   "source": [
    "### Naive Bayes Complement"
   ]
  },
  {
   "cell_type": "code",
   "execution_count": 39,
   "metadata": {},
   "outputs": [
    {
     "name": "stdout",
     "output_type": "stream",
     "text": [
      "Unigram BoW + CNB Train mean CV AUC score >>  0.7755179707523132\n",
      "Unigram BoW + CNB Valid AUC score >>  0.8101290397151453\n",
      "Unigram BoW + CNB Valid Accuracy score >>  0.7351716961498439\n",
      "Unigram BoW + CNB Valid F1 score >>  0.7836804079898003\n"
     ]
    }
   ],
   "source": [
    "bow1_cnb_cv_mean_score, bow1_cnb_test_auc_score, bow1_cnb_test_accuracy_score, bow1_cnb_test_f1_score, bow1_cnb_test_prob, bow1_cnb_test_pred=models.naive_bayes_cnb(cv_train_features, cv_valid_features, train_label, valid_label,alpha=1,cv=5)\n",
    "print('Unigram BoW + CNB Train mean CV AUC score >> ', bow1_cnb_cv_mean_score)\n",
    "print('Unigram BoW + CNB Valid AUC score >> ', bow1_cnb_test_auc_score)\n",
    "print('Unigram BoW + CNB Valid Accuracy score >> ', bow1_cnb_test_accuracy_score)\n",
    "print('Unigram BoW + CNB Valid F1 score >> ', bow1_cnb_test_f1_score)"
   ]
  },
  {
   "cell_type": "code",
   "execution_count": 40,
   "metadata": {},
   "outputs": [
    {
     "data": {
      "text/plain": [
       "<sklearn.metrics._plot.confusion_matrix.ConfusionMatrixDisplay at 0x20f70b36c10>"
      ]
     },
     "execution_count": 40,
     "metadata": {},
     "output_type": "execute_result"
    },
    {
     "data": {
      "image/png": "[encoded data removed]",
      "text/plain": [
       "<Figure size 432x288 with 2 Axes>"
      ]
     },
     "metadata": {
      "needs_background": "light"
     },
     "output_type": "display_data"
    }
   ],
   "source": [
    "#confusion matrix\n",
    "from sklearn.metrics import confusion_matrix, ConfusionMatrixDisplay\n",
    "cm = confusion_matrix(valid_label, bow1_cnb_test_pred)\n",
    "disp = ConfusionMatrixDisplay(confusion_matrix=cm)\n",
    "disp.plot()"
   ]
  },
  {
   "cell_type": "code",
   "execution_count": 41,
   "metadata": {},
   "outputs": [
    {
     "data": {
      "text/plain": [
       "Text(0, 0.5, 'TPR')"
      ]
     },
     "execution_count": 41,
     "metadata": {},
     "output_type": "execute_result"
    },
    {
     "data": {
      "image/png": "[encoded data removed]",
      "text/plain": [
       "<Figure size 432x288 with 1 Axes>"
      ]
     },
     "metadata": {
      "needs_background": "light"
     },
     "output_type": "display_data"
    }
   ],
   "source": [
    "#ROC Curve \n",
    "import matplotlib.pyplot as plt\n",
    "from sklearn.metrics import roc_curve\n",
    "fpr,tpr,thr=roc_curve(valid_label, bow1_cnb_test_prob[:,1])\n",
    "\n",
    "plt.plot(fpr,tpr)\n",
    "plt.xlim([-0.05,1.05])\n",
    "plt.ylim([-0.05,1.05])\n",
    "plt.plot([0,1],[0,1],'--')\n",
    "plt.xlabel(\"FPR\")\n",
    "plt.ylabel(\"TPR\")"
   ]
  },
  {
   "cell_type": "markdown",
   "metadata": {},
   "source": [
    "### Logistic Regression"
   ]
  },
  {
   "cell_type": "code",
   "execution_count": 42,
   "metadata": {},
   "outputs": [
    {
     "name": "stdout",
     "output_type": "stream",
     "text": [
      "Unigram BoW + LR Train mean CV AUC score >>  0.7868137096518998\n",
      "Unigram BoW + LR Valid AUC score >>  0.8114015941718353\n",
      "Unigram BoW + LR Valid Accuracy score >>  0.7471383975026015\n",
      "Unigram BoW + LR Valid F1 score >>  0.7874015748031495\n"
     ]
    }
   ],
   "source": [
    "bow1_lr_cv_mean_score, bow1_lr_test_auc_score, bow1_lr_test_accuracy_score, bow1_lr_test_f1_score, bow1_lr_test_prob, bow1_lr_test_pred=models.logistic_model(cv_train_features, cv_valid_features, train_label, valid_label,5)\n",
    "print('Unigram BoW + LR Train mean CV AUC score >> ', bow1_lr_cv_mean_score)\n",
    "print('Unigram BoW + LR Valid AUC score >> ', bow1_lr_test_auc_score)\n",
    "print('Unigram BoW + LR Valid Accuracy score >> ', bow1_lr_test_accuracy_score)\n",
    "print('Unigram BoW + LR Valid F1 score >> ', bow1_lr_test_f1_score)"
   ]
  },
  {
   "cell_type": "code",
   "execution_count": 43,
   "metadata": {},
   "outputs": [
    {
     "data": {
      "text/plain": [
       "<sklearn.metrics._plot.confusion_matrix.ConfusionMatrixDisplay at 0x20f6e5b0790>"
      ]
     },
     "execution_count": 43,
     "metadata": {},
     "output_type": "execute_result"
    },
    {
     "data": {
      "image/png": "[encoded data removed]",
      "text/plain": [
       "<Figure size 432x288 with 2 Axes>"
      ]
     },
     "metadata": {
      "needs_background": "light"
     },
     "output_type": "display_data"
    }
   ],
   "source": [
    "#confusion matrix\n",
    "from sklearn.metrics import confusion_matrix, ConfusionMatrixDisplay\n",
    "cm = confusion_matrix(valid_label, bow1_lr_test_pred)\n",
    "disp = ConfusionMatrixDisplay(confusion_matrix=cm)\n",
    "disp.plot()"
   ]
  },
  {
   "cell_type": "code",
   "execution_count": 44,
   "metadata": {},
   "outputs": [
    {
     "data": {
      "text/plain": [
       "Text(0, 0.5, 'TPR')"
      ]
     },
     "execution_count": 44,
     "metadata": {},
     "output_type": "execute_result"
    },
    {
     "data": {
      "image/png": "[encoded data removed]",
      "text/plain": [
       "<Figure size 432x288 with 1 Axes>"
      ]
     },
     "metadata": {
      "needs_background": "light"
     },
     "output_type": "display_data"
    }
   ],
   "source": [
    "#ROC Curve \n",
    "import matplotlib.pyplot as plt\n",
    "from sklearn.metrics import roc_curve\n",
    "fpr,tpr,thr=roc_curve(valid_label, bow1_lr_test_prob[:,1])\n",
    "\n",
    "plt.plot(fpr,tpr)\n",
    "plt.xlim([-0.05,1.05])\n",
    "plt.ylim([-0.05,1.05])\n",
    "plt.plot([0,1],[0,1],'--')\n",
    "plt.xlabel(\"FPR\")\n",
    "plt.ylabel(\"TPR\")"
   ]
  },
  {
   "cell_type": "markdown",
   "metadata": {},
   "source": [
    "### SVM"
   ]
  },
  {
   "cell_type": "code",
   "execution_count": 45,
   "metadata": {},
   "outputs": [
    {
     "name": "stderr",
     "output_type": "stream",
     "text": [
      "C:\\Users\\Abou Assaly\\anaconda3\\lib\\site-packages\\sklearn\\svm\\_base.py:976: ConvergenceWarning: Liblinear failed to converge, increase the number of iterations.\n",
      "  warnings.warn(\"Liblinear failed to converge, increase \"\n",
      "C:\\Users\\Abou Assaly\\anaconda3\\lib\\site-packages\\sklearn\\svm\\_base.py:976: ConvergenceWarning: Liblinear failed to converge, increase the number of iterations.\n",
      "  warnings.warn(\"Liblinear failed to converge, increase \"\n",
      "C:\\Users\\Abou Assaly\\anaconda3\\lib\\site-packages\\sklearn\\svm\\_base.py:976: ConvergenceWarning: Liblinear failed to converge, increase the number of iterations.\n",
      "  warnings.warn(\"Liblinear failed to converge, increase \"\n",
      "C:\\Users\\Abou Assaly\\anaconda3\\lib\\site-packages\\sklearn\\svm\\_base.py:976: ConvergenceWarning: Liblinear failed to converge, increase the number of iterations.\n",
      "  warnings.warn(\"Liblinear failed to converge, increase \"\n"
     ]
    },
    {
     "name": "stdout",
     "output_type": "stream",
     "text": [
      "Unigram BoW + SVM Train mean CV AUC score >>  0.7506531479479762\n",
      "Unigram BoW + SVM Valid AUC score >>  0.7669485962063514\n",
      "Unigram BoW + SVM Valid Accuracy score >>  0.7148803329864725\n",
      "Unigram BoW + SVM Valid F1 score >>  0.7606986899563317\n"
     ]
    },
    {
     "name": "stderr",
     "output_type": "stream",
     "text": [
      "C:\\Users\\Abou Assaly\\anaconda3\\lib\\site-packages\\sklearn\\svm\\_base.py:976: ConvergenceWarning: Liblinear failed to converge, increase the number of iterations.\n",
      "  warnings.warn(\"Liblinear failed to converge, increase \"\n"
     ]
    }
   ],
   "source": [
    "bow1_svm_cv_mean_score, bow1_svm_test_auc_score, bow1_svm_test_accuracy_score, bow1_svm_test_f1_score,bow1_svm_test_df, bow1_svm_test_pred=models.svm_model(cv_train_features, cv_valid_features, train_label, valid_label,5)\n",
    "print('Unigram BoW + SVM Train mean CV AUC score >> ', bow1_svm_cv_mean_score)\n",
    "print('Unigram BoW + SVM Valid AUC score >> ', bow1_svm_test_auc_score)\n",
    "print('Unigram BoW + SVM Valid Accuracy score >> ', bow1_svm_test_accuracy_score)\n",
    "print('Unigram BoW + SVM Valid F1 score >> ', bow1_svm_test_f1_score)"
   ]
  },
  {
   "cell_type": "code",
   "execution_count": 46,
   "metadata": {},
   "outputs": [
    {
     "data": {
      "text/plain": [
       "<sklearn.metrics._plot.confusion_matrix.ConfusionMatrixDisplay at 0x20f70a5ec70>"
      ]
     },
     "execution_count": 46,
     "metadata": {},
     "output_type": "execute_result"
    },
    {
     "data": {
      "image/png": "[encoded data removed]",
      "text/plain": [
       "<Figure size 432x288 with 2 Axes>"
      ]
     },
     "metadata": {
      "needs_background": "light"
     },
     "output_type": "display_data"
    }
   ],
   "source": [
    "#confusion matrix\n",
    "from sklearn.metrics import confusion_matrix, ConfusionMatrixDisplay\n",
    "cm = confusion_matrix(valid_label, bow1_svm_test_pred)\n",
    "disp = ConfusionMatrixDisplay(confusion_matrix=cm)\n",
    "disp.plot()"
   ]
  },
  {
   "cell_type": "code",
   "execution_count": 47,
   "metadata": {
    "scrolled": false
   },
   "outputs": [
    {
     "data": {
      "text/plain": [
       "Text(0, 0.5, 'TPR')"
      ]
     },
     "execution_count": 47,
     "metadata": {},
     "output_type": "execute_result"
    },
    {
     "data": {
      "image/png": "[encoded data removed]",
      "text/plain": [
       "<Figure size 432x288 with 1 Axes>"
      ]
     },
     "metadata": {
      "needs_background": "light"
     },
     "output_type": "display_data"
    }
   ],
   "source": [
    "#ROC Curve \n",
    "import matplotlib.pyplot as plt\n",
    "from sklearn.metrics import roc_curve\n",
    "fpr,tpr,thr=roc_curve(valid_label, bow1_svm_test_df)\n",
    "\n",
    "plt.plot(fpr,tpr)\n",
    "plt.xlim([-0.05,1.05])\n",
    "plt.ylim([-0.05,1.05])\n",
    "plt.plot([0,1],[0,1],'--')\n",
    "plt.xlabel(\"FPR\")\n",
    "plt.ylabel(\"TPR\")"
   ]
  },
  {
   "cell_type": "markdown",
   "metadata": {},
   "source": [
    "### SVM with Stochastic Gradient Descent"
   ]
  },
  {
   "cell_type": "code",
   "execution_count": 48,
   "metadata": {},
   "outputs": [
    {
     "name": "stdout",
     "output_type": "stream",
     "text": [
      "Unigram BoW + SVM_SGD Train mean CV AUC score >>  0.7478696815731902\n",
      "Unigram BoW + SVM_SGD Valid AUC score >>  0.7633346088802755\n",
      "Unigram BoW + SVM_SGD Valid Accuracy score >>  0.7117585848074922\n",
      "Unigram BoW + SVM_SGD Valid F1 score >>  0.7582897033158814\n"
     ]
    }
   ],
   "source": [
    "bow1_svm_sgd_cv_mean_score, bow1_svm_sgd_test_auc_score, bow1_svm_sgd_test_accuracy_score, bow1_svm_sgd_test_f1_score, bow1_svm_sgd_test_prob, bow1_svm_sgd_test_pred=models.svm_sgd_model(cv_train_features, cv_valid_features, train_label, valid_label,5)\n",
    "print('Unigram BoW + SVM_SGD Train mean CV AUC score >> ', bow1_svm_sgd_cv_mean_score)\n",
    "print('Unigram BoW + SVM_SGD Valid AUC score >> ', bow1_svm_sgd_test_auc_score)\n",
    "print('Unigram BoW + SVM_SGD Valid Accuracy score >> ', bow1_svm_sgd_test_accuracy_score)\n",
    "print('Unigram BoW + SVM_SGD Valid F1 score >> ', bow1_svm_sgd_test_f1_score)"
   ]
  },
  {
   "cell_type": "code",
   "execution_count": 49,
   "metadata": {},
   "outputs": [
    {
     "data": {
      "text/plain": [
       "<sklearn.metrics._plot.confusion_matrix.ConfusionMatrixDisplay at 0x20f6f41a640>"
      ]
     },
     "execution_count": 49,
     "metadata": {},
     "output_type": "execute_result"
    },
    {
     "data": {
      "image/png": "[encoded data removed]",
      "text/plain": [
       "<Figure size 432x288 with 2 Axes>"
      ]
     },
     "metadata": {
      "needs_background": "light"
     },
     "output_type": "display_data"
    }
   ],
   "source": [
    "#confusion matrix\n",
    "from sklearn.metrics import confusion_matrix, ConfusionMatrixDisplay\n",
    "cm = confusion_matrix(valid_label, bow1_svm_sgd_test_pred)\n",
    "disp = ConfusionMatrixDisplay(confusion_matrix=cm)\n",
    "disp.plot()"
   ]
  },
  {
   "cell_type": "code",
   "execution_count": 50,
   "metadata": {},
   "outputs": [
    {
     "data": {
      "text/plain": [
       "Text(0, 0.5, 'TPR')"
      ]
     },
     "execution_count": 50,
     "metadata": {},
     "output_type": "execute_result"
    },
    {
     "data": {
      "image/png": "[encoded data removed]",
      "text/plain": [
       "<Figure size 432x288 with 1 Axes>"
      ]
     },
     "metadata": {
      "needs_background": "light"
     },
     "output_type": "display_data"
    }
   ],
   "source": [
    "#ROC Curve \n",
    "import matplotlib.pyplot as plt\n",
    "from sklearn.metrics import roc_curve\n",
    "fpr,tpr,thr=roc_curve(valid_label, bow1_svm_sgd_test_prob[:,1])\n",
    "\n",
    "plt.plot(fpr,tpr)\n",
    "plt.xlim([-0.05,1.05])\n",
    "plt.ylim([-0.05,1.05])\n",
    "plt.plot([0,1],[0,1],'--')\n",
    "plt.xlabel(\"FPR\")\n",
    "plt.ylabel(\"TPR\")"
   ]
  },
  {
   "cell_type": "markdown",
   "metadata": {},
   "source": [
    "### KNN"
   ]
  },
  {
   "cell_type": "code",
   "execution_count": 51,
   "metadata": {},
   "outputs": [
    {
     "name": "stdout",
     "output_type": "stream",
     "text": [
      "Unigram BoW + KNN Train mean CV AUC score >>  0.6654960606079152\n",
      "Unigram BoW + KNN Valid AUC score >>  0.6877601358289167\n",
      "Unigram BoW + KNN Valid Accuracy score >>  0.6222684703433923\n",
      "Unigram BoW + KNN Valid F1 score >>  0.6234439834024896\n"
     ]
    }
   ],
   "source": [
    "bow1_knn_cv_mean_score, bow1_knn_test_auc_score, bow1_knn_test_accuracy_score, bow1_knn_test_f1_score, bow1_knn_test_prob, bow1_knn_test_pred=models.knn_model(cv_train_features, cv_valid_features, train_label, valid_label,5,5)\n",
    "print('Unigram BoW + KNN Train mean CV AUC score >> ', bow1_knn_cv_mean_score)\n",
    "print('Unigram BoW + KNN Valid AUC score >> ', bow1_knn_test_auc_score)\n",
    "print('Unigram BoW + KNN Valid Accuracy score >> ', bow1_knn_test_accuracy_score)\n",
    "print('Unigram BoW + KNN Valid F1 score >> ', bow1_knn_test_f1_score)"
   ]
  },
  {
   "cell_type": "code",
   "execution_count": 52,
   "metadata": {},
   "outputs": [
    {
     "data": {
      "text/plain": [
       "<sklearn.metrics._plot.confusion_matrix.ConfusionMatrixDisplay at 0x20f6f47a520>"
      ]
     },
     "execution_count": 52,
     "metadata": {},
     "output_type": "execute_result"
    },
    {
     "data": {
      "image/png": "[encoded data removed]",
      "text/plain": [
       "<Figure size 432x288 with 2 Axes>"
      ]
     },
     "metadata": {
      "needs_background": "light"
     },
     "output_type": "display_data"
    }
   ],
   "source": [
    "#confusion matrix\n",
    "from sklearn.metrics import confusion_matrix, ConfusionMatrixDisplay\n",
    "cm = confusion_matrix(valid_label, bow1_knn_test_pred)\n",
    "disp = ConfusionMatrixDisplay(confusion_matrix=cm)\n",
    "disp.plot()"
   ]
  },
  {
   "cell_type": "code",
   "execution_count": 53,
   "metadata": {},
   "outputs": [
    {
     "data": {
      "text/plain": [
       "Text(0, 0.5, 'TPR')"
      ]
     },
     "execution_count": 53,
     "metadata": {},
     "output_type": "execute_result"
    },
    {
     "data": {
      "image/png": "[encoded data removed]",
      "text/plain": [
       "<Figure size 432x288 with 1 Axes>"
      ]
     },
     "metadata": {
      "needs_background": "light"
     },
     "output_type": "display_data"
    }
   ],
   "source": [
    "#ROC Curve \n",
    "import matplotlib.pyplot as plt\n",
    "from sklearn.metrics import roc_curve\n",
    "fpr,tpr,thr=roc_curve(valid_label, bow1_knn_test_prob[:,1])\n",
    "\n",
    "plt.plot(fpr,tpr)\n",
    "plt.xlim([-0.05,1.05])\n",
    "plt.ylim([-0.05,1.05])\n",
    "plt.plot([0,1],[0,1],'--')\n",
    "plt.xlabel(\"FPR\")\n",
    "plt.ylabel(\"TPR\")"
   ]
  },
  {
   "cell_type": "markdown",
   "metadata": {},
   "source": [
    "### Random Forest"
   ]
  },
  {
   "cell_type": "code",
   "execution_count": 54,
   "metadata": {},
   "outputs": [
    {
     "name": "stdout",
     "output_type": "stream",
     "text": [
      "Unigram BoW + RFC Train mean CV AUC score >>  0.750844281910898\n",
      "Unigram BoW + RFC Valid AUC score >>  0.7640752490402538\n",
      "Unigram BoW + RFC Valid Accuracy score >>  0.6914672216441207\n",
      "Unigram BoW + RFC Valid F1 score >>  0.722248243559719\n"
     ]
    }
   ],
   "source": [
    "bow1_rfc_cv_mean_score, bow1_rfc_test_auc_score, bow1_rfc_test_accuracy_score, bow1_rfc_test_f1_score, bow1_rfc_test_prob, bow1_rfc_test_pred=models.random_forest_model(cv_train_features, cv_valid_features, train_label, valid_label,5)\n",
    "print('Unigram BoW + RFC Train mean CV AUC score >> ', bow1_rfc_cv_mean_score)\n",
    "print('Unigram BoW + RFC Valid AUC score >> ', bow1_rfc_test_auc_score)\n",
    "print('Unigram BoW + RFC Valid Accuracy score >> ', bow1_rfc_test_accuracy_score)\n",
    "print('Unigram BoW + RFC Valid F1 score >> ', bow1_rfc_test_f1_score)"
   ]
  },
  {
   "cell_type": "markdown",
   "metadata": {},
   "source": [
    "### Gradient Boosting"
   ]
  },
  {
   "cell_type": "code",
   "execution_count": 55,
   "metadata": {},
   "outputs": [
    {
     "name": "stdout",
     "output_type": "stream",
     "text": [
      "Unigram BoW + GBC Train mean CV AUC score >>  0.677118566694101\n",
      "Unigram BoW + GBC Valid AUC score >>  0.6858081001345496\n",
      "Unigram BoW + GBC Valid Accuracy score >>  0.5936524453694069\n",
      "Unigram BoW + GBC Valid F1 score >>  0.7450212210251388\n"
     ]
    }
   ],
   "source": [
    "bow1_gbc_cv_mean_score, bow1_gbc_test_auc_score, bow1_gbc_test_accuracy_score, bow1_gbc_test_f1_score, bow1_gbc_test_prob, bow1_gbc_test_pred=models.gradient_boosting_model(cv_train_features, cv_valid_features, train_label, valid_label,5)\n",
    "print('Unigram BoW + GBC Train mean CV AUC score >> ', bow1_gbc_cv_mean_score)\n",
    "print('Unigram BoW + GBC Valid AUC score >> ', bow1_gbc_test_auc_score)\n",
    "print('Unigram BoW + GBC Valid Accuracy score >> ', bow1_gbc_test_accuracy_score)\n",
    "print('Unigram BoW + GBC Valid F1 score >> ', bow1_gbc_test_f1_score)"
   ]
  },
  {
   "cell_type": "markdown",
   "metadata": {},
   "source": [
    "## BOW (bigram)"
   ]
  },
  {
   "cell_type": "code",
   "execution_count": 56,
   "metadata": {},
   "outputs": [
    {
     "name": "stdout",
     "output_type": "stream",
     "text": [
      "Bigram BOW model:> Train features shape: (15383, 134633)  Validation features shape: (1922, 134633)\n"
     ]
    }
   ],
   "source": [
    "cv2_train_features,cv2_valid_features = fe.bow_vectors(norm_train_corpus, norm_valid_corpus,ngram_range=(2,2),max_features=None)\n",
    "print('Bigram BOW model:> Train features shape:', cv2_train_features.shape,' Validation features shape:', cv2_valid_features.shape)"
   ]
  },
  {
   "cell_type": "markdown",
   "metadata": {},
   "source": [
    "### Naive Bayes Multinomial"
   ]
  },
  {
   "cell_type": "code",
   "execution_count": 57,
   "metadata": {},
   "outputs": [
    {
     "name": "stdout",
     "output_type": "stream",
     "text": [
      "Bigram BoW + MNB Train mean CV AUC score >>  0.6521944281471752\n",
      "Bigram BoW + MNB Valid AUC score >>  0.73373930139678\n",
      "Bigram BoW + MNB Valid Accuracy score >>  0.6701352757544224\n",
      "Bigram BoW + MNB Valid F1 score >>  0.7501970055161545\n"
     ]
    }
   ],
   "source": [
    "bow2_mnb_cv_mean_score, bow2_mnb_test_auc_score, bow2_mnb_test_accuracy_score, bow2_mnb_test_f1_score, bow2_mnb_test_prob, bow2_mnb_test_pred=models.naive_bayes_model(cv2_train_features, cv2_valid_features, train_label, valid_label,5)\n",
    "print('Bigram BoW + MNB Train mean CV AUC score >> ', bow2_mnb_cv_mean_score)\n",
    "print('Bigram BoW + MNB Valid AUC score >> ', bow2_mnb_test_auc_score)\n",
    "print('Bigram BoW + MNB Valid Accuracy score >> ', bow2_mnb_test_accuracy_score)\n",
    "print('Bigram BoW + MNB Valid F1 score >> ', bow2_mnb_test_f1_score)"
   ]
  },
  {
   "cell_type": "markdown",
   "metadata": {},
   "source": [
    "### Naive Bayes Complement"
   ]
  },
  {
   "cell_type": "code",
   "execution_count": 58,
   "metadata": {},
   "outputs": [
    {
     "name": "stdout",
     "output_type": "stream",
     "text": [
      "Bigram BoW + CNB Train mean CV AUC score >>  0.6521927637560931\n",
      "Bigram BoW + CNB Valid AUC score >>  0.7337533286725371\n",
      "Bigram BoW + CNB Valid Accuracy score >>  0.6768990634755463\n",
      "Bigram BoW + CNB Valid F1 score >>  0.7136929460580913\n"
     ]
    }
   ],
   "source": [
    "bow2_cnb_cv_mean_score, bow2_cnb_test_auc_score, bow2_cnb_test_accuracy_score, bow2_cnb_test_f1_score, bow2_cnb_test_prob, bow2_cnb_test_pred=models.naive_bayes_cnb(cv2_train_features, cv2_valid_features, train_label, valid_label,alpha=1,cv=5)\n",
    "print('Bigram BoW + CNB Train mean CV AUC score >> ', bow2_cnb_cv_mean_score)\n",
    "print('Bigram BoW + CNB Valid AUC score >> ', bow2_cnb_test_auc_score)\n",
    "print('Bigram BoW + CNB Valid Accuracy score >> ', bow2_cnb_test_accuracy_score)\n",
    "print('Bigram BoW + CNB Valid F1 score >> ', bow2_cnb_test_f1_score)"
   ]
  },
  {
   "cell_type": "markdown",
   "metadata": {},
   "source": [
    "### Logistic Regression"
   ]
  },
  {
   "cell_type": "code",
   "execution_count": 59,
   "metadata": {},
   "outputs": [
    {
     "name": "stdout",
     "output_type": "stream",
     "text": [
      "Bigram BoW + LR Train mean CV AUC score >>  0.6777961651083689\n",
      "Bigram BoW + LR Valid AUC score >>  0.7275673000636278\n",
      "Bigram BoW + LR Valid Accuracy score >>  0.6514047866805411\n",
      "Bigram BoW + LR Valid F1 score >>  0.7488755622188905\n"
     ]
    }
   ],
   "source": [
    "bow2_lr_cv_mean_score, bow2_lr_test_auc_score, bow2_lr_test_accuracy_score, bow2_lr_test_f1_score, bow2_lr_test_prob, bow2_lr_test_pred=models.logistic_model(cv2_train_features, cv2_valid_features, train_label, valid_label,5)\n",
    "print('Bigram BoW + LR Train mean CV AUC score >> ', bow2_lr_cv_mean_score)\n",
    "print('Bigram BoW + LR Valid AUC score >> ', bow2_lr_test_auc_score)\n",
    "print('Bigram BoW + LR Valid Accuracy score >> ', bow2_lr_test_accuracy_score)\n",
    "print('Bigram BoW + LR Valid F1 score >> ', bow2_lr_test_f1_score)"
   ]
  },
  {
   "cell_type": "markdown",
   "metadata": {},
   "source": [
    "### SVM"
   ]
  },
  {
   "cell_type": "code",
   "execution_count": 60,
   "metadata": {},
   "outputs": [
    {
     "name": "stdout",
     "output_type": "stream",
     "text": [
      "Bigram BoW + SVM Train mean CV AUC score >>  0.664711900862683\n",
      "Bigram BoW + SVM Valid AUC score >>  0.7056364960538468\n",
      "Bigram BoW + SVM Valid Accuracy score >>  0.6555671175858481\n",
      "Bigram BoW + SVM Valid F1 score >>  0.7284659557013946\n"
     ]
    }
   ],
   "source": [
    "bow2_svm_cv_mean_score, bow2_svm_test_auc_score, bow2_svm_test_accuracy_score, bow2_svm_test_f1_score,bow2_svm_test_df, bow2_svm_test_pred=models.svm_model(cv2_train_features, cv2_valid_features, train_label, valid_label,5)\n",
    "print('Bigram BoW + SVM Train mean CV AUC score >> ', bow2_svm_cv_mean_score)\n",
    "print('Bigram BoW + SVM Valid AUC score >> ', bow2_svm_test_auc_score)\n",
    "print('Bigram BoW + SVM Valid Accuracy score >> ', bow2_svm_test_accuracy_score)\n",
    "print('Bigram BoW + SVM Valid F1 score >> ', bow2_svm_test_f1_score)"
   ]
  },
  {
   "cell_type": "markdown",
   "metadata": {},
   "source": [
    "### SVM with Stochastic Gradient Descent"
   ]
  },
  {
   "cell_type": "code",
   "execution_count": 61,
   "metadata": {},
   "outputs": [
    {
     "name": "stdout",
     "output_type": "stream",
     "text": [
      "Bigram BoW + SVM_SGD Train mean CV AUC score >>  0.6575962963929355\n",
      "Bigram BoW + SVM_SGD Valid AUC score >>  0.7018283712312919\n",
      "Bigram BoW + SVM_SGD Valid Accuracy score >>  0.6524453694068678\n",
      "Bigram BoW + SVM_SGD Valid F1 score >>  0.7269010629599346\n"
     ]
    }
   ],
   "source": [
    "bow2_svm_sgd_cv_mean_score, bow2_svm_sgd_test_auc_score, bow2_svm_sgd_test_accuracy_score, bow2_svm_sgd_test_f1_score, bow2_svm_sgd_test_prob, bow2_svm_sgd_test_pred=models.svm_sgd_model(cv2_train_features, cv2_valid_features, train_label, valid_label,5)\n",
    "print('Bigram BoW + SVM_SGD Train mean CV AUC score >> ', bow2_svm_sgd_cv_mean_score)\n",
    "print('Bigram BoW + SVM_SGD Valid AUC score >> ', bow2_svm_sgd_test_auc_score)\n",
    "print('Bigram BoW + SVM_SGD Valid Accuracy score >> ', bow2_svm_sgd_test_accuracy_score)\n",
    "print('Bigram BoW + SVM_SGD Valid F1 score >> ', bow2_svm_sgd_test_f1_score)"
   ]
  },
  {
   "cell_type": "markdown",
   "metadata": {},
   "source": [
    "### KNN"
   ]
  },
  {
   "cell_type": "code",
   "execution_count": 62,
   "metadata": {},
   "outputs": [
    {
     "name": "stdout",
     "output_type": "stream",
     "text": [
      "Bigram BoW + KNN Train mean CV AUC score >>  0.5179772737680342\n",
      "Bigram BoW + KNN Valid AUC score >>  0.5048124777667679\n",
      "Bigram BoW + KNN Valid Accuracy score >>  0.5135275754422477\n",
      "Bigram BoW + KNN Valid F1 score >>  0.5868316394167036\n"
     ]
    }
   ],
   "source": [
    "bow2_knn_cv_mean_score, bow2_knn_test_auc_score, bow2_knn_test_accuracy_score, bow2_knn_test_f1_score, bow2_knn_test_prob, bow2_knn_test_pred=models.knn_model(cv2_train_features, cv2_valid_features, train_label, valid_label,5,5)\n",
    "print('Bigram BoW + KNN Train mean CV AUC score >> ', bow2_knn_cv_mean_score)\n",
    "print('Bigram BoW + KNN Valid AUC score >> ', bow2_knn_test_auc_score)\n",
    "print('Bigram BoW + KNN Valid Accuracy score >> ', bow2_knn_test_accuracy_score)\n",
    "print('Bigram BoW + KNN Valid F1 score >> ', bow2_knn_test_f1_score)"
   ]
  },
  {
   "cell_type": "markdown",
   "metadata": {},
   "source": [
    "### Random Forest"
   ]
  },
  {
   "cell_type": "code",
   "execution_count": 63,
   "metadata": {},
   "outputs": [
    {
     "name": "stdout",
     "output_type": "stream",
     "text": [
      "Bigram BoW + RFC Train mean CV AUC score >>  0.6190466104743473\n",
      "Bigram BoW + RFC Valid AUC score >>  0.6682824218035486\n",
      "Bigram BoW + RFC Valid Accuracy score >>  0.5967741935483871\n",
      "Bigram BoW + RFC Valid F1 score >>  0.6003094378545643\n"
     ]
    }
   ],
   "source": [
    "bow2_rfc_cv_mean_score, bow2_rfc_test_auc_score, bow2_rfc_test_accuracy_score, bow2_rfc_test_f1_score, bow2_rfc_test_prob, bow2_rfc_test_pred=models.random_forest_model(cv2_train_features, cv2_valid_features, train_label, valid_label,5)\n",
    "print('Bigram BoW + RFC Train mean CV AUC score >> ', bow2_rfc_cv_mean_score)\n",
    "print('Bigram BoW + RFC Valid AUC score >> ', bow2_rfc_test_auc_score)\n",
    "print('Bigram BoW + RFC Valid Accuracy score >> ', bow2_rfc_test_accuracy_score)\n",
    "print('Bigram BoW + RFC Valid F1 score >> ', bow2_rfc_test_f1_score)"
   ]
  },
  {
   "cell_type": "markdown",
   "metadata": {},
   "source": [
    "### Gradient Boosting"
   ]
  },
  {
   "cell_type": "code",
   "execution_count": 64,
   "metadata": {},
   "outputs": [
    {
     "name": "stdout",
     "output_type": "stream",
     "text": [
      "Bigram BoW + GBC Train mean CV AUC score >>  0.5313592735520496\n",
      "Bigram BoW + GBC Valid AUC score >>  0.5407183760678964\n",
      "Bigram BoW + GBC Valid Accuracy score >>  0.6019771071800208\n",
      "Bigram BoW + GBC Valid F1 score >>  0.7474413998019149\n"
     ]
    }
   ],
   "source": [
    "bow2_gbc_cv_mean_score, bow2_gbc_test_auc_score, bow2_gbc_test_accuracy_score, bow2_gbc_test_f1_score, bow2_gbc_test_prob, bow2_gbc_test_pred=models.gradient_boosting_model(cv2_train_features, cv2_valid_features, train_label, valid_label,5)\n",
    "print('Bigram BoW + GBC Train mean CV AUC score >> ', bow2_gbc_cv_mean_score)\n",
    "print('Bigram BoW + GBC Valid AUC score >> ', bow2_gbc_test_auc_score)\n",
    "print('Bigram BoW + GBC Valid Accuracy score >> ', bow2_gbc_test_accuracy_score)\n",
    "print('Bigram BoW + GBC Valid F1 score >> ', bow2_gbc_test_f1_score)"
   ]
  },
  {
   "cell_type": "markdown",
   "metadata": {},
   "source": [
    "## TF-IDF (unigram)"
   ]
  },
  {
   "cell_type": "code",
   "execution_count": 65,
   "metadata": {},
   "outputs": [
    {
     "name": "stdout",
     "output_type": "stream",
     "text": [
      "TFIDF model:> Train features shape: (15383, 17188)  Validation features shape: (1922, 17188)\n"
     ]
    }
   ],
   "source": [
    "tv_train_features,tv_valid_features = fe.tfidf_vectors(norm_train_corpus, norm_valid_corpus,ngram_range=(1,1),max_features=None)\n",
    "print('TFIDF model:> Train features shape:', tv_train_features.shape,' Validation features shape:', tv_valid_features.shape)"
   ]
  },
  {
   "cell_type": "markdown",
   "metadata": {},
   "source": [
    "### Naive Bayes Multinomial"
   ]
  },
  {
   "cell_type": "code",
   "execution_count": 66,
   "metadata": {},
   "outputs": [
    {
     "name": "stdout",
     "output_type": "stream",
     "text": [
      "Unigram Tf-IDF + MNB Train mean CV AUC score >>  0.767443897632152\n",
      "Unigram Tf-IDF + MNB Valid AUC score >>  0.8009400519121421\n",
      "Unigram Tf-IDF + MNB Valid Accuracy score >>  0.6690946930280958\n",
      "Unigram Tf-IDF + MNB Valid F1 score >>  0.7752650176678446\n"
     ]
    }
   ],
   "source": [
    "tv_mnb_cv_mean_score, tv_mnb_test_auc_score, tv_mnb_test_accuracy_score, tv_mnb_test_f1_score, tv_mnb_test_prob, tv_mnb_test_pred=models.naive_bayes_model(tv_train_features, tv_valid_features, train_label, valid_label,5)\n",
    "print('Unigram Tf-IDF + MNB Train mean CV AUC score >> ', tv_mnb_cv_mean_score)\n",
    "print('Unigram Tf-IDF + MNB Valid AUC score >> ', tv_mnb_test_auc_score)\n",
    "print('Unigram Tf-IDF + MNB Valid Accuracy score >> ', tv_mnb_test_accuracy_score)\n",
    "print('Unigram Tf-IDF + MNB Valid F1 score >> ', tv_mnb_test_f1_score)"
   ]
  },
  {
   "cell_type": "markdown",
   "metadata": {},
   "source": [
    "### Naive Bayes Complement"
   ]
  },
  {
   "cell_type": "code",
   "execution_count": 67,
   "metadata": {},
   "outputs": [
    {
     "name": "stdout",
     "output_type": "stream",
     "text": [
      "Unigram Tf-IDF + CNB Train mean CV AUC score >>  0.767443897632152\n",
      "Unigram Tf-IDF + CNB Valid AUC score >>  0.8009400519121421\n",
      "Unigram Tf-IDF + CNB Valid Accuracy score >>  0.7200832466181062\n",
      "Unigram Tf-IDF + CNB Valid F1 score >>  0.7853152434158021\n"
     ]
    }
   ],
   "source": [
    "tv_cnb_cv_mean_score, tv_cnb_test_auc_score, tv_cnb_test_accuracy_score, tv_cnb_test_f1_score, tv_cnb_test_prob, tv_cnb_test_pred=models.naive_bayes_cnb(tv_train_features, tv_valid_features, train_label, valid_label,alpha=1,cv=5)\n",
    "print('Unigram Tf-IDF + CNB Train mean CV AUC score >> ', tv_cnb_cv_mean_score)\n",
    "print('Unigram Tf-IDF + CNB Valid AUC score >> ', tv_cnb_test_auc_score)\n",
    "print('Unigram Tf-IDF + CNB Valid Accuracy score >> ', tv_cnb_test_accuracy_score)\n",
    "print('Unigram Tf-IDF + CNB Valid F1 score >> ', tv_cnb_test_f1_score)"
   ]
  },
  {
   "cell_type": "markdown",
   "metadata": {},
   "source": [
    "### Logistic Regression"
   ]
  },
  {
   "cell_type": "code",
   "execution_count": 68,
   "metadata": {},
   "outputs": [
    {
     "name": "stdout",
     "output_type": "stream",
     "text": [
      "Unigram Tf-IDF + LR Train mean CV AUC score >>  0.7871181105417007\n",
      "Unigram Tf-IDF + LR Valid AUC score >>  0.8153006157412965\n",
      "Unigram Tf-IDF + LR Valid Accuracy score >>  0.7460978147762747\n",
      "Unigram Tf-IDF + LR Valid F1 score >>  0.7918088737201364\n"
     ]
    }
   ],
   "source": [
    "tv_lr_cv_mean_score, tv_lr_test_auc_score, tv_lr_test_accuracy_score, tv_lr_test_f1_score, tv_lr_test_prob, tv_lr_test_pred=models.logistic_model(tv_train_features, tv_valid_features, train_label, valid_label,5)\n",
    "print('Unigram Tf-IDF + LR Train mean CV AUC score >> ', tv_lr_cv_mean_score)\n",
    "print('Unigram Tf-IDF + LR Valid AUC score >> ', tv_lr_test_auc_score)\n",
    "print('Unigram Tf-IDF + LR Valid Accuracy score >> ', tv_lr_test_accuracy_score)\n",
    "print('Unigram Tf-IDF + LR Valid F1 score >> ', tv_lr_test_f1_score)"
   ]
  },
  {
   "cell_type": "markdown",
   "metadata": {},
   "source": [
    "### SVM"
   ]
  },
  {
   "cell_type": "code",
   "execution_count": 69,
   "metadata": {},
   "outputs": [
    {
     "name": "stdout",
     "output_type": "stream",
     "text": [
      "Unigram Tf-IDF + SVM Train mean CV AUC score >>  0.7684408789592027\n",
      "Unigram Tf-IDF + SVM Valid AUC score >>  0.7971066779932242\n",
      "Unigram Tf-IDF + SVM Valid Accuracy score >>  0.7299687825182102\n",
      "Unigram Tf-IDF + SVM Valid F1 score >>  0.7773487773487773\n"
     ]
    }
   ],
   "source": [
    "tv_svm_cv_mean_score, tv_svm_test_auc_score, tv_svm_test_accuracy_score, tv_svm_test_f1_score,tv_svm_test_df, tv_svm_test_pred=models.svm_model(tv_train_features, tv_valid_features, train_label, valid_label,5)\n",
    "print('Unigram Tf-IDF + SVM Train mean CV AUC score >> ', tv_svm_cv_mean_score)\n",
    "print('Unigram Tf-IDF + SVM Valid AUC score >> ', tv_svm_test_auc_score)\n",
    "print('Unigram Tf-IDF + SVM Valid Accuracy score >> ', tv_svm_test_accuracy_score)\n",
    "print('Unigram Tf-IDF + SVM Valid F1 score >> ', tv_svm_test_f1_score)"
   ]
  },
  {
   "cell_type": "markdown",
   "metadata": {},
   "source": [
    "### SVM with Stochastic Gradient Descent\n"
   ]
  },
  {
   "cell_type": "code",
   "execution_count": 70,
   "metadata": {},
   "outputs": [
    {
     "name": "stdout",
     "output_type": "stream",
     "text": [
      "Unigram Tf-IDF + SVM_SGD Train mean CV AUC score >>  0.7713896069766755\n",
      "Unigram Tf-IDF + SVM_SGD Valid AUC score >>  0.8027540592130586\n",
      "Unigram Tf-IDF + SVM_SGD Valid Accuracy score >>  0.736732570239334\n",
      "Unigram Tf-IDF + SVM_SGD Valid F1 score >>  0.7813310285220397\n"
     ]
    }
   ],
   "source": [
    "tv_svm_sgd_cv_mean_score, tv_svm_sgd_test_auc_score, tv_svm_sgd_test_accuracy_score, tv_svm_sgd_test_f1_score, tv_svm_sgd_test_prob, tv_svm_sgd_test_pred=models.svm_sgd_model(tv_train_features, tv_valid_features, train_label, valid_label,5)\n",
    "print('Unigram Tf-IDF + SVM_SGD Train mean CV AUC score >> ', tv_svm_sgd_cv_mean_score)\n",
    "print('Unigram Tf-IDF + SVM_SGD Valid AUC score >> ', tv_svm_sgd_test_auc_score)\n",
    "print('Unigram Tf-IDF + SVM_SGD Valid Accuracy score >> ', tv_svm_sgd_test_accuracy_score)\n",
    "print('Unigram Tf-IDF + SVM_SGD Valid F1 score >> ', tv_svm_sgd_test_f1_score)"
   ]
  },
  {
   "cell_type": "markdown",
   "metadata": {},
   "source": [
    "### KNN\n"
   ]
  },
  {
   "cell_type": "code",
   "execution_count": 71,
   "metadata": {},
   "outputs": [
    {
     "name": "stdout",
     "output_type": "stream",
     "text": [
      "Unigram Tf-IDF + KNN Train mean CV AUC score >>  0.517647622102923\n",
      "Unigram Tf-IDF + KNN Valid AUC score >>  0.5260239630757215\n",
      "Unigram Tf-IDF + KNN Valid Accuracy score >>  0.44849115504682624\n",
      "Unigram Tf-IDF + KNN Valid F1 score >>  0.2524682651622003\n"
     ]
    }
   ],
   "source": [
    "tv_knn_cv_mean_score, tv_knn_test_auc_score, tv_knn_test_accuracy_score, tv_knn_test_f1_score, tv_knn_test_prob, tv_knn_test_pred=models.knn_model(tv_train_features, tv_valid_features, train_label, valid_label,5,5)\n",
    "print('Unigram Tf-IDF + KNN Train mean CV AUC score >> ', tv_knn_cv_mean_score)\n",
    "print('Unigram Tf-IDF + KNN Valid AUC score >> ', tv_knn_test_auc_score)\n",
    "print('Unigram Tf-IDF + KNN Valid Accuracy score >> ', tv_knn_test_accuracy_score)\n",
    "print('Unigram Tf-IDF + KNN Valid F1 score >> ', tv_knn_test_f1_score)"
   ]
  },
  {
   "cell_type": "markdown",
   "metadata": {},
   "source": [
    "### Random Forest"
   ]
  },
  {
   "cell_type": "code",
   "execution_count": 72,
   "metadata": {},
   "outputs": [
    {
     "name": "stdout",
     "output_type": "stream",
     "text": [
      "Unigram Tf-IDF + RFC Train mean CV AUC score >>  0.7420156534325036\n",
      "Unigram Tf-IDF + RFC Valid AUC score >>  0.7672532686357969\n",
      "Unigram Tf-IDF + RFC Valid Accuracy score >>  0.700312174817898\n",
      "Unigram Tf-IDF + RFC Valid F1 score >>  0.7369863013698629\n"
     ]
    }
   ],
   "source": [
    "tv_rfc_cv_mean_score, tv_rfc_test_auc_score, tv_rfc_test_accuracy_score, tv_rfc_test_f1_score, tv_rfc_test_prob, tv_rfc_test_pred=models.random_forest_model(tv_train_features, tv_valid_features, train_label, valid_label,5)\n",
    "print('Unigram Tf-IDF + RFC Train mean CV AUC score >> ', tv_rfc_cv_mean_score)\n",
    "print('Unigram Tf-IDF + RFC Valid AUC score >> ', tv_rfc_test_auc_score)\n",
    "print('Unigram Tf-IDF + RFC Valid Accuracy score >> ', tv_rfc_test_accuracy_score)\n",
    "print('Unigram Tf-IDF + RFC Valid F1 score >> ', tv_rfc_test_f1_score)"
   ]
  },
  {
   "cell_type": "markdown",
   "metadata": {},
   "source": [
    "### Gradient Boosting"
   ]
  },
  {
   "cell_type": "code",
   "execution_count": 73,
   "metadata": {},
   "outputs": [
    {
     "name": "stdout",
     "output_type": "stream",
     "text": [
      "Unigram Tf-IDF + GBC Train mean CV AUC score >>  0.6814625508406099\n",
      "Unigram Tf-IDF + GBC Valid AUC score >>  0.683208565391232\n",
      "Unigram Tf-IDF + GBC Valid Accuracy score >>  0.5931321540062435\n",
      "Unigram Tf-IDF + GBC Valid F1 score >>  0.744611365120836\n"
     ]
    }
   ],
   "source": [
    "tv_gbc_cv_mean_score, tv_gbc_test_auc_score, tv_gbc_test_accuracy_score, tv_gbc_test_f1_score, tv_gbc_test_prob, tv_gbc_test_pred=models.gradient_boosting_model(tv_train_features, tv_valid_features, train_label, valid_label,5)\n",
    "print('Unigram Tf-IDF + GBC Train mean CV AUC score >> ', tv_gbc_cv_mean_score)\n",
    "print('Unigram Tf-IDF + GBC Valid AUC score >> ', tv_gbc_test_auc_score)\n",
    "print('Unigram Tf-IDF + GBC Valid Accuracy score >> ', tv_gbc_test_accuracy_score)\n",
    "print('Unigram Tf-IDF + GBC Valid F1 score >> ', tv_gbc_test_f1_score)"
   ]
  },
  {
   "cell_type": "markdown",
   "metadata": {},
   "source": [
    "## TF-IDF (bigram)"
   ]
  },
  {
   "cell_type": "code",
   "execution_count": 74,
   "metadata": {},
   "outputs": [
    {
     "name": "stdout",
     "output_type": "stream",
     "text": [
      "TFIDF model:> Train features shape: (15383, 134633)  Validation features shape: (1922, 134633)\n"
     ]
    }
   ],
   "source": [
    "tv2_train_features,tv2_valid_features = fe.tfidf_vectors(norm_train_corpus, norm_valid_corpus,ngram_range=(2,2),max_features=None)\n",
    "print('TFIDF model:> Train features shape:', tv2_train_features.shape,' Validation features shape:', tv2_valid_features.shape)"
   ]
  },
  {
   "cell_type": "markdown",
   "metadata": {},
   "source": [
    "### Naive Bayes Multinomial"
   ]
  },
  {
   "cell_type": "code",
   "execution_count": 75,
   "metadata": {},
   "outputs": [
    {
     "name": "stdout",
     "output_type": "stream",
     "text": [
      "Bigram Tf-IDF + MNB Train mean CV AUC score >>  0.6699747748122998\n",
      "Bigram Tf-IDF + MNB Valid AUC score >>  0.7364577874385184\n",
      "Bigram Tf-IDF + MNB Valid Accuracy score >>  0.6399583766909469\n",
      "Bigram Tf-IDF + MNB Valid F1 score >>  0.754609929078014\n"
     ]
    }
   ],
   "source": [
    "tv2_mnb_cv_mean_score, tv2_mnb_test_auc_score, tv2_mnb_test_accuracy_score, tv2_mnb_test_f1_score, tv2_mnb_test_prob, tv2_mnb_test_pred=models.naive_bayes_model(tv2_train_features, tv2_valid_features, train_label, valid_label,5)\n",
    "print('Bigram Tf-IDF + MNB Train mean CV AUC score >> ', tv2_mnb_cv_mean_score)\n",
    "print('Bigram Tf-IDF + MNB Valid AUC score >> ', tv2_mnb_test_auc_score)\n",
    "print('Bigram Tf-IDF + MNB Valid Accuracy score >> ', tv2_mnb_test_accuracy_score)\n",
    "print('Bigram Tf-IDF + MNB Valid F1 score >> ', tv2_mnb_test_f1_score)"
   ]
  },
  {
   "cell_type": "markdown",
   "metadata": {},
   "source": [
    "### Naive Bayes Complement"
   ]
  },
  {
   "cell_type": "code",
   "execution_count": 76,
   "metadata": {},
   "outputs": [
    {
     "name": "stdout",
     "output_type": "stream",
     "text": [
      "Bigram Tf-IDF + CNB Train mean CV AUC score >>  0.6699744243361536\n",
      "Bigram Tf-IDF + CNB Valid AUC score >>  0.7364577874385184\n",
      "Bigram Tf-IDF + CNB Valid Accuracy score >>  0.6815816857440167\n",
      "Bigram Tf-IDF + CNB Valid F1 score >>  0.721565059144677\n"
     ]
    }
   ],
   "source": [
    "tv2_cnb_cv_mean_score, tv2_cnb_test_auc_score, tv2_cnb_test_accuracy_score, tv2_cnb_test_f1_score, tv2_cnb_test_prob, tv2_cnb_test_pred=models.naive_bayes_cnb(tv2_train_features, tv2_valid_features, train_label, valid_label,alpha=1,cv=5)\n",
    "print('Bigram Tf-IDF + CNB Train mean CV AUC score >> ', tv2_cnb_cv_mean_score)\n",
    "print('Bigram Tf-IDF + CNB Valid AUC score >> ', tv2_cnb_test_auc_score)\n",
    "print('Bigram Tf-IDF + CNB Valid Accuracy score >> ', tv2_cnb_test_accuracy_score)\n",
    "print('Bigram Tf-IDF + CNB Valid F1 score >> ', tv2_cnb_test_f1_score)"
   ]
  },
  {
   "cell_type": "markdown",
   "metadata": {},
   "source": [
    "### Logistic Regression"
   ]
  },
  {
   "cell_type": "code",
   "execution_count": 77,
   "metadata": {},
   "outputs": [
    {
     "name": "stdout",
     "output_type": "stream",
     "text": [
      "Bigram Tf-IDF + LR Train mean CV AUC score >>  0.6808722011976852\n",
      "Bigram Tf-IDF + LR Valid AUC score >>  0.7285166660868725\n",
      "Bigram Tf-IDF + LR Valid Accuracy score >>  0.6331945889698231\n",
      "Bigram Tf-IDF + LR Valid F1 score >>  0.7509713882020488\n"
     ]
    }
   ],
   "source": [
    "tv2_lr_cv_mean_score, tv2_lr_test_auc_score, tv2_lr_test_accuracy_score, tv2_lr_test_f1_score, tv2_lr_test_prob, tv2_lr_test_pred=models.logistic_model(tv2_train_features, tv2_valid_features, train_label, valid_label,5)\n",
    "print('Bigram Tf-IDF + LR Train mean CV AUC score >> ', tv2_lr_cv_mean_score)\n",
    "print('Bigram Tf-IDF + LR Valid AUC score >> ', tv2_lr_test_auc_score)\n",
    "print('Bigram Tf-IDF + LR Valid Accuracy score >> ', tv2_lr_test_accuracy_score)\n",
    "print('Bigram Tf-IDF + LR Valid F1 score >> ', tv2_lr_test_f1_score)"
   ]
  },
  {
   "cell_type": "markdown",
   "metadata": {},
   "source": [
    "### SVM"
   ]
  },
  {
   "cell_type": "code",
   "execution_count": 78,
   "metadata": {},
   "outputs": [
    {
     "name": "stdout",
     "output_type": "stream",
     "text": [
      "Bigram Tf-IDF + SVM Train mean CV AUC score >>  0.6775461098189686\n",
      "Bigram Tf-IDF + SVM Valid AUC score >>  0.7233024471424194\n",
      "Bigram Tf-IDF + SVM Valid Accuracy score >>  0.6654526534859522\n",
      "Bigram Tf-IDF + SVM Valid F1 score >>  0.7451446690447879\n"
     ]
    }
   ],
   "source": [
    "tv2_svm_cv_mean_score, tv2_svm_test_auc_score, tv2_svm_test_accuracy_score, tv2_svm_test_f1_score,tv2_svm_test_df, tv2_svm_test_pred=models.svm_model(tv2_train_features, tv2_valid_features, train_label, valid_label,5)\n",
    "print('Bigram Tf-IDF + SVM Train mean CV AUC score >> ', tv2_svm_cv_mean_score)\n",
    "print('Bigram Tf-IDF + SVM Valid AUC score >> ', tv2_svm_test_auc_score)\n",
    "print('Bigram Tf-IDF + SVM Valid Accuracy score >> ', tv2_svm_test_accuracy_score)\n",
    "print('Bigram Tf-IDF + SVM Valid F1 score >> ', tv2_svm_test_f1_score)"
   ]
  },
  {
   "cell_type": "markdown",
   "metadata": {},
   "source": [
    "### SVM with Stochastic Gradient Descent"
   ]
  },
  {
   "cell_type": "code",
   "execution_count": 79,
   "metadata": {},
   "outputs": [
    {
     "name": "stdout",
     "output_type": "stream",
     "text": [
      "Bigram Tf-IDF + SVM_SGD Train mean CV AUC score >>  0.6776062500081677\n",
      "Bigram Tf-IDF + SVM_SGD Valid AUC score >>  0.7237939628849505\n",
      "Bigram Tf-IDF + SVM_SGD Valid Accuracy score >>  0.663891779396462\n",
      "Bigram Tf-IDF + SVM_SGD Valid F1 score >>  0.745067087608524\n"
     ]
    }
   ],
   "source": [
    "tv2_svm_sgd_cv_mean_score, tv2_svm_sgd_test_auc_score, tv2_svm_sgd_test_accuracy_score, tv2_svm_sgd_test_f1_score, tv2_svm_sgd_test_prob, tv2_svm_sgd_test_pred=models.svm_sgd_model(tv2_train_features, tv2_valid_features, train_label, valid_label,5)\n",
    "print('Bigram Tf-IDF + SVM_SGD Train mean CV AUC score >> ', tv2_svm_sgd_cv_mean_score)\n",
    "print('Bigram Tf-IDF + SVM_SGD Valid AUC score >> ', tv2_svm_sgd_test_auc_score)\n",
    "print('Bigram Tf-IDF + SVM_SGD Valid Accuracy score >> ', tv2_svm_sgd_test_accuracy_score)\n",
    "print('Bigram Tf-IDF + SVM_SGD Valid F1 score >> ', tv2_svm_sgd_test_f1_score)"
   ]
  },
  {
   "cell_type": "markdown",
   "metadata": {},
   "source": [
    "### KNN"
   ]
  },
  {
   "cell_type": "code",
   "execution_count": 80,
   "metadata": {},
   "outputs": [
    {
     "name": "stdout",
     "output_type": "stream",
     "text": [
      "Bigram Tf-IDF + KNN Train mean CV AUC score >>  0.4996727261705061\n",
      "Bigram Tf-IDF + KNN Valid AUC score >>  0.5314766457080463\n",
      "Bigram Tf-IDF + KNN Valid Accuracy score >>  0.4750260145681582\n",
      "Bigram Tf-IDF + KNN Valid F1 score >>  0.3689806128830519\n"
     ]
    }
   ],
   "source": [
    "tv2_knn_cv_mean_score, tv2_knn_test_auc_score, tv2_knn_test_accuracy_score, tv2_knn_test_f1_score, tv2_knn_test_prob, tv2_knn_test_pred=models.knn_model(tv2_train_features, tv2_valid_features, train_label, valid_label,5,5)\n",
    "print('Bigram Tf-IDF + KNN Train mean CV AUC score >> ', tv2_knn_cv_mean_score)\n",
    "print('Bigram Tf-IDF + KNN Valid AUC score >> ', tv2_knn_test_auc_score)\n",
    "print('Bigram Tf-IDF + KNN Valid Accuracy score >> ', tv2_knn_test_accuracy_score)\n",
    "print('Bigram Tf-IDF + KNN Valid F1 score >> ', tv2_knn_test_f1_score)"
   ]
  },
  {
   "cell_type": "markdown",
   "metadata": {},
   "source": [
    "### Random Forest"
   ]
  },
  {
   "cell_type": "code",
   "execution_count": 81,
   "metadata": {},
   "outputs": [
    {
     "name": "stdout",
     "output_type": "stream",
     "text": [
      "Bigram Tf-IDF + RFC Train mean CV AUC score >>  0.6127455118281777\n",
      "Bigram Tf-IDF + RFC Valid AUC score >>  0.6771667371771062\n",
      "Bigram Tf-IDF + RFC Valid Accuracy score >>  0.586888657648283\n",
      "Bigram Tf-IDF + RFC Valid F1 score >>  0.5651697699890471\n"
     ]
    }
   ],
   "source": [
    "tv2_rfc_cv_mean_score, tv2_rfc_test_auc_score, tv2_rfc_test_accuracy_score, tv2_rfc_test_f1_score, tv2_rfc_test_prob, tv2_rfc_test_pred=models.random_forest_model(tv2_train_features, tv2_valid_features, train_label, valid_label,5)\n",
    "print('Bigram Tf-IDF + RFC Train mean CV AUC score >> ', tv2_rfc_cv_mean_score)\n",
    "print('Bigram Tf-IDF + RFC Valid AUC score >> ', tv2_rfc_test_auc_score)\n",
    "print('Bigram Tf-IDF + RFC Valid Accuracy score >> ', tv2_rfc_test_accuracy_score)\n",
    "print('Bigram Tf-IDF + RFC Valid F1 score >> ', tv2_rfc_test_f1_score)"
   ]
  },
  {
   "cell_type": "markdown",
   "metadata": {},
   "source": [
    "### Gradient Boosting"
   ]
  },
  {
   "cell_type": "code",
   "execution_count": 82,
   "metadata": {},
   "outputs": [
    {
     "name": "stdout",
     "output_type": "stream",
     "text": [
      "Bigram Tf-IDF + GBC Train mean CV AUC score >>  0.5316544141811926\n",
      "Bigram Tf-IDF + GBC Valid AUC score >>  0.5356034702358042\n",
      "Bigram Tf-IDF + GBC Valid Accuracy score >>  0.6004162330905307\n",
      "Bigram Tf-IDF + GBC Valid F1 score >>  0.7467018469656991\n"
     ]
    }
   ],
   "source": [
    "tv2_gbc_cv_mean_score, tv2_gbc_test_auc_score, tv2_gbc_test_accuracy_score, tv2_gbc_test_f1_score, tv2_gbc_test_prob, tv2_gbc_test_pred=models.gradient_boosting_model(tv2_train_features, tv2_valid_features, train_label, valid_label,5)\n",
    "print('Bigram Tf-IDF + GBC Train mean CV AUC score >> ', tv2_gbc_cv_mean_score)\n",
    "print('Bigram Tf-IDF + GBC Valid AUC score >> ', tv2_gbc_test_auc_score)\n",
    "print('Bigram Tf-IDF + GBC Valid Accuracy score >> ', tv2_gbc_test_accuracy_score)\n",
    "print('Bigram Tf-IDF + GBC Valid F1 score >> ', tv2_gbc_test_f1_score)"
   ]
  },
  {
   "cell_type": "markdown",
   "metadata": {},
   "source": [
    "## Pretrained word embedding (Glove 100d)"
   ]
  },
  {
   "cell_type": "code",
   "execution_count": 83,
   "metadata": {},
   "outputs": [],
   "source": [
    "from gensim.test.utils import datapath, get_tmpfile\n",
    "from gensim.models import KeyedVectors\n",
    "from gensim.scripts.glove2word2vec import glove2word2vec"
   ]
  },
  {
   "cell_type": "code",
   "execution_count": 84,
   "metadata": {},
   "outputs": [
    {
     "data": {
      "text/plain": [
       "(400000, 100)"
      ]
     },
     "execution_count": 84,
     "metadata": {},
     "output_type": "execute_result"
    }
   ],
   "source": [
    "glove_file = datapath('D:/glove.6B.100d.txt')\n",
    "word2vec_glove_file = get_tmpfile(\"glove.6B.100d.word2vec.txt\")\n",
    "glove2word2vec(glove_file, word2vec_glove_file)"
   ]
  },
  {
   "cell_type": "code",
   "execution_count": 85,
   "metadata": {},
   "outputs": [
    {
     "name": "stdout",
     "output_type": "stream",
     "text": [
      "training time = 0.75 minutes\n"
     ]
    }
   ],
   "source": [
    "import time\n",
    "ts = time.time()\n",
    "model_glove = KeyedVectors.load_word2vec_format(word2vec_glove_file)\n",
    "te = time.time() - ts\n",
    "print('training time = {0:.2f} minutes'.format(te/60))"
   ]
  },
  {
   "cell_type": "code",
   "execution_count": 86,
   "metadata": {},
   "outputs": [
    {
     "data": {
      "text/plain": [
       "array([-0.32307 , -0.87616 ,  0.21977 ,  0.25268 ,  0.22976 ,  0.7388  ,\n",
       "       -0.37954 , -0.35307 , -0.84369 , -1.1113  , -0.30266 ,  0.33178 ,\n",
       "       -0.25113 ,  0.30448 , -0.077491, -0.89815 ,  0.092496, -1.1407  ,\n",
       "       -0.58324 ,  0.66869 , -0.23122 , -0.95855 ,  0.28262 , -0.078848,\n",
       "        0.75315 ,  0.26584 ,  0.3422  , -0.33949 ,  0.95608 ,  0.065641,\n",
       "        0.45747 ,  0.39835 ,  0.57965 ,  0.39267 , -0.21851 ,  0.58795 ,\n",
       "       -0.55999 ,  0.63368 , -0.043983, -0.68731 , -0.37841 ,  0.38026 ,\n",
       "        0.61641 , -0.88269 , -0.12346 , -0.37928 , -0.38318 ,  0.23868 ,\n",
       "        0.6685  , -0.43321 , -0.11065 ,  0.081723,  1.1569  ,  0.78958 ,\n",
       "       -0.21223 , -2.3211  , -0.67806 ,  0.44561 ,  0.65707 ,  0.1045  ,\n",
       "        0.46217 ,  0.19912 ,  0.25802 ,  0.057194,  0.53443 , -0.43133 ,\n",
       "       -0.34311 ,  0.59789 , -0.58417 ,  0.068995,  0.23944 , -0.85181 ,\n",
       "        0.30379 , -0.34177 , -0.25746 , -0.031101, -0.16285 ,  0.45169 ,\n",
       "       -0.91627 ,  0.64521 ,  0.73281 , -0.22752 ,  0.30226 ,  0.044801,\n",
       "       -0.83741 ,  0.55006 , -0.52506 , -1.7357  ,  0.4751  , -0.70487 ,\n",
       "        0.056939, -0.7132  ,  0.089623,  0.41394 , -1.3363  , -0.61915 ,\n",
       "       -0.33089 , -0.52881 ,  0.16483 , -0.98878 ], dtype=float32)"
      ]
     },
     "execution_count": 86,
     "metadata": {},
     "output_type": "execute_result"
    }
   ],
   "source": [
    "#show a word embedding\n",
    "model_glove['king']"
   ]
  },
  {
   "cell_type": "code",
   "execution_count": 87,
   "metadata": {},
   "outputs": [],
   "source": [
    "def tokenize_text(text):\n",
    "    tokens = nltk.word_tokenize(text) \n",
    "    tokens = [token.strip() for token in tokens]\n",
    "    return tokens"
   ]
  },
  {
   "cell_type": "code",
   "execution_count": 88,
   "metadata": {},
   "outputs": [],
   "source": [
    "# tokenize corpus\n",
    "tokenized_train = [tokenize_text(text) for text in norm_train_corpus]\n",
    "tokenized_valid = [tokenize_text(text) for text in norm_valid_corpus]"
   ]
  },
  {
   "cell_type": "code",
   "execution_count": 89,
   "metadata": {},
   "outputs": [
    {
     "data": {
      "text/plain": [
       "['continu',\n",
       " 'call',\n",
       " 'feminist',\n",
       " 'right',\n",
       " 'womxn',\n",
       " 'arent',\n",
       " 'address',\n",
       " 'ye',\n",
       " 'sexual',\n",
       " 'offenc',\n",
       " 'public',\n",
       " 'list',\n",
       " 'tran',\n",
       " 'lesbian',\n",
       " 'bisexu',\n",
       " 'queer',\n",
       " 'womxn',\n",
       " 'abl',\n",
       " 'enter',\n",
       " 'inform',\n",
       " 'report',\n",
       " 'sheet',\n",
       " 'gender',\n",
       " 'forum']"
      ]
     },
     "execution_count": 89,
     "metadata": {},
     "output_type": "execute_result"
    }
   ],
   "source": [
    "tokenized_train[0]"
   ]
  },
  {
   "cell_type": "code",
   "execution_count": 90,
   "metadata": {},
   "outputs": [],
   "source": [
    "#for each sentence in the tokenized data, I will be calculating the mean of the word embedding of all the words in the sentence\n",
    "#funtion definition\n",
    "def average_word_vectors(words, model, num_features):\n",
    "    feature_vector = np.zeros((num_features,),dtype=\"float64\") #array with 0 values\n",
    "    nwords = 0.\n",
    "    for word in words:\n",
    "        if word in model:\n",
    "            nwords = nwords + 1.\n",
    "            feature_vector = np.add(feature_vector, model[word])\n",
    "    if nwords:\n",
    "        feature_vector = np.divide(feature_vector, nwords) #to find the mean of each word embedding\n",
    "    return feature_vector"
   ]
  },
  {
   "cell_type": "code",
   "execution_count": 91,
   "metadata": {},
   "outputs": [],
   "source": [
    "#function to be called on the whole tokenized corpus. It will call the average_word_vectors function to generate the features\n",
    "def averaged_word_vectorizer(corpus, model, num_features):\n",
    "    features = [average_word_vectors(tokenized_sentence, model,num_features) \n",
    "                for tokenized_sentence in corpus]\n",
    "    return np.array(features)"
   ]
  },
  {
   "cell_type": "code",
   "execution_count": 92,
   "metadata": {},
   "outputs": [],
   "source": [
    "# Apply word embedding on train dataset\n",
    "embed_train_feature_array = averaged_word_vectorizer(corpus=tokenized_train,model=model_glove,num_features=100)\n",
    "# Apply word embedding on valid dataset\n",
    "embed_valid_feature_array = averaged_word_vectorizer(corpus=tokenized_valid,model=model_glove, num_features=100) "
   ]
  },
  {
   "cell_type": "code",
   "execution_count": 93,
   "metadata": {},
   "outputs": [
    {
     "name": "stdout",
     "output_type": "stream",
     "text": [
      "Pretrained Word Embedding model:> Train features shape: (15383, 100)  Valid features shape: (1922, 100)\n"
     ]
    }
   ],
   "source": [
    "print('Pretrained Word Embedding model:> Train features shape:', embed_train_feature_array.shape,' Valid features shape:', embed_valid_feature_array.shape)"
   ]
  },
  {
   "cell_type": "markdown",
   "metadata": {},
   "source": [
    "### Naive Bayes Multinomial"
   ]
  },
  {
   "cell_type": "code",
   "execution_count": 94,
   "metadata": {},
   "outputs": [],
   "source": [
    "#Naive Bayes model does not work on arrays with negative values. \n",
    "#Accordingly I will be assigning N/A to the scores to be added later on to the table\n",
    "embed_mnb_cv_mean_score = 'N/A'\n",
    "embed_mnb_test_auc_score = 'N/A'\n",
    "embed_mnb_test_accuracy_score = 'N/A'\n",
    "embed_mnb_test_f1_score = 'N/A'"
   ]
  },
  {
   "cell_type": "markdown",
   "metadata": {},
   "source": [
    "### Naive Bayes Complement"
   ]
  },
  {
   "cell_type": "code",
   "execution_count": 95,
   "metadata": {},
   "outputs": [],
   "source": [
    "#Naive Bayes model does not work on arrays with negative values. \n",
    "#Accordingly I will be assigning N/A to the scores to be added later on to the table\n",
    "embed_cnb_cv_mean_score = 'N/A'\n",
    "embed_cnb_test_auc_score = 'N/A'\n",
    "embed_cnb_test_accuracy_score = 'N/A'\n",
    "embed_cnb_test_f1_score = 'N/A'"
   ]
  },
  {
   "cell_type": "markdown",
   "metadata": {},
   "source": [
    "### Logistic Regression"
   ]
  },
  {
   "cell_type": "code",
   "execution_count": 96,
   "metadata": {},
   "outputs": [
    {
     "name": "stdout",
     "output_type": "stream",
     "text": [
      "Glove Pretrained + LR Train mean CV AUC score >>  0.6893000685796709\n",
      "Glove Pretrained + LR Valid AUC score >>  0.6912893984094192\n",
      "Glove Pretrained + LR Valid Accuracy score >>  0.6493236212278877\n",
      "Glove Pretrained + LR Valid F1 score >>  0.7295345104333869\n"
     ]
    }
   ],
   "source": [
    "embed_lr_cv_mean_score, embed_lr_test_auc_score, embed_lr_test_accuracy_score, embed_lr_test_f1_score, embed_lr_test_prob, embed_lr_test_pred=models.logistic_model(embed_train_feature_array, embed_valid_feature_array, train_label, valid_label,5)\n",
    "print('Glove Pretrained + LR Train mean CV AUC score >> ', embed_lr_cv_mean_score)\n",
    "print('Glove Pretrained + LR Valid AUC score >> ', embed_lr_test_auc_score)\n",
    "print('Glove Pretrained + LR Valid Accuracy score >> ', embed_lr_test_accuracy_score)\n",
    "print('Glove Pretrained + LR Valid F1 score >> ', embed_lr_test_f1_score)"
   ]
  },
  {
   "cell_type": "markdown",
   "metadata": {},
   "source": [
    "### SVM"
   ]
  },
  {
   "cell_type": "code",
   "execution_count": 97,
   "metadata": {},
   "outputs": [
    {
     "name": "stderr",
     "output_type": "stream",
     "text": [
      "C:\\Users\\Abou Assaly\\anaconda3\\lib\\site-packages\\sklearn\\svm\\_base.py:976: ConvergenceWarning: Liblinear failed to converge, increase the number of iterations.\n",
      "  warnings.warn(\"Liblinear failed to converge, increase \"\n",
      "C:\\Users\\Abou Assaly\\anaconda3\\lib\\site-packages\\sklearn\\svm\\_base.py:976: ConvergenceWarning: Liblinear failed to converge, increase the number of iterations.\n",
      "  warnings.warn(\"Liblinear failed to converge, increase \"\n",
      "C:\\Users\\Abou Assaly\\anaconda3\\lib\\site-packages\\sklearn\\svm\\_base.py:976: ConvergenceWarning: Liblinear failed to converge, increase the number of iterations.\n",
      "  warnings.warn(\"Liblinear failed to converge, increase \"\n"
     ]
    },
    {
     "name": "stdout",
     "output_type": "stream",
     "text": [
      "Glove Pretrained + SVM Train mean CV AUC score >>  0.6871369258436101\n",
      "Glove Pretrained + SVM Valid AUC score >>  0.6895174729357741\n",
      "Glove Pretrained + SVM Valid Accuracy score >>  0.6462018730489074\n",
      "Glove Pretrained + SVM Valid F1 score >>  0.7290836653386454\n"
     ]
    }
   ],
   "source": [
    "embed_svm_cv_mean_score, embed_svm_test_auc_score, embed_svm_test_accuracy_score, embed_svm_test_f1_score,embed_svm_test_df, embed_svm_test_pred=models.svm_model(embed_train_feature_array, embed_valid_feature_array, train_label, valid_label,5)\n",
    "print('Glove Pretrained + SVM Train mean CV AUC score >> ', embed_svm_cv_mean_score)\n",
    "print('Glove Pretrained + SVM Valid AUC score >> ', embed_svm_test_auc_score)\n",
    "print('Glove Pretrained + SVM Valid Accuracy score >> ', embed_svm_test_accuracy_score)\n",
    "print('Glove Pretrained + SVM Valid F1 score >> ', embed_svm_test_f1_score)"
   ]
  },
  {
   "cell_type": "markdown",
   "metadata": {},
   "source": [
    "### SVM with Stochastic Gradient Descent"
   ]
  },
  {
   "cell_type": "code",
   "execution_count": 98,
   "metadata": {},
   "outputs": [
    {
     "name": "stdout",
     "output_type": "stream",
     "text": [
      "Glove Pretrained + SVM_SGD Train mean CV AUC score >>  0.6708888607222985\n",
      "Glove Pretrained + SVM_SGD Valid AUC score >>  0.6808463721537255\n",
      "Glove Pretrained + SVM_SGD Valid Accuracy score >>  0.649843912591051\n",
      "Glove Pretrained + SVM_SGD Valid F1 score >>  0.7392483533514141\n"
     ]
    }
   ],
   "source": [
    "embed_svm_sgd_cv_mean_score, embed_svm_sgd_test_auc_score, embed_svm_sgd_test_accuracy_score, embed_svm_sgd_test_f1_score, embed_svm_sgd_test_prob, embed_svm_sgd_test_pred=models.svm_sgd_model(embed_train_feature_array, embed_valid_feature_array, train_label, valid_label,5,max_iter=1000)\n",
    "print('Glove Pretrained + SVM_SGD Train mean CV AUC score >> ', embed_svm_sgd_cv_mean_score)\n",
    "print('Glove Pretrained + SVM_SGD Valid AUC score >> ', embed_svm_sgd_test_auc_score)\n",
    "print('Glove Pretrained + SVM_SGD Valid Accuracy score >> ', embed_svm_sgd_test_accuracy_score)\n",
    "print('Glove Pretrained + SVM_SGD Valid F1 score >> ', embed_svm_sgd_test_f1_score)"
   ]
  },
  {
   "cell_type": "markdown",
   "metadata": {},
   "source": [
    "### KNN"
   ]
  },
  {
   "cell_type": "code",
   "execution_count": 99,
   "metadata": {},
   "outputs": [
    {
     "name": "stdout",
     "output_type": "stream",
     "text": [
      "Glove Pretrained + KNN Train mean CV AUC score >>  0.6390829968747095\n",
      "Glove Pretrained + KNN Valid AUC score >>  0.6600787098497286\n",
      "Glove Pretrained + KNN Valid Accuracy score >>  0.631633714880333\n",
      "Glove Pretrained + KNN Valid F1 score >>  0.7236533957845434\n"
     ]
    }
   ],
   "source": [
    "embed_knn_cv_mean_score, embed_knn_test_auc_score, embed_knn_test_accuracy_score, embed_knn_test_f1_score, embed_knn_test_prob, embed_knn_test_pred=models.knn_model(embed_train_feature_array, embed_valid_feature_array, train_label, valid_label,5,5)\n",
    "print('Glove Pretrained + KNN Train mean CV AUC score >> ', embed_knn_cv_mean_score)\n",
    "print('Glove Pretrained + KNN Valid AUC score >> ', embed_knn_test_auc_score)\n",
    "print('Glove Pretrained + KNN Valid Accuracy score >> ', embed_knn_test_accuracy_score)\n",
    "print('Glove Pretrained + KNN Valid F1 score >> ', embed_knn_test_f1_score)"
   ]
  },
  {
   "cell_type": "markdown",
   "metadata": {},
   "source": [
    "### Random Forest"
   ]
  },
  {
   "cell_type": "code",
   "execution_count": 100,
   "metadata": {},
   "outputs": [
    {
     "name": "stdout",
     "output_type": "stream",
     "text": [
      "Glove Pretrained + RFC Train mean CV AUC score >>  0.641915288027031\n",
      "Glove Pretrained + RFC Valid AUC score >>  0.6474760442184619\n",
      "Glove Pretrained + RFC Valid Accuracy score >>  0.6243496357960457\n",
      "Glove Pretrained + RFC Valid F1 score >>  0.6827768014059753\n"
     ]
    }
   ],
   "source": [
    "embed_rfc_cv_mean_score, embed_rfc_test_auc_score, embed_rfc_test_accuracy_score, embed_rfc_test_f1_score, embed_rfc_test_prob, embed_rfc_test_pred=models.random_forest_model(embed_train_feature_array, embed_valid_feature_array, train_label, valid_label,5)\n",
    "print('Glove Pretrained + RFC Train mean CV AUC score >> ', embed_rfc_cv_mean_score)\n",
    "print('Glove Pretrained + RFC Valid AUC score >> ', embed_rfc_test_auc_score)\n",
    "print('Glove Pretrained + RFC Valid Accuracy score >> ', embed_rfc_test_accuracy_score)\n",
    "print('Glove Pretrained + RFC Valid F1 score >> ', embed_rfc_test_f1_score)"
   ]
  },
  {
   "cell_type": "markdown",
   "metadata": {},
   "source": [
    "### Gradient Boosting"
   ]
  },
  {
   "cell_type": "code",
   "execution_count": 101,
   "metadata": {},
   "outputs": [
    {
     "name": "stdout",
     "output_type": "stream",
     "text": [
      "Glove Pretrained + GBC Train mean CV AUC score >>  0.6558330094831003\n",
      "Glove Pretrained + GBC Valid AUC score >>  0.6576115925895586\n",
      "Glove Pretrained + GBC Valid Accuracy score >>  0.6186264308012487\n",
      "Glove Pretrained + GBC Valid F1 score >>  0.7471541911003794\n"
     ]
    }
   ],
   "source": [
    "embed_gbc_cv_mean_score, embed_gbc_test_auc_score, embed_gbc_test_accuracy_score, embed_gbc_test_f1_score, embed_gbc_test_prob, embed_gbc_test_pred=models.gradient_boosting_model(embed_train_feature_array, embed_valid_feature_array, train_label, valid_label,5)\n",
    "print('Glove Pretrained + GBC Train mean CV AUC score >> ', embed_gbc_cv_mean_score)\n",
    "print('Glove Pretrained + GBC Valid AUC score >> ', embed_gbc_test_auc_score)\n",
    "print('Glove Pretrained + GBC Valid Accuracy score >> ', embed_gbc_test_accuracy_score)\n",
    "print('Glove Pretrained + GBC Valid F1 score >> ', embed_gbc_test_f1_score)"
   ]
  },
  {
   "cell_type": "markdown",
   "metadata": {},
   "source": [
    "## Word2Vec"
   ]
  },
  {
   "cell_type": "code",
   "execution_count": 102,
   "metadata": {},
   "outputs": [],
   "source": [
    "# build word2vec model\n",
    "import gensim\n",
    "w2v_num_features = 300\n",
    "w2v_model = gensim.models.Word2Vec(tokenized_train, size=w2v_num_features, window=20, min_count=2, sample=1e-3, sg=1, iter=5, workers=10)"
   ]
  },
  {
   "cell_type": "code",
   "execution_count": 103,
   "metadata": {},
   "outputs": [],
   "source": [
    "# Word2Vec vectors\n",
    "def document_vectorizer(corpus, model, num_features):\n",
    "    vocabulary = set(model.wv.index2word)\n",
    "    def average_word_vectors(words, model, vocabulary, num_features):\n",
    "        feature_vector = np.zeros((num_features,), dtype=\"float64\")\n",
    "        nwords = 0\n",
    "        for word in words:\n",
    "            if word in vocabulary:\n",
    "                nwords = nwords + 1\n",
    "                feature_vector = np.add(feature_vector, model.wv[word])\n",
    "        if nwords:\n",
    "            feature_vector = np.divide(feature_vector, nwords)\n",
    "\n",
    "        return feature_vector\n",
    "    features = [average_word_vectors(tokenized_sentence, model, vocabulary,num_features) for tokenized_sentence in corpus]\n",
    "    return np.array(features)"
   ]
  },
  {
   "cell_type": "code",
   "execution_count": 104,
   "metadata": {},
   "outputs": [
    {
     "name": "stdout",
     "output_type": "stream",
     "text": [
      "Word2Vec model:> Train features shape: (15383, 300)  Test features shape: (1922, 300)\n"
     ]
    }
   ],
   "source": [
    "# Get word2vec features for train and test datasets\n",
    "avg_wv_train_features = document_vectorizer(corpus=tokenized_train,model=w2v_model, num_features=w2v_num_features)\n",
    "avg_wv_valid_features = document_vectorizer(corpus=tokenized_valid, model=w2v_model, num_features=w2v_num_features)\n",
    "\n",
    "print('Word2Vec model:> Train features shape:', avg_wv_train_features.shape,' Test features shape:', avg_wv_valid_features.shape)"
   ]
  },
  {
   "cell_type": "markdown",
   "metadata": {},
   "source": [
    "### Naive Bayes Multinomial"
   ]
  },
  {
   "cell_type": "code",
   "execution_count": 105,
   "metadata": {},
   "outputs": [],
   "source": [
    "#Naive Bayes model does not work on arrays with negative values. \n",
    "#Accordingly I will be assigning N/A to the scores to be added later on to the table\n",
    "wv_mnb_cv_mean_score = 'N/A'\n",
    "wv_mnb_test_auc_score = 'N/A'\n",
    "wv_mnb_test_accuracy_score = 'N/A'\n",
    "wv_mnb_test_f1_score = 'N/A'"
   ]
  },
  {
   "cell_type": "markdown",
   "metadata": {},
   "source": [
    "### Naive Bayes Complement"
   ]
  },
  {
   "cell_type": "code",
   "execution_count": 106,
   "metadata": {},
   "outputs": [],
   "source": [
    "#Naive Bayes model does not work on arrays with negative values. \n",
    "#Accordingly I will be assigning N/A to the scores to be added later on to the table\n",
    "wv_cnb_cv_mean_score = 'N/A'\n",
    "wv_cnb_test_auc_score = 'N/A'\n",
    "wv_cnb_test_accuracy_score = 'N/A'\n",
    "wv_cnb_test_f1_score = 'N/A'"
   ]
  },
  {
   "cell_type": "markdown",
   "metadata": {},
   "source": [
    "### Logistic Regression"
   ]
  },
  {
   "cell_type": "code",
   "execution_count": 107,
   "metadata": {},
   "outputs": [
    {
     "name": "stdout",
     "output_type": "stream",
     "text": [
      "W2V + LR Train mean CV AUC score >>  0.7413971639874768\n",
      "W2V + LR Valid AUC score >>  0.750797029808522\n",
      "W2V + LR Valid Accuracy score >>  0.6992715920915713\n",
      "W2V + LR Valid F1 score >>  0.7613542526837325\n"
     ]
    }
   ],
   "source": [
    "wv_lr_cv_mean_score, wv_lr_test_auc_score, wv_lr_test_accuracy_score, wv_lr_test_f1_score, wv_lr_test_prob, wv_lr_test_pred=models.logistic_model(avg_wv_train_features, avg_wv_valid_features, train_label, valid_label,5)\n",
    "print('W2V + LR Train mean CV AUC score >> ', wv_lr_cv_mean_score)\n",
    "print('W2V + LR Valid AUC score >> ', wv_lr_test_auc_score)\n",
    "print('W2V + LR Valid Accuracy score >> ', wv_lr_test_accuracy_score)\n",
    "print('W2V + LR Valid F1 score >> ', wv_lr_test_f1_score)"
   ]
  },
  {
   "cell_type": "markdown",
   "metadata": {},
   "source": [
    "### SVM"
   ]
  },
  {
   "cell_type": "code",
   "execution_count": 108,
   "metadata": {},
   "outputs": [
    {
     "name": "stdout",
     "output_type": "stream",
     "text": [
      "W2V + SVM Train mean CV AUC score >>  0.7426547452219138\n",
      "W2V + SVM Valid AUC score >>  0.7591112766953084\n",
      "W2V + SVM Valid Accuracy score >>  0.700312174817898\n",
      "W2V + SVM Valid F1 score >>  0.7611940298507461\n"
     ]
    }
   ],
   "source": [
    "wv_svm_cv_mean_score, wv_svm_test_auc_score, wv_svm_test_accuracy_score, wv_svm_test_f1_score,wv_svm_test_df, wv_svm_test_pred=models.svm_model(avg_wv_train_features, avg_wv_valid_features, train_label, valid_label,5)\n",
    "print('W2V + SVM Train mean CV AUC score >> ', wv_svm_cv_mean_score)\n",
    "print('W2V + SVM Valid AUC score >> ', wv_svm_test_auc_score)\n",
    "print('W2V + SVM Valid Accuracy score >> ', wv_svm_test_accuracy_score)\n",
    "print('W2V + SVM Valid F1 score >> ', wv_svm_test_f1_score)"
   ]
  },
  {
   "cell_type": "markdown",
   "metadata": {},
   "source": [
    "### SVM with Stochastic Gradient Descent"
   ]
  },
  {
   "cell_type": "code",
   "execution_count": 109,
   "metadata": {},
   "outputs": [
    {
     "name": "stdout",
     "output_type": "stream",
     "text": [
      "W2V + SVM_SGD Train mean CV AUC score >>  0.7352274966847644\n",
      "W2V + SVM_SGD Valid AUC score >>  0.7594995516882669\n",
      "W2V + SVM_SGD Valid Accuracy score >>  0.6233090530697191\n",
      "W2V + SVM_SGD Valid F1 score >>  0.7545762711864407\n"
     ]
    }
   ],
   "source": [
    "wv_svm_sgd_cv_mean_score, wv_svm_sgd_test_auc_score, wv_svm_sgd_test_accuracy_score, wv_svm_sgd_test_f1_score, wv_svm_sgd_test_prob, wv_svm_sgd_test_pred=models.svm_sgd_model(avg_wv_train_features, avg_wv_valid_features, train_label, valid_label,5,max_iter=1000)\n",
    "print('W2V + SVM_SGD Train mean CV AUC score >> ', wv_svm_sgd_cv_mean_score)\n",
    "print('W2V + SVM_SGD Valid AUC score >> ', wv_svm_sgd_test_auc_score)\n",
    "print('W2V + SVM_SGD Valid Accuracy score >> ', wv_svm_sgd_test_accuracy_score)\n",
    "print('W2V + SVM_SGD Valid F1 score >> ', wv_svm_sgd_test_f1_score)"
   ]
  },
  {
   "cell_type": "markdown",
   "metadata": {},
   "source": [
    "### KNN"
   ]
  },
  {
   "cell_type": "code",
   "execution_count": 110,
   "metadata": {},
   "outputs": [
    {
     "name": "stdout",
     "output_type": "stream",
     "text": [
      "W2V + KNN Train mean CV AUC score >>  0.6874885819191673\n",
      "W2V + KNN Valid AUC score >>  0.7037237367315999\n",
      "W2V + KNN Valid Accuracy score >>  0.6540062434963579\n",
      "W2V + KNN Valid F1 score >>  0.7181008902077152\n"
     ]
    }
   ],
   "source": [
    "wv_knn_cv_mean_score, wv_knn_test_auc_score, wv_knn_test_accuracy_score, wv_knn_test_f1_score, wv_knn_test_prob, wv_knn_test_pred=models.knn_model(avg_wv_train_features, avg_wv_valid_features, train_label, valid_label,5,5)\n",
    "print('W2V + KNN Train mean CV AUC score >> ', wv_knn_cv_mean_score)\n",
    "print('W2V + KNN Valid AUC score >> ', wv_knn_test_auc_score)\n",
    "print('W2V + KNN Valid Accuracy score >> ', wv_knn_test_accuracy_score)\n",
    "print('W2V + KNN Valid F1 score >> ', wv_knn_test_f1_score)"
   ]
  },
  {
   "cell_type": "markdown",
   "metadata": {},
   "source": [
    "### Random Forest"
   ]
  },
  {
   "cell_type": "code",
   "execution_count": 111,
   "metadata": {},
   "outputs": [
    {
     "name": "stdout",
     "output_type": "stream",
     "text": [
      "W2V + RFC Train mean CV AUC score >>  0.7105545871197656\n",
      "W2V + RFC Valid AUC score >>  0.7349462082029263\n",
      "W2V + RFC Valid Accuracy score >>  0.6805411030176899\n",
      "W2V + RFC Valid F1 score >>  0.7211625794732062\n"
     ]
    }
   ],
   "source": [
    "wv_rfc_cv_mean_score, wv_rfc_test_auc_score, wv_rfc_test_accuracy_score, wv_rfc_test_f1_score, wv_rfc_test_prob, wv_rfc_test_pred=models.random_forest_model(avg_wv_train_features, avg_wv_valid_features, train_label, valid_label,5)\n",
    "print('W2V + RFC Train mean CV AUC score >> ', wv_rfc_cv_mean_score)\n",
    "print('W2V + RFC Valid AUC score >> ', wv_rfc_test_auc_score)\n",
    "print('W2V + RFC Valid Accuracy score >> ', wv_rfc_test_accuracy_score)\n",
    "print('W2V + RFC Valid F1 score >> ', wv_rfc_test_f1_score)"
   ]
  },
  {
   "cell_type": "markdown",
   "metadata": {},
   "source": [
    "### Gradient Boosting"
   ]
  },
  {
   "cell_type": "code",
   "execution_count": 112,
   "metadata": {},
   "outputs": [
    {
     "name": "stdout",
     "output_type": "stream",
     "text": [
      "W2V + GBC Train mean CV AUC score >>  0.7335718337269928\n",
      "W2V + GBC Valid AUC score >>  0.74856108205283\n",
      "W2V + GBC Valid Accuracy score >>  0.6727367325702394\n",
      "W2V + GBC Valid F1 score >>  0.7587265055619486\n"
     ]
    }
   ],
   "source": [
    "wv_gbc_cv_mean_score, wv_gbc_test_auc_score, wv_gbc_test_accuracy_score, wv_gbc_test_f1_score, wv_gbc_test_prob, wv_gbc_test_pred=models.gradient_boosting_model(avg_wv_train_features, avg_wv_valid_features, train_label, valid_label,5)\n",
    "print('W2V + GBC Train mean CV AUC score >> ', wv_gbc_cv_mean_score)\n",
    "print('W2V + GBC Valid AUC score >> ', wv_gbc_test_auc_score)\n",
    "print('W2V + GBC Valid Accuracy score >> ', wv_gbc_test_accuracy_score)\n",
    "print('W2V + GBC Valid F1 score >> ', wv_gbc_test_f1_score)"
   ]
  },
  {
   "cell_type": "code",
   "execution_count": 113,
   "metadata": {},
   "outputs": [
    {
     "data": {
      "text/html": [
       "<div>\n",
       "<style scoped>\n",
       "    .dataframe tbody tr th:only-of-type {\n",
       "        vertical-align: middle;\n",
       "    }\n",
       "\n",
       "    .dataframe tbody tr th {\n",
       "        vertical-align: top;\n",
       "    }\n",
       "\n",
       "    .dataframe thead th {\n",
       "        text-align: right;\n",
       "    }\n",
       "</style>\n",
       "<table border=\"1\" class=\"dataframe\">\n",
       "  <thead>\n",
       "    <tr style=\"text-align: right;\">\n",
       "      <th></th>\n",
       "      <th>Feature Engineering</th>\n",
       "      <th>Model</th>\n",
       "      <th>Cross Validation Mean AUC</th>\n",
       "      <th>Validation AUC</th>\n",
       "      <th>Validation Accuracy</th>\n",
       "      <th>Validation F1</th>\n",
       "    </tr>\n",
       "  </thead>\n",
       "  <tbody>\n",
       "    <tr>\n",
       "      <th>0</th>\n",
       "      <td>BOW (unigram)</td>\n",
       "      <td>Naive Bayes Multinomial</td>\n",
       "      <td>0.775518</td>\n",
       "      <td>0.810129</td>\n",
       "      <td>0.723205</td>\n",
       "      <td>0.785657</td>\n",
       "    </tr>\n",
       "    <tr>\n",
       "      <th>1</th>\n",
       "      <td>BOW (unigram)</td>\n",
       "      <td>Naive Bayes Compliment</td>\n",
       "      <td>0.775518</td>\n",
       "      <td>0.810129</td>\n",
       "      <td>0.735172</td>\n",
       "      <td>0.78368</td>\n",
       "    </tr>\n",
       "    <tr>\n",
       "      <th>2</th>\n",
       "      <td>BOW (unigram)</td>\n",
       "      <td>Logistic Regression</td>\n",
       "      <td>0.786814</td>\n",
       "      <td>0.811402</td>\n",
       "      <td>0.747138</td>\n",
       "      <td>0.787402</td>\n",
       "    </tr>\n",
       "    <tr>\n",
       "      <th>3</th>\n",
       "      <td>BOW (unigram)</td>\n",
       "      <td>SVM</td>\n",
       "      <td>0.750653</td>\n",
       "      <td>0.766949</td>\n",
       "      <td>0.71488</td>\n",
       "      <td>0.760699</td>\n",
       "    </tr>\n",
       "    <tr>\n",
       "      <th>4</th>\n",
       "      <td>BOW (unigram)</td>\n",
       "      <td>SVM with SGD</td>\n",
       "      <td>0.74787</td>\n",
       "      <td>0.763335</td>\n",
       "      <td>0.711759</td>\n",
       "      <td>0.75829</td>\n",
       "    </tr>\n",
       "    <tr>\n",
       "      <th>5</th>\n",
       "      <td>BOW (unigram)</td>\n",
       "      <td>KNN</td>\n",
       "      <td>0.665496</td>\n",
       "      <td>0.68776</td>\n",
       "      <td>0.622268</td>\n",
       "      <td>0.623444</td>\n",
       "    </tr>\n",
       "    <tr>\n",
       "      <th>6</th>\n",
       "      <td>BOW (unigram)</td>\n",
       "      <td>Random Forest</td>\n",
       "      <td>0.750844</td>\n",
       "      <td>0.764075</td>\n",
       "      <td>0.691467</td>\n",
       "      <td>0.722248</td>\n",
       "    </tr>\n",
       "    <tr>\n",
       "      <th>7</th>\n",
       "      <td>BOW (unigram)</td>\n",
       "      <td>Gradient Boosting</td>\n",
       "      <td>0.677119</td>\n",
       "      <td>0.685808</td>\n",
       "      <td>0.593652</td>\n",
       "      <td>0.745021</td>\n",
       "    </tr>\n",
       "    <tr>\n",
       "      <th>8</th>\n",
       "      <td>BOW (bigram)</td>\n",
       "      <td>Naive Bayes Multinomial</td>\n",
       "      <td>0.652194</td>\n",
       "      <td>0.733739</td>\n",
       "      <td>0.670135</td>\n",
       "      <td>0.750197</td>\n",
       "    </tr>\n",
       "    <tr>\n",
       "      <th>9</th>\n",
       "      <td>BOW (bigram)</td>\n",
       "      <td>Naive Bayes Compliment</td>\n",
       "      <td>0.652193</td>\n",
       "      <td>0.733753</td>\n",
       "      <td>0.676899</td>\n",
       "      <td>0.713693</td>\n",
       "    </tr>\n",
       "    <tr>\n",
       "      <th>10</th>\n",
       "      <td>BOW (bigram)</td>\n",
       "      <td>Logistic Regression</td>\n",
       "      <td>0.677796</td>\n",
       "      <td>0.727567</td>\n",
       "      <td>0.651405</td>\n",
       "      <td>0.748876</td>\n",
       "    </tr>\n",
       "    <tr>\n",
       "      <th>11</th>\n",
       "      <td>BOW (bigram)</td>\n",
       "      <td>SVM</td>\n",
       "      <td>0.664712</td>\n",
       "      <td>0.705636</td>\n",
       "      <td>0.655567</td>\n",
       "      <td>0.728466</td>\n",
       "    </tr>\n",
       "    <tr>\n",
       "      <th>12</th>\n",
       "      <td>BOW (bigram)</td>\n",
       "      <td>SVM with SGD</td>\n",
       "      <td>0.657596</td>\n",
       "      <td>0.701828</td>\n",
       "      <td>0.652445</td>\n",
       "      <td>0.726901</td>\n",
       "    </tr>\n",
       "    <tr>\n",
       "      <th>13</th>\n",
       "      <td>BOW (bigram)</td>\n",
       "      <td>KNN</td>\n",
       "      <td>0.517977</td>\n",
       "      <td>0.504812</td>\n",
       "      <td>0.513528</td>\n",
       "      <td>0.586832</td>\n",
       "    </tr>\n",
       "    <tr>\n",
       "      <th>14</th>\n",
       "      <td>BOW (bigram)</td>\n",
       "      <td>Random Forest</td>\n",
       "      <td>0.619047</td>\n",
       "      <td>0.668282</td>\n",
       "      <td>0.596774</td>\n",
       "      <td>0.600309</td>\n",
       "    </tr>\n",
       "    <tr>\n",
       "      <th>15</th>\n",
       "      <td>BOW (bigram)</td>\n",
       "      <td>Gradient Boosting</td>\n",
       "      <td>0.531359</td>\n",
       "      <td>0.540718</td>\n",
       "      <td>0.601977</td>\n",
       "      <td>0.747441</td>\n",
       "    </tr>\n",
       "    <tr>\n",
       "      <th>16</th>\n",
       "      <td>TF-IDF (unigram)</td>\n",
       "      <td>Naive Bayes Multinomial</td>\n",
       "      <td>0.767444</td>\n",
       "      <td>0.80094</td>\n",
       "      <td>0.669095</td>\n",
       "      <td>0.775265</td>\n",
       "    </tr>\n",
       "    <tr>\n",
       "      <th>17</th>\n",
       "      <td>TF-IDF (unigram)</td>\n",
       "      <td>Naive Bayes Compliment</td>\n",
       "      <td>0.767444</td>\n",
       "      <td>0.80094</td>\n",
       "      <td>0.720083</td>\n",
       "      <td>0.785315</td>\n",
       "    </tr>\n",
       "    <tr>\n",
       "      <th>18</th>\n",
       "      <td>TF-IDF (unigram)</td>\n",
       "      <td>Logistic Regression</td>\n",
       "      <td>0.787118</td>\n",
       "      <td>0.815301</td>\n",
       "      <td>0.746098</td>\n",
       "      <td>0.791809</td>\n",
       "    </tr>\n",
       "    <tr>\n",
       "      <th>19</th>\n",
       "      <td>TF-IDF (unigram)</td>\n",
       "      <td>SVM</td>\n",
       "      <td>0.768441</td>\n",
       "      <td>0.797107</td>\n",
       "      <td>0.729969</td>\n",
       "      <td>0.777349</td>\n",
       "    </tr>\n",
       "    <tr>\n",
       "      <th>20</th>\n",
       "      <td>TF-IDF (unigram)</td>\n",
       "      <td>SVM with SGD</td>\n",
       "      <td>0.77139</td>\n",
       "      <td>0.802754</td>\n",
       "      <td>0.736733</td>\n",
       "      <td>0.781331</td>\n",
       "    </tr>\n",
       "    <tr>\n",
       "      <th>21</th>\n",
       "      <td>TF-IDF (unigram)</td>\n",
       "      <td>KNN</td>\n",
       "      <td>0.517648</td>\n",
       "      <td>0.526024</td>\n",
       "      <td>0.448491</td>\n",
       "      <td>0.252468</td>\n",
       "    </tr>\n",
       "    <tr>\n",
       "      <th>22</th>\n",
       "      <td>TF-IDF (unigram)</td>\n",
       "      <td>Random Forest</td>\n",
       "      <td>0.742016</td>\n",
       "      <td>0.767253</td>\n",
       "      <td>0.700312</td>\n",
       "      <td>0.736986</td>\n",
       "    </tr>\n",
       "    <tr>\n",
       "      <th>23</th>\n",
       "      <td>TF-IDF (unigram)</td>\n",
       "      <td>Gradient Boosting</td>\n",
       "      <td>0.681463</td>\n",
       "      <td>0.683209</td>\n",
       "      <td>0.593132</td>\n",
       "      <td>0.744611</td>\n",
       "    </tr>\n",
       "    <tr>\n",
       "      <th>24</th>\n",
       "      <td>TF-IDF (bigram)</td>\n",
       "      <td>Naive Bayes Multinomial</td>\n",
       "      <td>0.669975</td>\n",
       "      <td>0.736458</td>\n",
       "      <td>0.639958</td>\n",
       "      <td>0.75461</td>\n",
       "    </tr>\n",
       "    <tr>\n",
       "      <th>25</th>\n",
       "      <td>TF-IDF (bigram)</td>\n",
       "      <td>Naive Bayes Compliment</td>\n",
       "      <td>0.669974</td>\n",
       "      <td>0.736458</td>\n",
       "      <td>0.681582</td>\n",
       "      <td>0.721565</td>\n",
       "    </tr>\n",
       "    <tr>\n",
       "      <th>26</th>\n",
       "      <td>TF-IDF (bigram)</td>\n",
       "      <td>Logistic Regression</td>\n",
       "      <td>0.680872</td>\n",
       "      <td>0.728517</td>\n",
       "      <td>0.633195</td>\n",
       "      <td>0.750971</td>\n",
       "    </tr>\n",
       "    <tr>\n",
       "      <th>27</th>\n",
       "      <td>TF-IDF (bigram)</td>\n",
       "      <td>SVM</td>\n",
       "      <td>0.677546</td>\n",
       "      <td>0.723302</td>\n",
       "      <td>0.665453</td>\n",
       "      <td>0.745145</td>\n",
       "    </tr>\n",
       "    <tr>\n",
       "      <th>28</th>\n",
       "      <td>TF-IDF  bigram)</td>\n",
       "      <td>SVM with SGD</td>\n",
       "      <td>0.677606</td>\n",
       "      <td>0.723794</td>\n",
       "      <td>0.663892</td>\n",
       "      <td>0.745067</td>\n",
       "    </tr>\n",
       "    <tr>\n",
       "      <th>29</th>\n",
       "      <td>TF-IDF (bigram)</td>\n",
       "      <td>KNN</td>\n",
       "      <td>0.499673</td>\n",
       "      <td>0.531477</td>\n",
       "      <td>0.475026</td>\n",
       "      <td>0.368981</td>\n",
       "    </tr>\n",
       "    <tr>\n",
       "      <th>30</th>\n",
       "      <td>TF-IDF (bigram)</td>\n",
       "      <td>Random Forest</td>\n",
       "      <td>0.612746</td>\n",
       "      <td>0.677167</td>\n",
       "      <td>0.586889</td>\n",
       "      <td>0.56517</td>\n",
       "    </tr>\n",
       "    <tr>\n",
       "      <th>31</th>\n",
       "      <td>TF-IDF (bigram)</td>\n",
       "      <td>Gradient Boosting</td>\n",
       "      <td>0.531654</td>\n",
       "      <td>0.535603</td>\n",
       "      <td>0.600416</td>\n",
       "      <td>0.746702</td>\n",
       "    </tr>\n",
       "    <tr>\n",
       "      <th>32</th>\n",
       "      <td>Glove</td>\n",
       "      <td>Naive Bayes Multinomial</td>\n",
       "      <td>N/A</td>\n",
       "      <td>N/A</td>\n",
       "      <td>N/A</td>\n",
       "      <td>N/A</td>\n",
       "    </tr>\n",
       "    <tr>\n",
       "      <th>33</th>\n",
       "      <td>Glove</td>\n",
       "      <td>Naive Bayes Compliment</td>\n",
       "      <td>N/A</td>\n",
       "      <td>N/A</td>\n",
       "      <td>N/A</td>\n",
       "      <td>N/A</td>\n",
       "    </tr>\n",
       "    <tr>\n",
       "      <th>34</th>\n",
       "      <td>Glove</td>\n",
       "      <td>Logistic Regression</td>\n",
       "      <td>0.6893</td>\n",
       "      <td>0.691289</td>\n",
       "      <td>0.649324</td>\n",
       "      <td>0.729535</td>\n",
       "    </tr>\n",
       "    <tr>\n",
       "      <th>35</th>\n",
       "      <td>Glove</td>\n",
       "      <td>SVM</td>\n",
       "      <td>0.687137</td>\n",
       "      <td>0.689517</td>\n",
       "      <td>0.646202</td>\n",
       "      <td>0.729084</td>\n",
       "    </tr>\n",
       "    <tr>\n",
       "      <th>36</th>\n",
       "      <td>Glove</td>\n",
       "      <td>SVM with SGD</td>\n",
       "      <td>0.670889</td>\n",
       "      <td>0.680846</td>\n",
       "      <td>0.649844</td>\n",
       "      <td>0.739248</td>\n",
       "    </tr>\n",
       "    <tr>\n",
       "      <th>37</th>\n",
       "      <td>Glove</td>\n",
       "      <td>KNN</td>\n",
       "      <td>0.639083</td>\n",
       "      <td>0.660079</td>\n",
       "      <td>0.631634</td>\n",
       "      <td>0.723653</td>\n",
       "    </tr>\n",
       "    <tr>\n",
       "      <th>38</th>\n",
       "      <td>Glove</td>\n",
       "      <td>Random Forest</td>\n",
       "      <td>0.641915</td>\n",
       "      <td>0.647476</td>\n",
       "      <td>0.62435</td>\n",
       "      <td>0.682777</td>\n",
       "    </tr>\n",
       "    <tr>\n",
       "      <th>39</th>\n",
       "      <td>Glove</td>\n",
       "      <td>Gradient Boosting</td>\n",
       "      <td>0.655833</td>\n",
       "      <td>0.657612</td>\n",
       "      <td>0.618626</td>\n",
       "      <td>0.747154</td>\n",
       "    </tr>\n",
       "    <tr>\n",
       "      <th>40</th>\n",
       "      <td>W2V</td>\n",
       "      <td>Naive Bayes Multinomial</td>\n",
       "      <td>N/A</td>\n",
       "      <td>N/A</td>\n",
       "      <td>N/A</td>\n",
       "      <td>N/A</td>\n",
       "    </tr>\n",
       "    <tr>\n",
       "      <th>41</th>\n",
       "      <td>W2V</td>\n",
       "      <td>Naive Bayes Compliment</td>\n",
       "      <td>N/A</td>\n",
       "      <td>N/A</td>\n",
       "      <td>N/A</td>\n",
       "      <td>N/A</td>\n",
       "    </tr>\n",
       "    <tr>\n",
       "      <th>42</th>\n",
       "      <td>W2V</td>\n",
       "      <td>Logistic Regression</td>\n",
       "      <td>0.741397</td>\n",
       "      <td>0.750797</td>\n",
       "      <td>0.699272</td>\n",
       "      <td>0.761354</td>\n",
       "    </tr>\n",
       "    <tr>\n",
       "      <th>43</th>\n",
       "      <td>W2V</td>\n",
       "      <td>SVM</td>\n",
       "      <td>0.742655</td>\n",
       "      <td>0.759111</td>\n",
       "      <td>0.700312</td>\n",
       "      <td>0.761194</td>\n",
       "    </tr>\n",
       "    <tr>\n",
       "      <th>44</th>\n",
       "      <td>W2V</td>\n",
       "      <td>SVM with SGD</td>\n",
       "      <td>0.735227</td>\n",
       "      <td>0.7595</td>\n",
       "      <td>0.623309</td>\n",
       "      <td>0.754576</td>\n",
       "    </tr>\n",
       "    <tr>\n",
       "      <th>45</th>\n",
       "      <td>W2V</td>\n",
       "      <td>KNN</td>\n",
       "      <td>0.687489</td>\n",
       "      <td>0.703724</td>\n",
       "      <td>0.654006</td>\n",
       "      <td>0.718101</td>\n",
       "    </tr>\n",
       "    <tr>\n",
       "      <th>46</th>\n",
       "      <td>W2V</td>\n",
       "      <td>Random Forest</td>\n",
       "      <td>0.710555</td>\n",
       "      <td>0.734946</td>\n",
       "      <td>0.680541</td>\n",
       "      <td>0.721163</td>\n",
       "    </tr>\n",
       "    <tr>\n",
       "      <th>47</th>\n",
       "      <td>W2V</td>\n",
       "      <td>Gradient Boosting</td>\n",
       "      <td>0.733572</td>\n",
       "      <td>0.748561</td>\n",
       "      <td>0.672737</td>\n",
       "      <td>0.758727</td>\n",
       "    </tr>\n",
       "  </tbody>\n",
       "</table>\n",
       "</div>"
      ],
      "text/plain": [
       "   Feature Engineering                    Model Cross Validation Mean AUC  \\\n",
       "0        BOW (unigram)  Naive Bayes Multinomial                  0.775518   \n",
       "1        BOW (unigram)   Naive Bayes Compliment                  0.775518   \n",
       "2        BOW (unigram)      Logistic Regression                  0.786814   \n",
       "3        BOW (unigram)                      SVM                  0.750653   \n",
       "4        BOW (unigram)             SVM with SGD                   0.74787   \n",
       "5        BOW (unigram)                      KNN                  0.665496   \n",
       "6        BOW (unigram)            Random Forest                  0.750844   \n",
       "7        BOW (unigram)        Gradient Boosting                  0.677119   \n",
       "8         BOW (bigram)  Naive Bayes Multinomial                  0.652194   \n",
       "9         BOW (bigram)   Naive Bayes Compliment                  0.652193   \n",
       "10        BOW (bigram)      Logistic Regression                  0.677796   \n",
       "11        BOW (bigram)                      SVM                  0.664712   \n",
       "12        BOW (bigram)             SVM with SGD                  0.657596   \n",
       "13        BOW (bigram)                      KNN                  0.517977   \n",
       "14        BOW (bigram)            Random Forest                  0.619047   \n",
       "15        BOW (bigram)        Gradient Boosting                  0.531359   \n",
       "16    TF-IDF (unigram)  Naive Bayes Multinomial                  0.767444   \n",
       "17    TF-IDF (unigram)   Naive Bayes Compliment                  0.767444   \n",
       "18    TF-IDF (unigram)      Logistic Regression                  0.787118   \n",
       "19    TF-IDF (unigram)                      SVM                  0.768441   \n",
       "20    TF-IDF (unigram)             SVM with SGD                   0.77139   \n",
       "21    TF-IDF (unigram)                      KNN                  0.517648   \n",
       "22    TF-IDF (unigram)            Random Forest                  0.742016   \n",
       "23    TF-IDF (unigram)        Gradient Boosting                  0.681463   \n",
       "24     TF-IDF (bigram)  Naive Bayes Multinomial                  0.669975   \n",
       "25     TF-IDF (bigram)   Naive Bayes Compliment                  0.669974   \n",
       "26     TF-IDF (bigram)      Logistic Regression                  0.680872   \n",
       "27     TF-IDF (bigram)                      SVM                  0.677546   \n",
       "28     TF-IDF  bigram)             SVM with SGD                  0.677606   \n",
       "29     TF-IDF (bigram)                      KNN                  0.499673   \n",
       "30     TF-IDF (bigram)            Random Forest                  0.612746   \n",
       "31     TF-IDF (bigram)        Gradient Boosting                  0.531654   \n",
       "32               Glove  Naive Bayes Multinomial                       N/A   \n",
       "33               Glove   Naive Bayes Compliment                       N/A   \n",
       "34               Glove      Logistic Regression                    0.6893   \n",
       "35               Glove                      SVM                  0.687137   \n",
       "36               Glove             SVM with SGD                  0.670889   \n",
       "37               Glove                      KNN                  0.639083   \n",
       "38               Glove            Random Forest                  0.641915   \n",
       "39               Glove        Gradient Boosting                  0.655833   \n",
       "40                 W2V  Naive Bayes Multinomial                       N/A   \n",
       "41                 W2V   Naive Bayes Compliment                       N/A   \n",
       "42                 W2V      Logistic Regression                  0.741397   \n",
       "43                 W2V                      SVM                  0.742655   \n",
       "44                 W2V             SVM with SGD                  0.735227   \n",
       "45                 W2V                      KNN                  0.687489   \n",
       "46                 W2V            Random Forest                  0.710555   \n",
       "47                 W2V        Gradient Boosting                  0.733572   \n",
       "\n",
       "   Validation AUC Validation Accuracy Validation F1  \n",
       "0        0.810129            0.723205      0.785657  \n",
       "1        0.810129            0.735172       0.78368  \n",
       "2        0.811402            0.747138      0.787402  \n",
       "3        0.766949             0.71488      0.760699  \n",
       "4        0.763335            0.711759       0.75829  \n",
       "5         0.68776            0.622268      0.623444  \n",
       "6        0.764075            0.691467      0.722248  \n",
       "7        0.685808            0.593652      0.745021  \n",
       "8        0.733739            0.670135      0.750197  \n",
       "9        0.733753            0.676899      0.713693  \n",
       "10       0.727567            0.651405      0.748876  \n",
       "11       0.705636            0.655567      0.728466  \n",
       "12       0.701828            0.652445      0.726901  \n",
       "13       0.504812            0.513528      0.586832  \n",
       "14       0.668282            0.596774      0.600309  \n",
       "15       0.540718            0.601977      0.747441  \n",
       "16        0.80094            0.669095      0.775265  \n",
       "17        0.80094            0.720083      0.785315  \n",
       "18       0.815301            0.746098      0.791809  \n",
       "19       0.797107            0.729969      0.777349  \n",
       "20       0.802754            0.736733      0.781331  \n",
       "21       0.526024            0.448491      0.252468  \n",
       "22       0.767253            0.700312      0.736986  \n",
       "23       0.683209            0.593132      0.744611  \n",
       "24       0.736458            0.639958       0.75461  \n",
       "25       0.736458            0.681582      0.721565  \n",
       "26       0.728517            0.633195      0.750971  \n",
       "27       0.723302            0.665453      0.745145  \n",
       "28       0.723794            0.663892      0.745067  \n",
       "29       0.531477            0.475026      0.368981  \n",
       "30       0.677167            0.586889       0.56517  \n",
       "31       0.535603            0.600416      0.746702  \n",
       "32            N/A                 N/A           N/A  \n",
       "33            N/A                 N/A           N/A  \n",
       "34       0.691289            0.649324      0.729535  \n",
       "35       0.689517            0.646202      0.729084  \n",
       "36       0.680846            0.649844      0.739248  \n",
       "37       0.660079            0.631634      0.723653  \n",
       "38       0.647476             0.62435      0.682777  \n",
       "39       0.657612            0.618626      0.747154  \n",
       "40            N/A                 N/A           N/A  \n",
       "41            N/A                 N/A           N/A  \n",
       "42       0.750797            0.699272      0.761354  \n",
       "43       0.759111            0.700312      0.761194  \n",
       "44         0.7595            0.623309      0.754576  \n",
       "45       0.703724            0.654006      0.718101  \n",
       "46       0.734946            0.680541      0.721163  \n",
       "47       0.748561            0.672737      0.758727  "
      ]
     },
     "execution_count": 113,
     "metadata": {},
     "output_type": "execute_result"
    }
   ],
   "source": [
    "pd.DataFrame([\n",
    "              ['BOW (unigram)','Naive Bayes Multinomial',bow1_mnb_cv_mean_score,bow1_mnb_test_auc_score,bow1_mnb_test_accuracy_score,bow1_mnb_test_f1_score],\n",
    "              ['BOW (unigram)','Naive Bayes Compliment',bow1_cnb_cv_mean_score,bow1_cnb_test_auc_score,bow1_cnb_test_accuracy_score,bow1_cnb_test_f1_score],\n",
    "              ['BOW (unigram)','Logistic Regression',bow1_lr_cv_mean_score,bow1_lr_test_auc_score,bow1_lr_test_accuracy_score,bow1_lr_test_f1_score],\n",
    "              ['BOW (unigram)','SVM',bow1_svm_cv_mean_score,bow1_svm_test_auc_score,bow1_svm_test_accuracy_score,bow1_svm_test_f1_score],\n",
    "              ['BOW (unigram)','SVM with SGD',bow1_svm_sgd_cv_mean_score,bow1_svm_sgd_test_auc_score,bow1_svm_sgd_test_accuracy_score,bow1_svm_sgd_test_f1_score],\n",
    "              ['BOW (unigram)','KNN',bow1_knn_cv_mean_score,bow1_knn_test_auc_score,bow1_knn_test_accuracy_score,bow1_knn_test_f1_score],\n",
    "              ['BOW (unigram)','Random Forest',bow1_rfc_cv_mean_score,bow1_rfc_test_auc_score,bow1_rfc_test_accuracy_score,bow1_rfc_test_f1_score],\n",
    "              ['BOW (unigram)','Gradient Boosting',bow1_gbc_cv_mean_score,bow1_gbc_test_auc_score,bow1_gbc_test_accuracy_score,bow1_gbc_test_f1_score ],\n",
    "              ['BOW (bigram)','Naive Bayes Multinomial',bow2_mnb_cv_mean_score,bow2_mnb_test_auc_score,bow2_mnb_test_accuracy_score,bow2_mnb_test_f1_score],\n",
    "              ['BOW (bigram)','Naive Bayes Compliment',bow2_cnb_cv_mean_score,bow2_cnb_test_auc_score,bow2_cnb_test_accuracy_score,bow2_cnb_test_f1_score],\n",
    "              ['BOW (bigram)','Logistic Regression',bow2_lr_cv_mean_score,bow2_lr_test_auc_score,bow2_lr_test_accuracy_score,bow2_lr_test_f1_score],\n",
    "              ['BOW (bigram)','SVM',bow2_svm_cv_mean_score,bow2_svm_test_auc_score,bow2_svm_test_accuracy_score,bow2_svm_test_f1_score],\n",
    "              ['BOW (bigram)','SVM with SGD',bow2_svm_sgd_cv_mean_score,bow2_svm_sgd_test_auc_score,bow2_svm_sgd_test_accuracy_score,bow2_svm_sgd_test_f1_score],\n",
    "              ['BOW (bigram)','KNN',bow2_knn_cv_mean_score,bow2_knn_test_auc_score,bow2_knn_test_accuracy_score,bow2_knn_test_f1_score],\n",
    "              ['BOW (bigram)','Random Forest',bow2_rfc_cv_mean_score,bow2_rfc_test_auc_score,bow2_rfc_test_accuracy_score,bow2_rfc_test_f1_score],\n",
    "              ['BOW (bigram)','Gradient Boosting',bow2_gbc_cv_mean_score,bow2_gbc_test_auc_score,bow2_gbc_test_accuracy_score,bow2_gbc_test_f1_score ],        ['TF-IDF (unigram)','Naive Bayes Multinomial',tv_mnb_cv_mean_score,tv_mnb_test_auc_score,tv_mnb_test_accuracy_score,tv_mnb_test_f1_score],\n",
    "              ['TF-IDF (unigram)','Naive Bayes Compliment',tv_cnb_cv_mean_score,tv_cnb_test_auc_score,tv_cnb_test_accuracy_score,tv_cnb_test_f1_score],\n",
    "              ['TF-IDF (unigram)','Logistic Regression',tv_lr_cv_mean_score,tv_lr_test_auc_score,tv_lr_test_accuracy_score,tv_lr_test_f1_score],\n",
    "              ['TF-IDF (unigram)','SVM',tv_svm_cv_mean_score,tv_svm_test_auc_score,tv_svm_test_accuracy_score,tv_svm_test_f1_score],\n",
    "              ['TF-IDF (unigram)','SVM with SGD',tv_svm_sgd_cv_mean_score,tv_svm_sgd_test_auc_score,tv_svm_sgd_test_accuracy_score,tv_svm_sgd_test_f1_score],\n",
    "              ['TF-IDF (unigram)','KNN',tv_knn_cv_mean_score,tv_knn_test_auc_score,tv_knn_test_accuracy_score,tv_knn_test_f1_score],\n",
    "              ['TF-IDF (unigram)','Random Forest',tv_rfc_cv_mean_score,tv_rfc_test_auc_score,tv_rfc_test_accuracy_score,tv_rfc_test_f1_score],\n",
    "              ['TF-IDF (unigram)','Gradient Boosting',tv_gbc_cv_mean_score,tv_gbc_test_auc_score,tv_gbc_test_accuracy_score,tv_gbc_test_f1_score ],            ['TF-IDF (bigram)','Naive Bayes Multinomial',tv2_mnb_cv_mean_score,tv2_mnb_test_auc_score,tv2_mnb_test_accuracy_score,tv2_mnb_test_f1_score],\n",
    "              ['TF-IDF (bigram)','Naive Bayes Compliment',tv2_cnb_cv_mean_score,tv2_cnb_test_auc_score,tv2_cnb_test_accuracy_score,tv2_cnb_test_f1_score],\n",
    "              ['TF-IDF (bigram)','Logistic Regression',tv2_lr_cv_mean_score,tv2_lr_test_auc_score,tv2_lr_test_accuracy_score,tv2_lr_test_f1_score],\n",
    "              ['TF-IDF (bigram)','SVM',tv2_svm_cv_mean_score,tv2_svm_test_auc_score,tv2_svm_test_accuracy_score,tv2_svm_test_f1_score],\n",
    "              ['TF-IDF  bigram)','SVM with SGD',tv2_svm_sgd_cv_mean_score,tv2_svm_sgd_test_auc_score,tv2_svm_sgd_test_accuracy_score,tv2_svm_sgd_test_f1_score],\n",
    "              ['TF-IDF (bigram)','KNN',tv2_knn_cv_mean_score,tv2_knn_test_auc_score,tv2_knn_test_accuracy_score,tv2_knn_test_f1_score],\n",
    "              ['TF-IDF (bigram)','Random Forest',tv2_rfc_cv_mean_score,tv2_rfc_test_auc_score,tv2_rfc_test_accuracy_score,tv2_rfc_test_f1_score],\n",
    "              ['TF-IDF (bigram)','Gradient Boosting',tv2_gbc_cv_mean_score,tv2_gbc_test_auc_score,tv2_gbc_test_accuracy_score,tv2_gbc_test_f1_score ],\n",
    "              ['Glove','Naive Bayes Multinomial',embed_mnb_cv_mean_score,embed_mnb_test_auc_score,embed_mnb_test_accuracy_score,embed_mnb_test_f1_score],\n",
    "              ['Glove','Naive Bayes Compliment',embed_cnb_cv_mean_score,embed_cnb_test_auc_score,embed_cnb_test_accuracy_score,embed_cnb_test_f1_score],\n",
    "              ['Glove','Logistic Regression',embed_lr_cv_mean_score,embed_lr_test_auc_score,embed_lr_test_accuracy_score,embed_lr_test_f1_score],\n",
    "              ['Glove','SVM',embed_svm_cv_mean_score,embed_svm_test_auc_score,embed_svm_test_accuracy_score,embed_svm_test_f1_score],\n",
    "              ['Glove','SVM with SGD',embed_svm_sgd_cv_mean_score,embed_svm_sgd_test_auc_score,embed_svm_sgd_test_accuracy_score,embed_svm_sgd_test_f1_score],\n",
    "              ['Glove','KNN',embed_knn_cv_mean_score,embed_knn_test_auc_score,embed_knn_test_accuracy_score,embed_knn_test_f1_score],\n",
    "              ['Glove','Random Forest',embed_rfc_cv_mean_score,embed_rfc_test_auc_score,embed_rfc_test_accuracy_score,embed_rfc_test_f1_score],\n",
    "              ['Glove','Gradient Boosting',embed_gbc_cv_mean_score,embed_gbc_test_auc_score,embed_gbc_test_accuracy_score,embed_gbc_test_f1_score ],\n",
    "              ['W2V','Naive Bayes Multinomial',wv_mnb_cv_mean_score,wv_mnb_test_auc_score,wv_mnb_test_accuracy_score,wv_mnb_test_f1_score],\n",
    "              ['W2V','Naive Bayes Compliment',wv_cnb_cv_mean_score,wv_cnb_test_auc_score,wv_cnb_test_accuracy_score,wv_cnb_test_f1_score],\n",
    "              ['W2V','Logistic Regression',wv_lr_cv_mean_score,wv_lr_test_auc_score,wv_lr_test_accuracy_score,wv_lr_test_f1_score],\n",
    "              ['W2V','SVM',wv_svm_cv_mean_score,wv_svm_test_auc_score,wv_svm_test_accuracy_score,wv_svm_test_f1_score],\n",
    "              ['W2V','SVM with SGD',wv_svm_sgd_cv_mean_score,wv_svm_sgd_test_auc_score,wv_svm_sgd_test_accuracy_score,wv_svm_sgd_test_f1_score],\n",
    "              ['W2V','KNN',wv_knn_cv_mean_score,wv_knn_test_auc_score,wv_knn_test_accuracy_score,wv_knn_test_f1_score],\n",
    "              ['W2V','Random Forest',wv_rfc_cv_mean_score,wv_rfc_test_auc_score,wv_rfc_test_accuracy_score,wv_rfc_test_f1_score],\n",
    "              ['W2V','Gradient Boosting',wv_gbc_cv_mean_score,wv_gbc_test_auc_score,wv_gbc_test_accuracy_score,wv_gbc_test_f1_score ],                    \n",
    "             ],columns=['Feature Engineering','Model', 'Cross Validation Mean AUC', 'Validation AUC','Validation Accuracy', 'Validation F1'])\n"
   ]
  },
  {
   "cell_type": "markdown",
   "metadata": {},
   "source": [
    "# <center> Model Optimization</center>"
   ]
  },
  {
   "cell_type": "markdown",
   "metadata": {},
   "source": [
    "Comparing the above table, we can see that BOW (unigram) and TF-IDF (unigram) has the best results when applied to Naive Bayes (Multinomial and compliment) and Logistic Regression; <br/>\n",
    "Next, we will determine the best hyperparameters for each above models"
   ]
  },
  {
   "cell_type": "code",
   "execution_count": 114,
   "metadata": {},
   "outputs": [],
   "source": [
    "# Model Optimization\n",
    "from sklearn.model_selection import GridSearchCV\n",
    "from sklearn.model_selection import RandomizedSearchCV"
   ]
  },
  {
   "cell_type": "markdown",
   "metadata": {},
   "source": [
    "## Logistic Regression - BOW (unigram)"
   ]
  },
  {
   "cell_type": "markdown",
   "metadata": {},
   "source": [
    "### Grid Search"
   ]
  },
  {
   "cell_type": "code",
   "execution_count": 115,
   "metadata": {},
   "outputs": [],
   "source": [
    "# Set the parameter grid on which we will search for the best hyper-parameter combinations\n",
    "max_iter=[1000,1500,2000,2500,3000,3500]\n",
    "penalty = [\"l1\", \"l2\"]\n",
    "C = np.logspace(0, 4, 10)\n",
    "param_grid = dict(max_iter=max_iter, penalty =penalty, C=C)"
   ]
  },
  {
   "cell_type": "code",
   "execution_count": 116,
   "metadata": {},
   "outputs": [],
   "source": [
    "# Create the logistic regression model without any parameter\n",
    "lr = model.LogisticRegression(random_state=42)"
   ]
  },
  {
   "cell_type": "code",
   "execution_count": 117,
   "metadata": {},
   "outputs": [],
   "source": [
    "# Configure the grid search algorithm to take into account the parameter grid \n",
    "grid = GridSearchCV(estimator=lr, param_grid=param_grid, cv = 5, n_jobs=-1, scoring='roc_auc') #To use the AUC in the optimization"
   ]
  },
  {
   "cell_type": "code",
   "execution_count": 118,
   "metadata": {},
   "outputs": [],
   "source": [
    "# Fit with all the parameters\n",
    "grid_result = grid.fit(cv_train_features,  train_label)"
   ]
  },
  {
   "cell_type": "code",
   "execution_count": 119,
   "metadata": {},
   "outputs": [
    {
     "name": "stdout",
     "output_type": "stream",
     "text": [
      "Best: 0.786814 using {'C': 1.0, 'max_iter': 1000, 'penalty': 'l2'}\n"
     ]
    }
   ],
   "source": [
    "# Summarize results\n",
    "print(\"Best: %f using %s\" % (grid_result.best_score_, grid_result.best_params_))"
   ]
  },
  {
   "cell_type": "markdown",
   "metadata": {},
   "source": [
    "### Random Search"
   ]
  },
  {
   "cell_type": "code",
   "execution_count": 120,
   "metadata": {},
   "outputs": [],
   "source": [
    "# Apply also random search to see the difference between the two\n",
    "# Definitely, random search is faster\n",
    "random = RandomizedSearchCV(estimator=lr, param_distributions=param_grid, cv = 5, n_jobs=-1, scoring='roc_auc')"
   ]
  },
  {
   "cell_type": "code",
   "execution_count": 121,
   "metadata": {},
   "outputs": [],
   "source": [
    "# Fit with all the parameters\n",
    "random_result = random.fit(cv_train_features,  train_label)"
   ]
  },
  {
   "cell_type": "code",
   "execution_count": 122,
   "metadata": {},
   "outputs": [
    {
     "name": "stdout",
     "output_type": "stream",
     "text": [
      "Best Logistic Regression: 0.775879 using {'penalty': 'l2', 'max_iter': 3000, 'C': 2.7825594022071245}\n"
     ]
    }
   ],
   "source": [
    "# Summarize results\n",
    "print(\"Best Logistic Regression: %f using %s\" % (random_result.best_score_, random_result.best_params_))"
   ]
  },
  {
   "cell_type": "markdown",
   "metadata": {},
   "source": [
    "## Logistic Regression - TF-IDF (unigram)"
   ]
  },
  {
   "cell_type": "markdown",
   "metadata": {},
   "source": [
    "### Grid Search"
   ]
  },
  {
   "cell_type": "code",
   "execution_count": 123,
   "metadata": {},
   "outputs": [],
   "source": [
    "# Fit with all the parameters\n",
    "grid_result = grid.fit(tv_train_features,  train_label)"
   ]
  },
  {
   "cell_type": "code",
   "execution_count": 124,
   "metadata": {},
   "outputs": [
    {
     "name": "stdout",
     "output_type": "stream",
     "text": [
      "Best: 0.787118 using {'C': 1.0, 'max_iter': 1000, 'penalty': 'l2'}\n"
     ]
    }
   ],
   "source": [
    "# Summarize results\n",
    "print(\"Best: %f using %s\" % (grid_result.best_score_, grid_result.best_params_))"
   ]
  },
  {
   "cell_type": "markdown",
   "metadata": {},
   "source": [
    "### Random Search"
   ]
  },
  {
   "cell_type": "code",
   "execution_count": 125,
   "metadata": {},
   "outputs": [],
   "source": [
    "# Fit with all the parameters\n",
    "random_result = random.fit(tv_train_features,  train_label)"
   ]
  },
  {
   "cell_type": "code",
   "execution_count": 126,
   "metadata": {},
   "outputs": [
    {
     "name": "stdout",
     "output_type": "stream",
     "text": [
      "Best Logistic Regression: 0.690263 using {'penalty': 'l2', 'max_iter': 3500, 'C': 1291.5496650148827}\n"
     ]
    }
   ],
   "source": [
    "# Summarize results\n",
    "print(\"Best Logistic Regression: %f using %s\" % (random_result.best_score_, random_result.best_params_))"
   ]
  },
  {
   "cell_type": "markdown",
   "metadata": {},
   "source": [
    "# <center> Retraining on Train+Valid & Evaluation on Test Data</center>"
   ]
  },
  {
   "cell_type": "markdown",
   "metadata": {},
   "source": [
    "Now I will retrain the tuned models on the train+valid corpus:"
   ]
  },
  {
   "cell_type": "code",
   "execution_count": 140,
   "metadata": {},
   "outputs": [],
   "source": [
    "train_final_corpus = np.concatenate((train_corpus,valid_corpus))\n",
    "train_final_label = np.concatenate((train_label,valid_label))"
   ]
  },
  {
   "cell_type": "code",
   "execution_count": 141,
   "metadata": {},
   "outputs": [],
   "source": [
    "#Apply combination on train_final data (train+valid)\n",
    "norm_train_final_corpus = pp2.normalize_corpus(corpus=train_final_corpus, html_stripping=False, contraction_expansion=False,\n",
    "                      accented_char_removal=False, text_lower_case=False, \n",
    "                      text_lemmatization=False, special_char_removal=False, \n",
    "                      stopword_removal=True,text_stemming = True,stem='ps')\n",
    "\n",
    "#Apply combination on test data\n",
    "norm_test_corpus = pp2.normalize_corpus(corpus=test_corpus, html_stripping=False, contraction_expansion=False,\n",
    "                      accented_char_removal=False, text_lower_case=False, \n",
    "                      text_lemmatization=False, special_char_removal=False, \n",
    "                      stopword_removal=True,text_stemming = True,stem='ps')"
   ]
  },
  {
   "cell_type": "code",
   "execution_count": 142,
   "metadata": {},
   "outputs": [
    {
     "name": "stdout",
     "output_type": "stream",
     "text": [
      "TFIDF model:> Train features shape: (17305, 18182)  Test features shape: (1924, 18182)\n"
     ]
    }
   ],
   "source": [
    "tv_train_final_features,tv_test_features = fe.tfidf_vectors(norm_train_final_corpus, norm_test_corpus,ngram_range=(1,1),max_features=None)\n",
    "print('TFIDF model:> Train features shape:', tv_train_final_features.shape,' Test features shape:', tv_test_features.shape)"
   ]
  },
  {
   "cell_type": "code",
   "execution_count": 143,
   "metadata": {},
   "outputs": [
    {
     "name": "stdout",
     "output_type": "stream",
     "text": [
      "Unigram Tf-IDF + LR Train mean CV AUC score >>  0.797811610266711\n",
      "Unigram Tf-IDF + LR Test AUC score >>  0.8274749060516615\n",
      "Unigram Tf-IDF + LR Test Accuracy score >>  0.747920997920998\n",
      "Unigram Tf-IDF + LR Test F1 score >>  0.7963040739185216\n"
     ]
    }
   ],
   "source": [
    "tv_lr_cv_mean_score_1, tv_lr_test_auc_score_1, tv_lr_test_accuracy_score_1, tv_lr_test_f1_score_1, tv_lr_test_prob_1, tv_lr_test_pred_1=models.logistic_model(tv_train_final_features, tv_test_features, train_final_label, test_label,5)\n",
    "print('Unigram Tf-IDF + LR Train mean CV AUC score >> ', tv_lr_cv_mean_score_1)\n",
    "print('Unigram Tf-IDF + LR Test AUC score >> ', tv_lr_test_auc_score_1)\n",
    "print('Unigram Tf-IDF + LR Test Accuracy score >> ', tv_lr_test_accuracy_score_1)\n",
    "print('Unigram Tf-IDF + LR Test F1 score >> ', tv_lr_test_f1_score_1)"
   ]
  },
  {
   "cell_type": "code",
   "execution_count": 144,
   "metadata": {},
   "outputs": [
    {
     "data": {
      "text/plain": [
       "<sklearn.metrics._plot.confusion_matrix.ConfusionMatrixDisplay at 0x20f8dba7370>"
      ]
     },
     "execution_count": 144,
     "metadata": {},
     "output_type": "execute_result"
    },
    {
     "data": {
      "image/png": "[encoded data removed]",
      "text/plain": [
       "<Figure size 432x288 with 2 Axes>"
      ]
     },
     "metadata": {
      "needs_background": "light"
     },
     "output_type": "display_data"
    }
   ],
   "source": [
    "#confusion matrix\n",
    "from sklearn.metrics import confusion_matrix, ConfusionMatrixDisplay\n",
    "cm = confusion_matrix(test_label, tv_lr_test_pred_1)\n",
    "disp = ConfusionMatrixDisplay(confusion_matrix=cm)\n",
    "disp.plot()"
   ]
  },
  {
   "cell_type": "code",
   "execution_count": 145,
   "metadata": {},
   "outputs": [],
   "source": [
    "def display_confusion_matrix(true_labels, predicted_labels, classes=[1,0]):\n",
    "    \n",
    "    total_classes = len(classes)\n",
    "    level_labels = [total_classes*[0], list(range(total_classes))]\n",
    "\n",
    "    cm = confusion_matrix(y_true=true_labels, y_pred=predicted_labels, \n",
    "                                  labels=classes)\n",
    "    cm_frame = pd.DataFrame(data=cm, \n",
    "                            columns=pd.MultiIndex(levels=[['Predicted:'], classes], \n",
    "                                                  codes=level_labels), \n",
    "                            index=pd.MultiIndex(levels=[['Actual:'], classes], \n",
    "                                                codes=level_labels)) \n",
    "    return cm_frame"
   ]
  },
  {
   "cell_type": "code",
   "execution_count": 146,
   "metadata": {},
   "outputs": [
    {
     "data": {
      "text/html": [
       "<div>\n",
       "<style scoped>\n",
       "    .dataframe tbody tr th:only-of-type {\n",
       "        vertical-align: middle;\n",
       "    }\n",
       "\n",
       "    .dataframe tbody tr th {\n",
       "        vertical-align: top;\n",
       "    }\n",
       "\n",
       "    .dataframe thead tr th {\n",
       "        text-align: left;\n",
       "    }\n",
       "</style>\n",
       "<table border=\"1\" class=\"dataframe\">\n",
       "  <thead>\n",
       "    <tr>\n",
       "      <th></th>\n",
       "      <th></th>\n",
       "      <th colspan=\"2\" halign=\"left\">Predicted:</th>\n",
       "    </tr>\n",
       "    <tr>\n",
       "      <th></th>\n",
       "      <th></th>\n",
       "      <th>1</th>\n",
       "      <th>0</th>\n",
       "    </tr>\n",
       "  </thead>\n",
       "  <tbody>\n",
       "    <tr>\n",
       "      <th rowspan=\"2\" valign=\"top\">Actual:</th>\n",
       "      <th>1</th>\n",
       "      <td>948</td>\n",
       "      <td>194</td>\n",
       "    </tr>\n",
       "    <tr>\n",
       "      <th>0</th>\n",
       "      <td>291</td>\n",
       "      <td>491</td>\n",
       "    </tr>\n",
       "  </tbody>\n",
       "</table>\n",
       "</div>"
      ],
      "text/plain": [
       "          Predicted:     \n",
       "                   1    0\n",
       "Actual: 1        948  194\n",
       "        0        291  491"
      ]
     },
     "execution_count": 146,
     "metadata": {},
     "output_type": "execute_result"
    }
   ],
   "source": [
    "display_confusion_matrix(test_label, tv_lr_test_pred_1)"
   ]
  },
  {
   "cell_type": "code",
   "execution_count": 147,
   "metadata": {},
   "outputs": [],
   "source": [
    "# Method used to extract values from confusion matrix based on the indices\n",
    "def sample_cf(indices, data_test):\n",
    "    toxic = []\n",
    "    for index in indices:\n",
    "        toxic.append(data_test.iloc[index].sentence)\n",
    "    return toxic"
   ]
  },
  {
   "cell_type": "code",
   "execution_count": 148,
   "metadata": {},
   "outputs": [],
   "source": [
    "# Actual positive and predicted positive    \n",
    "def true_positives(test_label, pred_test):\n",
    "    indices = []\n",
    "    for i in range(len(test_label)):\n",
    "        if (test_label[i] == 1)  and (test_label[i] == pred_test[i]):\n",
    "            indices.append(i)\n",
    "    # Actual Toxic and predicted toxic\n",
    "    return  indices\n",
    "\n",
    "# Actual positive and predicted negative\n",
    "def false_negative(test_label, pred_test ):\n",
    "    indices = []\n",
    "    for i in range(len(test_label)):\n",
    "        if (test_label[i] == 1)  and (test_label[i] != pred_test[i]):\n",
    "            indices.append(i)\n",
    "        # Actual Toxic but predicted non-toxic\n",
    "    return indices\n",
    "\n",
    "# Actual negative and predicted positive\n",
    "def false_positive(test_label, pred_test ):\n",
    "    indices = []\n",
    "    for i in range(len(test_label)):\n",
    "        if (test_label[i] != 1)  and (test_label[i] != pred_test[i]):\n",
    "            indices.append(i)\n",
    "        # Actual Non-Toxic but predicted toxic\n",
    "    return indices\n",
    "\n",
    "# Actual negative and predicted negative\n",
    "def true_negative(test_label, pred_test ):\n",
    "    indices = []\n",
    "    for i in range(len(test_label)):\n",
    "        if (test_label[i] != 1)  and (test_label[i] == pred_test[i]):\n",
    "            indices.append(i)\n",
    "        # Actual Non-Toxic and predicted non-toxic\n",
    "    return indices"
   ]
  },
  {
   "cell_type": "code",
   "execution_count": 149,
   "metadata": {},
   "outputs": [
    {
     "name": "stdout",
     "output_type": "stream",
     "text": [
      "True Positive indices >>  [1, 4, 7, 9, 14, 19, 20, 21, 23, 24, 25, 26, 28, 29, 31, 33, 43, 46, 49, 50, 51, 52, 54, 55, 58, 59, 61, 62, 65, 68, 70, 71, 73, 76, 78, 80, 81, 82, 85, 86, 87, 89, 91, 92, 97, 102, 103, 104, 105, 107, 109, 111, 112, 113, 114, 115, 119, 120, 124, 125, 131, 132, 133, 134, 138, 139, 141, 142, 143, 146, 147, 149, 150, 151, 154, 156, 171, 173, 174, 176, 177, 179, 180, 181, 182, 186, 187, 188, 189, 190, 191, 192, 193, 195, 197, 205, 206, 207, 210, 213, 214, 216, 223, 224, 225, 226, 231, 232, 236, 241, 242, 243, 252, 255, 262, 263, 265, 267, 269, 270, 272, 273, 275, 277, 278, 280, 284, 285, 286, 288, 290, 291, 293, 294, 297, 298, 299, 300, 301, 302, 303, 305, 309, 311, 316, 317, 318, 319, 320, 321, 323, 324, 325, 326, 327, 329, 331, 332, 334, 335, 336, 337, 338, 340, 341, 343, 346, 347, 350, 351, 352, 353, 355, 356, 358, 360, 364, 365, 368, 372, 373, 374, 375, 376, 378, 379, 381, 384, 388, 389, 390, 392, 395, 396, 398, 399, 400, 402, 403, 404, 405, 407, 409, 410, 411, 412, 413, 414, 415, 418, 419, 420, 421, 422, 426, 429, 430, 431, 432, 434, 435, 439, 440, 441, 444, 445, 451, 452, 453, 455, 456, 459, 461, 465, 472, 473, 474, 477, 478, 479, 480, 481, 482, 485, 491, 492, 493, 496, 498, 499, 501, 502, 504, 505, 506, 507, 510, 512, 513, 514, 515, 522, 524, 528, 529, 532, 534, 538, 539, 540, 550, 551, 553, 554, 556, 558, 561, 562, 567, 570, 571, 574, 575, 577, 578, 582, 585, 587, 588, 589, 592, 595, 596, 597, 598, 602, 603, 605, 608, 611, 612, 613, 614, 616, 618, 621, 622, 629, 630, 631, 634, 635, 636, 637, 639, 640, 643, 644, 645, 648, 649, 651, 653, 654, 664, 668, 669, 672, 673, 675, 676, 681, 685, 688, 689, 690, 691, 695, 696, 697, 698, 699, 700, 703, 708, 709, 710, 711, 714, 716, 717, 719, 720, 723, 724, 725, 726, 729, 730, 732, 736, 740, 741, 744, 749, 751, 754, 757, 759, 760, 761, 764, 765, 766, 767, 769, 770, 773, 775, 778, 779, 780, 783, 786, 789, 791, 792, 796, 797, 798, 801, 803, 807, 810, 811, 815, 822, 824, 827, 828, 829, 830, 831, 834, 836, 839, 841, 844, 845, 847, 848, 849, 853, 856, 857, 858, 860, 862, 864, 866, 867, 876, 878, 880, 881, 882, 883, 884, 887, 892, 895, 896, 900, 904, 905, 908, 911, 912, 913, 917, 918, 920, 922, 926, 930, 933, 935, 939, 941, 944, 946, 948, 950, 951, 954, 955, 956, 957, 959, 960, 962, 964, 968, 971, 974, 975, 976, 977, 978, 980, 981, 982, 985, 987, 988, 990, 991, 996, 999, 1001, 1003, 1006, 1009, 1011, 1012, 1014, 1021, 1022, 1023, 1024, 1029, 1030, 1031, 1032, 1033, 1034, 1037, 1038, 1039, 1040, 1042, 1046, 1047, 1048, 1050, 1056, 1057, 1063, 1065, 1066, 1068, 1075, 1079, 1081, 1085, 1088, 1092, 1093, 1095, 1098, 1100, 1103, 1104, 1105, 1108, 1109, 1112, 1113, 1114, 1115, 1117, 1124, 1129, 1130, 1131, 1133, 1134, 1136, 1138, 1139, 1145, 1146, 1147, 1148, 1152, 1155, 1156, 1161, 1164, 1165, 1166, 1171, 1173, 1175, 1177, 1178, 1181, 1187, 1193, 1196, 1197, 1200, 1201, 1202, 1206, 1211, 1215, 1227, 1231, 1232, 1239, 1244, 1250, 1253, 1254, 1256, 1257, 1258, 1259, 1260, 1262, 1263, 1273, 1275, 1277, 1280, 1286, 1287, 1288, 1290, 1291, 1292, 1293, 1295, 1299, 1302, 1304, 1307, 1309, 1313, 1314, 1316, 1319, 1320, 1321, 1322, 1324, 1327, 1331, 1334, 1337, 1339, 1341, 1343, 1345, 1348, 1349, 1351, 1353, 1354, 1356, 1358, 1359, 1360, 1361, 1362, 1364, 1366, 1368, 1369, 1371, 1372, 1376, 1386, 1387, 1389, 1391, 1393, 1395, 1396, 1401, 1402, 1403, 1408, 1410, 1411, 1414, 1415, 1417, 1418, 1419, 1424, 1425, 1426, 1427, 1428, 1430, 1431, 1433, 1434, 1436, 1437, 1438, 1440, 1441, 1443, 1444, 1445, 1447, 1449, 1453, 1454, 1455, 1456, 1457, 1460, 1463, 1464, 1465, 1466, 1473, 1475, 1476, 1478, 1480, 1483, 1484, 1485, 1486, 1487, 1492, 1493, 1495, 1496, 1497, 1498, 1499, 1501, 1503, 1504, 1505, 1509, 1510, 1511, 1512, 1514, 1515, 1516, 1518, 1519, 1520, 1522, 1523, 1527, 1529, 1530, 1531, 1533, 1534, 1537, 1538, 1541, 1542, 1543, 1544, 1545, 1546, 1551, 1554, 1555, 1557, 1560, 1561, 1564, 1565, 1567, 1568, 1569, 1570, 1571, 1576, 1577, 1579, 1580, 1581, 1585, 1586, 1589, 1590, 1593, 1594, 1596, 1597, 1600, 1601, 1604, 1605, 1606, 1607, 1608, 1609, 1611, 1612, 1613, 1616, 1620, 1621, 1622, 1623, 1627, 1628, 1629, 1630, 1631, 1632, 1633, 1634, 1635, 1637, 1638, 1639, 1640, 1641, 1642, 1643, 1645, 1646, 1648, 1649, 1651, 1652, 1654, 1656, 1658, 1661, 1662, 1667, 1668, 1672, 1673, 1675, 1677, 1679, 1680, 1681, 1682, 1684, 1686, 1687, 1688, 1689, 1690, 1692, 1693, 1694, 1696, 1697, 1698, 1699, 1702, 1703, 1704, 1705, 1706, 1707, 1709, 1711, 1712, 1715, 1717, 1718, 1721, 1722, 1723, 1724, 1729, 1730, 1731, 1732, 1734, 1735, 1737, 1738, 1739, 1740, 1741, 1748, 1749, 1750, 1751, 1752, 1755, 1756, 1757, 1760, 1762, 1763, 1765, 1766, 1767, 1768, 1770, 1772, 1773, 1774, 1775, 1777, 1778, 1780, 1782, 1783, 1784, 1785, 1786, 1787, 1788, 1789, 1790, 1792, 1793, 1795, 1802, 1803, 1804, 1805, 1806, 1807, 1808, 1809, 1810, 1817, 1819, 1820, 1821, 1822, 1825, 1828, 1829, 1830, 1833, 1835, 1838, 1839, 1840, 1843, 1845, 1846, 1847, 1850, 1851, 1852, 1855, 1856, 1857, 1858, 1859, 1860, 1861, 1862, 1865, 1869, 1870, 1871, 1877, 1879, 1881, 1882, 1883, 1884, 1886, 1888, 1889, 1890, 1891, 1892, 1894, 1896, 1899, 1902, 1904, 1906, 1908, 1911, 1912, 1915, 1916, 1921, 1922]\n",
      "Toxic comments identified as toxic >>  ['laura loomer raped me while screaming at me in her disgusting kike language and said we must exterminate the goyim laura loomer loomergate', 'sex be so good a bitch be slow stroking and crying', 'they are going to figure out a way to kike bitcoin', 'then hoes stole my choreo and still managed to make it look bad and lose with it lmfao', 'do not worry uk you worked hard cannot afford carehome fees we take your house oh look in london another muzzie family in a nice flat good on you where the tex goes its a shocker', 'i d rather get fisted by a nigger tbh', 'i hope the niglets keep going down on their knees its the only realistic depiction of blacks on fake news tv any chance of getting t shirts made that say  boycott nfl tebow rule cant pray owners are pleased with their blacks down on their knees', 'what the hell is it with shitty gab trolls and calling people monkeys maybe that kike freud was right', 'france problems are not going to fix themselves and this attack was just the tip of the iceberg uncontrolled immigration has been an ongoing issue in france for over a decade the only longstanding solution would be to deport every last moslem back to their home countries mega', 'dad should have told the muzrat whore to fuck off and went in anyway', 'fanbloodytastic by time these leeches are held to account especially the muzzie scum taking  wives breeding kids like rabbits in order to increase welfare payments potus ur simply the best 👍 👏 👏 👏 👏', 'whitey prevails for a change miss south africa beats out a nig two spics and a gook to win miss u', 'meet the british nigger bitch princess criminal trash family 🤣', 'lets hope so gas the lot including the nigger', 'suck out you faggot', 'he a jew when it convenient for him and a fellow white person when thats more convenient just like literally every other kike', 'fuck her she nothing but a kike that will play which ever side that will get her paid', 'i am a nigger rabbi who sells bacon', 'idiot boy trudeau his somali moslem immigration minister ahmed hussen want to bring  mildly retarded somali to canada to repopulate canada with the dumbest people on the face of the earth', 'ventura only governor to refund overpaid taxes back to those who paid them burqa betsy just fired gay police chief who demanded open investigation against mudslime cop that murdered white christian woman appointed mudslime as new chief burqa betsy will lose gay vote and mayor position', 'the detroit lions revoked a season ticket holder tickets because he said nigger on twitter but they insist their players are allowed to express themselves freely so long as that expression is jew approved i gather the nfl hates you', 'kim kardashian is a negress by now anyway', 'monday kike nigga kike tuesday nigga kike nigga wednesday kike nigga kike thursday nigga kike nigga friday kike nigga kike saturday nigga kike nigga sunday kike nigga kike repeat yawn', 'they average more in cali with the feeding program but the skunks and coons eat well too', 'god damned kike whore cunt so sure that none of those cowards could ever get to her in her hymiewood mcmansion', 'ovomits a nigger and a half nigger', 'niggas really be tryna keep yu around just to be on some bullshit raggedy bitches', 'lool it bare gyal clown i see that get no gyal 😂 they just sad cus they get no bitches but do the most to get em 😭 try harder', 'dude you are a fucking idiot skepticism nihilism and trying to gaslight me are not arguments miss me with that kike shit', 'grown ass men doing women activities and lil faggot boys taking your daughter homecoming queen crown this what the fuck yall wanted', 'mohammad bin salman al saud ordered the bone sawing of an american journalist i said only thing i wanna see or hear from that camel jockey prince is screams bone sawing him up live on t.v. and twitter gives me  hrs in das hole damn snowflakes', ' you are an entire nigger', 'i wonder how long until they can get the nigger stink out of the white house', 'you are in the grip of meme malware that is what i fight also muzzie invader scum', 'ye olde niggra tax makes us pay more for home car insurance police ambulance medical schools school resource officers school po po ', 'match  niggers are singing fuck this whole thing im gonna play gta5 fuck wrestlemania 😡', 'we need to go back and beat them and i mean hard so hard that the muzzies are to scared to ever step up in the world again crush their spirits now and brutally at that', 'niggas say hahahaha you live with your mom hahaha you must be poor nigger i just spent ', 'zuckerberg loves live streamed violence such as gang rapes the pitiful jew cunt but call a wetback a wetback and you get  days fucking psycho', ' is going to let pedos run freely on gab advocating for child fucking but if you think nigger and jew rapists that want you enslaved and your kids raped should be killed you are the bad guy', 'in time my friend in time they do already support the acid in my moslem wife face libtards hollywood sucks', ' according to police the suspect sean bell was also in violation of driving with six suspensions yep just another day on white trash collapsing long island', 'i am a proud nsdap member nazi was a kike slur i will not wear it nsd ap', 'a mentally ill low iq nigger goes full retard after being out on a pedestal and the world is shocked', 'it was another muzrat terrorist attack do not believe the could not get laid excuse', 'how can you get rid of one nigger and replace it with another nigger x and y was much better no nigero in sight', 'a profile of a mudshark', 'chopra is a curry nigger who utters meaningless new age platitudes like only you can poison your soul', 'i probably ended up another kike list somewhere lolz yeah no doubt plus jews like to keep tabs on us nazis idk why it not as though we are coming for them to put them in the ovens yet', 'but if you are a nigger you can beat rape your way all down white street while screaming i hate white people never be charged with a hate crime', ' he is infected with jihadi virus he will spread it to others', 'two of the people i am really getting sick and tired of seeing as guests on these evening news programs are that wild eyed gook malkin and the physically retarded jew krauthammer i change the channel when they come on there are others the list is growing', 'says the kike cunt trying to charge for premium content how that working for you 😆 obviously nobody gives a fuck what you have to say cuz you are a fucking joke go blow some wetbacks behind the burrito stand and you might make a buck lick balls heebhole premium cunt contributor', 'do not call me a nigger i am white', 'edgy gg stans think being racist is ok i hate faggots', 'rip nehlen he may be married to a beaner and a christcuck but at least he aiming in the right direction', 'build great wall made by prison or shitskin labor using kilms dig out moats filled with gators or flooded with rushing water fact wet backs cant swim in raging waters illegal immigration solved border patrol do their jobs where no wall or moats', 'fuck off you nigger loving whore your mom need a slap upside the head for boring such a chicken shit pansy', 'started as trash ending as worthless nigger trash', 'is not it nice for the fuzzy muzzies to receive free resources at the expense of europeans so that they can render those charitable people extinct', 'dear niggas police your own you filthy scum by the by any pedo or rapist should be burned at the stake not just the spook it just they seem to like that shit almost as much as scum moslem groomers', 'damn i have not seen a nigger get whipped that badly since kunta kinte', 'can someone please find out if this judge is one of them looks like a crypto faggot kike to me', ' are kikescum and that the dictatorship ruling over americans is largely comprised of jewfilth perverts and criminals pace wikileaks and that the most powerful banking factions are mostly ratfaced yids', 'september ain t waste no time out this ho he came faster than some of you niggers', 'reverse it west yorkshire police are so good at their job no child raped by paki muslims on their watch asif', 'cantwell is actually talking to federal agents and nehlen has a spic wife so what you are saying does not make sense the only reason i think you could be saying these things is if you are a subverter yourself', 'labour loves the free movement of peoples in europe except when it leads to brown people feelings getting hurt this street shitting raghead need a one way ticket back to which ever shit hole country he crawled out of', 'fuck the nigger bitches', 'so according to kike shapiro  injured being members of hamas justifies everything', 'but that you can not even articulate kike what is yes a kike is anyone who signals against myself or any other alt right person who only exposes jews and my posts judaism v the world among other posts have brought you to my timeline kike', 'you niggers are dumb', 'sit down faggots', 'western europeans united against the inferior subhuman mudslime filth', 'there too many wypipo asking what this is and if they can get in this is a niggers only event', 'you are officially a nigger or jew or oven middle class if you use the phrase white trash', 'shot by a muzzie that reported to a dyke who answered to a leftist mudshark in communist mn yeah i believe it', 'it is impossible for me to follow the rules on twitter you can not even call girls who shave the sides of their heads ugly dykes anymore', ' eldar is queer race imperium of man is patriarchy welcome to the new faggotry lmao', 'i need to calm down and stop being so autistic like honestly im just too retarded wtf im going to try be a calmer person from now on', 'hope she remembered defending the mudslime that instigated the gang rape and murder karma is a bitch', 'fuck off we have more than enough muzzies to deal with', 'best live topic i have seen on gab check out this fucking mongrel having to raise this is a worse toll than mudshark glasses', 'black be bootyful sheboons something even their gorillas dont want nobody wants', 'ancient made up european gods and ancient made up kike gods are the exact same thing if you are not worshiping actual god you are worshipping someone else that someone else is satan does not matter if you call him moloch odin or your ancestor spirit different names same being', 'you can get motion sensor driveway alarms on amazon pretty cheap i have laid out a perimeter around my house with them in case the dogs are sleeping when some unlucky assclown moslem finally figures out my address ', 'nonsense obama could do what he wanted because there was no opposition and no judges over ruling him trump is opposed by dems republicans all levels of judges the media the bureaucracies the deep state and his own kike cabinet and shysters and family', 'where is the investigation on who gave that lying muzrat traitor a top secret clearance', 'sweden suicide is a foregone conclusion no amount of tweeting raging philosophizing or praying is going to do diddly squat for them so why bother our energy is better spent arming and insulating ourselves from the muzzrats here', 'q why did the bulldykes beat the faggots in a  mile run a because the dykes went lick ity split but the fags had to pack their shit', 'so it a desert kike instead of a european one that wrote it duh it does not matter they are all jews', 'more substance than anything you are ever going to post you disinfo kike', 'why is nobody here talking about that nigger conyers raping white women on the taxpayer dime', 'then you pay for the military doing the kike bidding i will not the ag works at the president leisure he can tell the ag to arrest them', 'does anyone get the feeling that nick the spic fuentes is like trying to court  something internet savvy boomer conservatives as if they were a thing', 'kim cannon sucks nigger dick he can not keep a woman because he has a tiny dick and thinks he is smart', 'grown men subtweeting like bitches', ' of course a fat white bitch is pro another fat white bitch', 'thanks to retard attempting poetry nigger rick ross filming his blasphemous and expletive laden video in and around the church of saint evstratios in vourvourou thira greek orthodox now understand what i mean when i state niggers are shit', 'do not worry negress q speaks and we will show the nigger rigging a marcus garvey boat ticket is in your future', 'as evidenced by the fact that they do not attack nigger toxic masculinity like rappers ball players with the same ferocity with which they attack toxic white men', 'post that kike star again and you can wear them in the oven', 'on point it all kike mercinary work', 'they should have put this nigger at the back of the plane', 'trump is a pedophile kike verified power user', 'i am triggered you cry over down votes i will bet mini me would be at your white nigger ass', 'damn it 9 eyedeel disemboweling was my sadistic recommendation of the day with these posts the nigger beat me to it', 'the german regime is more scared of women like this than than are of any moslem terrorist', 'edited their news headline for clarity the most common baby name for a moslem in england muhammad mohammed', 'nobody else would find these women attractive but the muzzies routinely fuck sheep and goats an ugly old woman is a treat to them', 'better believe the kikes are behind these nigger attacks', ' explicit terrorist imagery that means no more exposing what muzzies are doing', 'pft this is not news he plays for palestine and gaza and all that shit all the time he a well known muzzie kook like cat stevens', ' cuz it is upsetting all of my muzzie friends fam', ' big head and being a faggot in the front row', ' jailed today for highlighting the paki gangs raping british children in towns and cities across the uk our police will not do anything about it because they are busy engaging in this degeneracy', 'questioning my masculinity will not get you nowhere niggers', 'you are an illiterate kike apparently ey ', 'in two tweets a naive cuck and midwit jew perfectly illustrate white jew relations cuck sees jewish listed twice on dnc tweet hmm sumptins fishy kike tries to shut it down anti semite cuck expects fairness and explains kike suck my dick harder goyim', 'i went to the post office today and asked the  lb sheboon behind the counter how much faster a letter to amarillo would get there if i used express mail her exact reply mayne you really expeck me ta know diss', 'yes everybody ask yourself right now would you ruin your life with a bull dyke ricky vaughn with tits ', 'the rhodesian ridgeback because if whites are lead by the moderate civic nationalist libertarian right alt zionist not all jews based nigger policies of the alt right instead of national socialism we will end up the same way rhodesia did zimbabwe', ' i am black with all white freinds taco man', 'holy crap  on twitter is nigger meme central look at this gem from trump un speech', 'i m glad ds is back on dailystormer top and no kike will ever hold our movement down', 'the only good muzzie is a dead muzzie i want them all to be good muzzies goathumpers and wife beaters the religion of piss nuking mecca and medina would be a good way to start their extermination', ' mulatto grandkids at the store you know they are taking care of their degenerate mudshark daughter spawn sad', 'like i care  is bitching to a stupid beaner like me going to fix that nope good luck', 'you can sleep safe at night knowing these wonderful ladies at nato are defending you from moslem terrorist', 'i have read about this it typical nigger behavior of asserting superiority by making people move aside especially since they always circulate in gangs from what i have seen but yes somalis are like the rock botton of nigger sewer with average iq ', 'lmfao the passenger in they car is trying to file another claim in they neck and back 😭 😭 😭 😭 u niggers are so predictable make me sick', 'oh this is getting niggerish', 'can you guys say nigger without getting arrested lol', 'i guess i will be like everyone else that gets suspended from twitter and make a new account used my phone number on  suspended accounts already so blow me jack you cunt nigger faggot', ' i know you muzzies are peaceful cause that what you keep telling us are not you late for blowing up a building or something', ' in every country where muzzies are in minority the want minority rights in every country where muzzie are majority there are no minority rights', 'hey nigger lover we don t care what you have to say here go back to your nigger friends', 'is there not  brit with the brains balls to assassinate this filthy shit skin moslem terrorist', ' get well soon ching chong 😌', 'to each their own i prefer not to get into pissing matches with wn on either side of the kike on a stick issue i d rather find common cause with both factions i am sure a christian would provide you better discussion on the matter', ' lol what a stupid gook', 'hey how about you go be a kike somewhere else schlomo sound good', 'giving dis hoe back to da streets', 'hopefully he gets rid of the faggots and dykes next', 'koko probably the father of these nigger kids', 'the nigger tax strikes again', 'o pleez god hates queers both 0 bamas are male both have a penis the mooch is a hideous anti america phony nothin to do with skin color hope mooch is jealous of our beautiful lady melania', 'i hate that wailing muzrat shit', ' fucking retard', 'thelma and louise with a half dozen nigger kids in the back', 'i guess i get complacent and forget not everyone lives in florida or has heard their names most anyone i talk to in a real life situation knows of them of course most anyone i talk to here is in agreement where liberals rats and muzzies are concerned', 'or the construction company hired some raghead sleeper cell asshole', 'jim daughty at the croton gazette is a nigger lover dickens sneezed a lot', 'because that is freyrs job virility and why has not jesus turned your nigger blood white', 'how do you keep nigger kids from jumping on the bed you put velcro on the ceiling', 'you promote articles by fat dyke pipe fitters that a fantasy', 'amy loves to guzzle down nigger cum', 'it was better off when apartheid existed now its a nigger shithole niggers are killing whites get out or stay away', 'kikes like faggots because they make good pets just like the nigger the best kike pet is a nigger faggot', 'lol good nigger ', 'i do not know what i d prefer to see happen to owen him thrown off a roof by a moslem refugee or to suffer a long agonizing death by aid', 'is not a mudslime touching a boy dick frigging it with lubricant to get it a little hard then mutilating it with a knife sort of faggy or am i being a bitch mudrape', 'fyi the relay nigger arrived shekels delivered', 'you can not culturally enrich a moslem', 'the dirty wee paki that lives beside me came to my house there very upset said racists have been putting threatening letters through his door turns out it was a fiver off soap coupons', ' 😭 😭 😭 okay cause she was mad as fuck like what the niggers do to you ma am 😭 😭', 'fucking retarded white people on twitter saying the n word hiding behind an anime avi virgin', 'mysterium tremens why do new yorkers continue to support insane kike djuggie schooma', 'he called me a pig when i asked question lol he has no answer its just typical yid technique believe me even i lie otherwise it anti semitic', ' trump acts like a president obama acts like a nigger street punk from chicago the clintons act like white trash spoiled crybabies and sore losers', 'those are called niglets', 'sterling is a fucking retard', 'he sounds like a clothing line i will start a line of robes called tommy goatfucker', 'tfw you are vice provost of diversity nigger equity vp of difference sameness at the same time ', 'i will slap da shit outta white girl bitch do not tell me you want my nigger cock', 'i am happy once the last kike hangs from a tree', ' the same people who defend a woman right to post ass pics on instagram are the same to try and push them out of a job and suddenly say it degrading to them will you ugly dykes pick something to be offended by and stick with it', 'muslim chaplain of the canadian army wtf why i am sure our muzzie friends and allies have a priest in their army hell i doubt there is one in the whole country fk islam can fam speak freely', 'see how lefties turn on their poster girl aung san suu kyi mynarmar cos she will not bend to dhimmi traitor politicians un by appeasing moslems unhcr head is a moslem screams genocide irony yet mentions nothing of ongoing moslem genocide of christians in middle east me says go for it aung', 'on god america be like i hate niggers but i will let a entity from the dark realm chill upstairs', 'why jews are profiting from the us importing moslem refugees', 'this coon is full of shit', 'we are being taxed with zakat so they can live lavishly fuck their zakat time to enforce the moslem ban that been around since the ', 'always thought that nigger was a faggot', 'you all bitches always posting some faggot ass shit smfh', 'lol nice boomerposting hey does kike jism taste better on the shabbat you d know after all lol gimme more', ' your a faggot fucker coon boy suck my horse cock', 'snow nigger does not want to be blamed for slavery and the sins of past white men but wants to take credit for everything else low iq bottom feeder trailer trash', 'now if only we can get moslem men to do this before their wives squat out shitlings', ' would have pressed that bitch and beat the faggot out of him', 'pope is asian you fucking dumb nigger', 'oh snap do not they also have a large muzzie population there', 'filthy kike matt drudge throws in his two sheckels', 'if we are being brutally honest here i am not pro because  is a scumbag piece of shit aziz anzari type arrogant entitled shitskin and i would not piss on him to put out a fire so mr torba gets nothing from me until he gone', 'bitches be just as messy ass these faggot ass niggas', 'lol gives a whole new meaning to bread basket lmao fuggen kike demon', 'the other kike claimed soros wasn t prosecuted because he was too old bulan kike claims it was because he was too young shoah  electric boogaloo will not discriminate by age all are welcome', 'because fuck sargon remember what these little niglets grow in to hahahahaha', 'he could have at least brought her some kfc and a  that street shitter is lucky the nigger did not have a chimpout and kill him 🙄', 'and to pour more gasoline on the fire now they are cracking down hard on internet hate speech which is arbitrary and capricious whenever a sand nigger bitches some poor brit going to jail and these muslim parasites have bitching down to an artform helmets people helmets', 'the wise nigger fantasy perpetuated on white america by the industry kikes meanwhile niggers cant even raise their own spawn raping  white women annually basically commiting all the violent crime in america', 'twitter faggot bitch', 'went to chik fil e instead of normal quick line of cars things are slow instead of nice how can i serve u greeting its like can i take ur order nigger girl specifically asked  chik file a sauce get home no sauce mother fucker export all niggers', 'fuck these trifling ass hoes bruh', 'you just wrote some nigger words like the low energy obsolete farm equipment you are boy', 'if that was my mother that nigger would be on a slab at the morgue right now', 'different caliber rifles being fired shoddy aim isis listed vegas as a city they are targeting if it looks like a dune coon and acts like a dune coon update it looks more like antifa but the female suspect did reportedly visit the me just last year', 'he has not done anything he deported a couple beaners so what even barry did that', 'negro felon league ™ is for queers who like wearing the names of niggers on their backs while watching said apes throw balls around and watching poz laced commercials from corporate america', '2 3 andme is a strange choice for this sort of thing given that it primarily works at the behest of the israeli government to determine who is a kike or not', 'fuck facebook staff and their muscum loving scum trash subhumans can you believe they disabled my account for  of the time are they fucking serious i guess the truth really hurts fuck islam and all piss dinking goat fucking sand monkeys', 'you deserve death if you voted yes cruz that dumbass spic was destined to lose', 'beatles when i am  you mean london stabbings you got that wrong lennon who fucked a chink', 'you niggers are absolutely disgusting', 'keep laughing faggot while the kikes send the niggers and muzzies and wetbacks to fuck you out of your country your fortune and your dignity', 'the best thing about roseanne  white normies once again have something they love ruined and taken from them by nigger bullshit nfl starbucks hero movies videogames sitcoms anti black rage builds', 'portrait of a lady on fire screening in atlanta literally the day after i go back home to k*ntucky  the universe really hates pretentious dykes i guess', 'kid rock is not white not by my standard has a half niglet rapper son make mud babies and you will forever serve the muds', 'no such thing as lesbophobia you dumb ass dykes', ' if i am a faggot why would i be white knighting for a girl you need to fire your continuity department', 'um why does she have her aclu red panties on her head is that a sharia law thing or just ugly mussie women trying to attract men for sex can sorta see why mussie men chasing goats ', 'if do not fuck with indie or house music idk your a faggot', 'pipe down nigger lover', 'enjoy your kike faith', ' fucking faggot', 'excuse me ma am does your nigger ass have a moment to speak about the day of the rope day of the rope', 'nigger lovin fgt', 'hating beaners is so easy', 'im anti racism but pro normalizing words like faggot and nigger and kike and so on theyre just words lmao', ' oh my the niggers gonna be pissed', 'looking at all this nigger ruin wondering when we starting spelling detroit with a z', 'lol i am not british that must be the turkish ottoman sandnigger seed floating around in your brain well that what happens when you fuck niggers', 'they are allowing this beaner on ellen degenerate show because no one but thots and other assorted sjw wymyn watch that shit', 'you alt lite queers need to pick a side pro white or anti white race mixers and thot defenders deserve the rope', 'perverted old kike drooling over yentas sad', 'there is a yid involved in very single breaking story out of the white house it interesting that jews are over represented in our government but can somehow avoid blame for any failures in governance it as if the media is somehow colluding to absolve them of any guilt', 'a mudshark is a white woman who is only attracted to black men a thot is a whore every mudshark is a thot but not every thot is a mudshark', 'why are they bringin all these moslem niggers in our countries and puttin concrete barriers police and military around our public places and events would not it be easier to just put them in cages', 'i know my previous post was pretty cucked i believe in enforcing the law but this guy was a good kid why can not we just deport the shitskin muzzles instead that why i mainly voted for trump', 'do dykes keep their nails short', 'my ching chong is so cutie', 'exactly no mercy for the shameless unapologetic unabashed nigger fucking e slut cam whore how can you expect to be forgiven if you are unrepentant  you owe us bigly we made you and we can break you', 'labour concillor in telford more concerned about someones words on twitter than paki moslem gangs raping white children', 'why are the most extreme feminists always lesbian dykes trying to be guys anyway', 'i do not encourage kafir kids to drink from moslem cups tissue is haram to them they wipe their ass with their hands', 'and what does that make you a hearsay peddling moron what is a kike anyway what label may i place upon your genius how about peasant', 'kick the doors off cut the tires up burn that bitch', 'who the fuck is goatfucker hamed halts maul du beschissener hinterlader', 'note no nigger was harmed during the making of this film', 'spread you bitches like a butter knife', 'do not be aggressive says the nigger mandela fuck that', 'i think it time for another hindu kush only thing the muzzies ever did that was worth a shit was genocide about  coethnics i have been in some valleys full of skulls up there beautiful', 'mead mutton and a proper medieval mace ball we can take a roman bath afterwards as if you do not wash greasy kike blood off within a certain period of time the parasites they carry are very hard to dislodge ', 'ok there white knight are you thirsty for her nigger cum drenched cunt', 'look at dis ugly dothaid kike beak look like its mouf wuz made fo suckin dat babydick ', 'being lorded over by squatamalens and negresses is okay as long as they are from middle america', 'lol of coursh coz it normal to believe in perverted kike holoporn right fuck off faggot', 'knock off a cracker for callin me towelhead', 'ugh all the niggers are back on campus', 'fun fact did you know kardashian is armenian for nigger lover', ' begone ching chong', 'anime culture has created a new generation of weeboos where black and white kids gonna have ching chong names cuz their stupid ass parents like ching chong cartoons', 'was engels a kike', 'the muzzie loving natsoc get the sword', 'got a lot of them niggers you better and it active yeah popping willies on the wall i am saying', 'cuh cuh cuh communism nah pass this nigger worked too hard for handouts i prefer the uncertainty the risk the gasp entropy of capitalistic competition', 'an idiot a nigger a jew a muslim you are not british if you live in that cunt of a place', 'i bet your queers have a hard time typing the word pussy that is why you shit logs smell like ass and astro glide', 'naacp is not actually for niggers naacp helped abort more nigger babies than any org', 'so now in nyc you get a 2 5 0 k fine for saying illegal alien the official term for a foreign national living in a country without authorization but get over the use of the word nigger niggers tuesday thoughts', 'you are going to heaven furry faggot jk hell for you', 'white people allowed their kids to be raped by pakis why they went running to the police why is not it a fathers job to protect his kids from monsters we did in my day we did not ask anyone permission', 'i can post the nigger word as much as i want here lol', 'hm 🤔 maybe if i survive my chemo and grow up i could be a lifeguard at a nigger swimming pool 🤔', 'idk im sick of hearing about the royal fambly the only reason anyone cares is cuz shes a mullatto nigger didnt we fight a huge war to kick britain out so we did not have to care about their stupid king and queen 🙄', 'theyblove hezbollah they have admitted this id rather submit to a jew than even acknowledge a sandnigger terrorist group is even remotely okay not saying i would obviously', 'take drugs and rape sluts', 'our condolences to your family kelly the nigger needs to be publicly hung make it a short drop so it feels let the thing hang for a day or two to remind the nigger that this is what happens when you harm a white', 'these hoes be acting up and these niggas be letting them 🤨', 'funny you should mention that muzzies believe dog saliva is filthy according to mohamed they r truly vile 🤣', 'welp tinder was exactly what i expected  prog dykes uninstall', 'take your skanky hoe ass and flush it down the drain biatch', 'i think ancestry com only exists to troll white liberals by telling them they have some nigger dna 😹 😹 😹', 'bitches be real life delusional', 'these guys r more interested in placating a mob than in free speech  hate speech scattered sheboon outbursts w heavy ebonics downpour thru out', 'couple of days ago corrupt dhimmi moslem cock suckers in msm said  me thinks fake news by moslem funded whores quite frankly who gives a shit as long as moslems fo to moslem shit holes', ' he a fucking faggy kike oh yeah bill mitchell got it as well he turned on the alt right yesterday as well saying white genocide and jq were conspiracy theories', ' \\u200d daily reminder that nick the spic is a faggot who gets off on catboy porn pathetic and sad', 'good my people are insufferable you can tell from the exchange between me and paki reactionary', 'hey sandnigger monkey enjoying the suppression of rights in america well get ready whites you know kinda like that too lynching non white subhumans as a hobby is in our genes millions of whites are looking forward to it', 'when muzzies rule the uk this is what happens', 'did you offa to say which dyke it was btw british history offa dyke ', 'taserface ahahahahahahahahahahahaha almost as hilarious as having a nigger for president amirite', 'you are a anti white non white basterdised cultural marxist psychopath no name brand we are white pedigree and dont need fups like yourself in the white race we dont want you there is no place for you in a white society please kill yourself and i am not your friend nigger', 'got into my first car accident 🙄 a bitch was shook', 'suicide the camel face muscum cunt', 'new rule in all competitive shows baking dancing or other let paki or nigger token win in order to win public support and hide our true racist feeling for coloureds british broadcasting rules and regulations ', 'well ya can not take the nigger out of the nigger but you can leave the black greasy motherfuckers in china', 'this is a fucking disgrace shameless cunts', ' a redneck woman', 'anytime bro rekt the kike christ cuck fuckers shits about to get real', 'i am part potato nigger so i am not welcome here anymore i have to go back', 'lol sis think somebody playing with her fake crippled ass 🗣 knocc knocc its landlord reej take dat weak shit to yo mammy house hoe 🤣 🙄', ' that has plagued eu and canada with forced immigrants from uncivilized society', 'jew on a stick now kike in a bag whatever will they think of next', 'token astronauts jeanette epps negress replaced with mexican chic x feed the fish sally ride lesbian quota affirmative action segregation hbcu', 'the  russian from twitter are costing kike land some shekels legendary alt right barbaric khazar kike', 'my great great granddaddy let his niggers play sports it called whichever nigger picks the most cotton today gets a piece of bacon in his bowl of grits tonight do the touchdown dance nigger', 'alex is my friend not a stupid nigger other alex is', 'we need common sense nigger control', 'do not break your arm jerking yourself off on twitter kike', 'testing are you allowed to say nigger on here', 'cia nigger apologizes to pol for the poz', ' \\u200d fuck him in the ass and cries piteously during the torrid act but deep down he very much aroused at the idea of a filthy jew dominating him that a real radical agenda next week tune in for the threesome with paul nehlen', ' if its not hillbilly cousin fucking town then yes for that price 🤣', 'how about i fire a lime off ya head you filthy paki bastard', 'boko haram released over  girls it had kidnapped years ago because they are mussleman now if britain could just get the muzzies up there in teleford or luton to follow suit and release the little white girls they are holding in slavery and forced prostitution', 'im tired of seeing that black and white ass eating video the bitch thats shaped like squidward and the the girl getting fucked and then suckin dick like bye', 'my next apt is taking forever on the background check my imagination so about your secret racist posting career what exactly did you mean in  by gelatinous sheboon theatrics', 'europe is being invaded by moslem filth the usa by mexican parasites say what you want about the north korean regime but at least they know how to protect their borders', 'dont buy a mouse on media markt fucking niggers giving me fake logitech mouse turns off the middle of the ranked', 'i am a w.a.r. skin do you know john detuillo he doing an l bow for stabbing a lgbtqwtf in the head and a mudshark in the head i used to hang w some american front and valkyrie front almost all of them got popped by the feds on bogus trumoed up charges', 'please do not tarnish the name of saint mad max by associating him with that race baiting corrupt nigger bitch', 'i do not understand why we are so overly nice to the elderly they are by far the meanest motherfuckers in the world sure some of them can bake i will give ya that but they also will call you a faggot or give you the finger faster than any other demographic', 'a god dam kike only thinks about sucking babydicks and making believe they holy', 'i want you goddamned boomer cucks to tell me how we are all the same and beaners are natural conservatives', 'dababy security explaining why he knocked out that dyke should not be as funny as it is', 'i fucking hate how they turned magik into a retarded looking sjw bull dyke freak in new mutants dead souls i mean wtf did you do with her eyebrows illyana rasputin has never looked worse magik marvel comics comics i ll yana rasputin comic books comic books art', ' shut up faggot 🤬', 'pan you cheater you are no newfag you are an expert on bloated kike identification', 'it irritates me the way these african nature shows all give the animals names like those of their nigger poachers the animals themselves are of course outraged', 'who are these people most of them are jealous angry people from other nations acting out emotionally any american who is parroting the kike line of american identity does not exist should be presumed to be mentally ill if you do not exist then what are you fighting for', 'why do you gym muscle faggots not spend more time rushing homophobes', ' why would anyone watch whigger garbage like this show in the beginning', 'recordbreakerr recordbreakerrrrrrrrrrrrrr5 hours ago this was a racist killing against a defenseless white woman the shooter was a somalian muzzie mandingo rapefugee who only got hired because of the affirmative action \\ufeff', 'i have been communication banned twice in the past month for calling kids faggots on rb6 when my teammates kill me for no reason kids really can not handle this shit nowadays', 'is not georgia tech a nigger school', 'why do you type like a faggot', 'jews have not and will never be white anybody who suggests otherwise is either a kike or a race traitor and deserves a gassing', 'from what i am reading most major uk cities have muzzie mayor does the leadership in the uk look at sweden and ask themselves why they are allowing your great nation to become next caliphate where churchill and the iron lady when you need em', 'a nigger will never respect jesus a nigger will never respect anything if jesus was black he would respect jesus but because jesus was white even an educated nigger will never respect anyone white', ' new look ching chong', 'is anything owned by gentiles anymore in this country the kike freaks own everything', 'aw now what the trouble are ya a little butthurt do not you nigger up my poll this is important business', 'people should not apologize criminal gov must in this case this merchant yid whore who lies she is a queen while does not have even a drop of royal blood', 'my cat is more intelligent and capable of feeling human emotions than a nigger', 'msm blamed this muzrat terrorist attack on women and dropped the story like it was a hot potato', 'its just how it is baby there must be a balance too much crazy fools and we up shit creek so we got a big ass iron hammer to crack all yall queers open wit', 'ellison perez and obama walk into a bar we do not serve his kind here says the bartender with a vague motion perez thinks he is not black enough ellison thinks it because he a public muzzie obama suddenly bursts out hey we are all traitors at some level', 'lol the bbc crying over their favourite anti white nigger comrade bob mugabe being overthrown in zimbabwe', 'reminder to everyone wes bellamy is a nigger', 'i graduated from university high in irvine in the mid 7 0 i think the last time it was mostly white was maybe in the mid  or so all the vc got moved into garden grove and now almost all of oc is beaners and slopes', 'seems the london muzzies get a taste of their own medicine finsbury park', 'i did not ask shit lip nor care what your political persuasion you are a dickwad that a faux nazi wannabe on gab like the rest sit the fuck down nigger lover', 'do not feel bad the muzzies have a party every time a westerner is blown up cheers ', 'dorothy a dirty slut', 'keep waiting sheboon', ' nice ching chong hat', 'the kike in question is the one in the video yelling at the cops they did not do anything wrong', 'turkey is deporting  million illegal immigrants from america just think about it a muslim country deporting millions of muslims refugees no open borders in the middle east', 'pro white married to a wetback he the best there is eat a fucking tide pod', 'nothing is more cringy than a nigger in a flashy suit', 'true lotta coons in antifa', 'i agree all shitskins need to be gassed along with their kike puppet masters', 'no michael actually nigger monkeys are the problem now go back to africa and catch aids you cunt', 'politico terminated the contract of that kike bitch julia ioffe early due to her stupid fucking tweet', 'early in the morning and there already armenians driving like faggots', 'automatic sheboon niglet cannon', 'hillary clinton with dyke roomie back in the latter  still a rotten bitch today', 'can not do politics offline when degenerate scum like you control the offline that why we have to siege kike shill', 'i was gassing coons and kikes when you were just a fan i got bunkers filled with nothing but zyklon cans', 'so it appears that being the younger royal lizard bro beds you a  mudslime these days what a ripoff', 'you are right jared we should not judge tara or lauren southern by their distant yid ancestry arguing percentages is frivolous but we should judge them on the positions they take on the issues', 'plenty of e celebs have covered israid sending africans from israel to europe patrick little promotes zionism as the solution to the jq he wants to reward jews with their own ethno state in response to them ruining ours this is the type of kike you are supporting m8', 'true life i have been randomly saying i do not fw you niggers i own the clippers for  days now', 'pls dont talk to me reality is too much for my kike infested mind', 'march for our lives protesters trash streets of d.c. after gun control march similar to environmental protests compare to conservative dan bake sale that left streets spic and span after  gathered in fort collins', 'what the fuck is a snow nigger', 'yes because a name determines who is a kike and who is not obviously i am just as much a full blooded german as my great granduncle and namesake', 'oh i am a person i say you do not like challenges you turn your head when it niggers act like niggers but when a white steps to you like a nigger and you think you have a chance your wrd salads help not you cosmo faggot that a white american expression', 'i would not knowingly patronize any place especially a food or drink store where muzzies are i try to stay as far as i can from those murderous goat phucking freaks i bet they serve with the same hand they wipe their ass with', 'why is it that we always hear about how rain depresses nigger voter turnout but they will go out in a hurricane to loot and steal shit', 'his english periscope was awful apparently his chinese one was much better and had 1 6 m watching i do not speak gookanese though so be funny to see how this plays out with chink whales putting stops every ', 'imagine being so disconnected that youd think a dickies work shirt and some black pants are comparable to a fur suit imagine crying about optics while writing for a site that screams nigger in every title like a  year old on xbox love who d just found 4 chan', 'my paki muslim neighbour just got a job as a traffic warden i said what wrong mate were you unhappy that people did not hate you enough', 'would anyone actually expect a nigger to save a white man life', 'let me go and watch power because you niggers have no respect', 'high iq but still retarded', 'well at least the mudslimes occasionally get it right now if they could just ramp it up by about  million', 'that nigger does not need another reason to hang', 'mussie ohell created funded armed isis tried to destroy america  years in the pit of his incompetent hell christians prayed for god to heal our land god blessed this land ans trump the media whores and both parties hate him because elected by revolution voters who want america and god first', 'yadi is a fucking faggot', 'fuck you lame ass hoes', 'more anti white nigger bullshit coming soon to a screen near you apple oprah to team up in creating original content fox news', 'the policy was wonderfully effective it succeeded in keeping insane kike with taco beaner last name nicholas cruz from suffering the fate of the school to prison pipeline everybody sing kumbaya kumbaya', 'only fools think any kike is on the side of whites that foes triple for jewfags', 'lmao who seeing cupcakke tonight i am down af to go but i got no bitch to go with', ' from shithole countries lol go suck on an orange turd', 'i really dislike this nigger another example of no talent niggers gaining fame for its loud mouth back in the day we knew how to deal with a uppity nigger', 'i amma get shadow keep join me in doing so faggots', 'are you tired of jerking off to porn and hentai and not getting any pussy prostitutes exist bitch there no excuse you are just a faggot that wants everything easy what more easy than a prostitute', 'can not trust them hoes that talk too much', ' hey joo phebus you have still never explained your ties to jew lawyers and liberal actvists like diversity law group all you had to do is explain but you refuse but you demand others explain things to you you are such a textbook heeb operative just poorly trained', 'no one did it to the niggers you lying kike whore', 'the founding fathers was white the constitution was written for white americans because america was founded by whites build by white for whites you need a history lesson dumb fuck usa is a white hoemland fuckoff kike puppet', 'yet another muslime nigger heard from', ' alot of people just dont say it but she is not the only white nigger to think this way she is just another white nigger impowerd by trump to show her stupid way of thinking white niggers are the worst', 'people who lose their shit about some youtube gamer saying nigger are faggot nerds who should be sterilized', 'ok not only did i report that spic to ✝️ president trump 🇺 🇸 i sent a warning for him to make sure the ice deportation team that he sends has far sighted agents go get her since she such an ugly spic facially', 'lock her up indefinitely in cells filled with the mudslime rapefugees she is demanding her father import to the us', 'omg unchanged again bielsa your a cunt eddie 😭 😭', 'never open your door to a muslim shit skin cop or if you do be prepared to kill the fucking nigger because as has been demonstrated if you call a muslim cop especially after the minnesota muslim got away with murder they know they are above the law', 'ditto trump has been kissing kike ass since he got in office i will take nehlen anyday', 'really sick of dudes actin like bitches', 'an these nigger biches look like godzilla nasty', 'house republicans overwhelmingly voted in support of a resolution reaffirming the united states commitment to israel  democrats showed they are no longer the party for pro israel jews the least surprising was muzrat keith ellison a candidate to head the dnc fuc kislam', 'solo que soy de derecha a l  el virus kike no va con jesús', 'faggots still stan the fuck out of kim petras and it so fucking disgusting what worse is they use her as an excuse to love the trans community she a demon and the white devil if you still like her fuck off', 'looks to me like some social activists might have been there fanning the flames well starting the fire then maintaining it whatever happened to law and order most tax payers would not disagree with rubber bullets tear gas and water cannons being deployed on this mixed bag of muzzies and blacks', 'barn full of white bitches', 'would have been funnier if she had done that to a nigger or kebab but she would not because self preservation', 'dumb shitskin prefers to ignore numbers they can not calculate typical', 'gab went down for  seconds the instant i called out fuentes for being a spic again sorry guys', 'drag and drop these groupie bitches in da trash bin', 'does not know the difference between latino and spic but thinks it an authority also thinks it smart 🤔', 'cool story bro tell me the one about the based nigger in a trump hat next', 'fuck feminists and kike media that want to emasculate fathers i piss on them', 'let us help the nigger sows pack', 'confederate heroes day  texas state holiday we do not observe martin lucifer coon day', 'the alt right is celebrating because the god emperor called a bunch of nigger countries shitholes and that makes up for having a cabinet staffed by globalist kikes and neocons trump not even knowing his own immigration policies how easily distracted you are by cheap gimmicks', 'laughed at i have been disrespected by all of my peers and have had to stop being myself and talking about them a couple of times because apparently they were not good ugly ching chong chang excuse me wtf i m done with everyone stupid comments about what i love', 'twatter does not like muzrat either', 'massive muzrat espionage', ' i am a libertarian and i have never heard that before i am also alt right because you can not have a country without borders you can not have a free market with a welfare system you can not have peace and prosperity with dindus muzzies and wetbacks killing and stealing everything', 'maybe the muzzies and the trannies will step up if need be', 'a female kike is not a woman or a dame no one should ever reproduce with a jewess to avoid making more jews how is that jewess brave', 'why the second greatest film ever produced after nigger kitty', 'superman was written by a kike about his fantasy of smashing fascists kek just fyi', 'morning fag kike ', 'oh so not only a sjw but a nigger lover on top', 'the worthless nigger shot the trooper in the back several times with a rifle', 'ya you really hurt my feelings what you had has a profound effect on me you must be a kike to think like this', 'brits you should maybe storm the prison britainsbastile except leave the mudslimes in there', 'how do we instigate a war between japan and israel shinzo abe did not like the shoe desert the kike served him', 'pedophilia promoted by mohammed piss be upon him perfect rolemodel for every moslem', ' looks more like white trailer trash', ' years ago i do not believe the best of europeans anticipated the slave trade on the atlantic nor did they forsee the current pillaging of their hard work by the faggots now in some kind of power', 'good moslem if only we can get them to do this before wives squat out shitlings', 'you niggas faggots putting you all hands on females', 'tfw how the daily stormer protects a spic like he some kind of god', 'you know niggers love pretty b*tches  with ambition', 'jews got whites hooked on nigger culture', 'look who introduced theresa may to phillip may always a connection as to why paki muslims have raped with impunity g4s protects the grooming gangs that why tommy robinson has been imprisoned always a link', 'why would any self respecting camel piss guzzling moslem give lurch the horseface the time of day', 'counter muslim tactics by wrapping a woollen scarf around ones head with only the eyes uncovered and claiming to be a member of the ancient order of scarfies when approached by bank or airport staff if large numbers of us did this where masked muzzies exist it could be interesting', 'fems you all outchere fucking dykes that need half on the rent', 'i can barely go out into society anymore i basically just buy food from the beaner filled store pay all bills online then spend the day talking shit online like a coward what a life', '4 ft tall beaner women still dispensing  beanlets per year each it ogre', 'if britain closed its borders2day moslems would still become a majority due2their high birthrates the only solution2the moslem problem is repatriation2their ancestral homelands at 1 st it can be tried on a voluntary basis with financial compensation4example but eventually they all must b told2 go', ' just told me he gained so much weight lately because of all of the nigger cum he been swallowing tmi vox i replied', 'you are retarded and do not know what reply mean or are a shitty troller suck a bag of nigger dicks faggot', 'facetuning yourself and not the bitch next to you in the photograph is a fucking hate crime', 'i love nigger cock adolf hitler', 'but moslem men and even children also get raped by moslem men', 'joy ann reid is a bloviating niggress brood sow who does not know what the fuck hacking is', 'join the army andrew torba serve your country and not jew masters you faggot defend free speech with your life not your wallet kike loving piece of fuck', 'imagine unironically believing the high iq kike meme', 'white people who have enough racial sense to avoid black areas for the obvious reasons still run around and act as though they can blindly trust jews to not lie to them and kike them over smdh', 'mfw i m trying to write an important term paper and some affirmative action ass hole starts blasting nigger music outside the window', 'as far as im concerned if u watch the nfl u might as well just go ahead and find a nigger and suck it dick 😑', 'billionaire cool still a fucking nigger', ' now you know why valerie planet of the apes jarrett and barack porch monkey obanger rented an apartment across the street on pennsylvania boulevard it called a wiretap', ' we knew from the beginning it was set up for that white bitch to win smfh 🙄 ru a coon', 'matt hale sits in prison due to being framed by an informant edgar steele died in prison after being framed by an informant michael weaver was convicted by a jury on account of his political beliefs for defending himself from nigger carjackers', 'when the lewdposter you follow reposts a series of naked sheboons', ' years of inbreeding make their hasbara basically retarded it a kike thing', 'bitches and burritos my fav combo', ' they just some hating hoes tho lol', 'my goal on this site is expose the filthy disgusting hoodrat nigger bitch in all of her whoredom and debauchery stand by more truth coming', 'suck my dick and call me a faggot', 'this kike is still alive wtf', 'then an older nigger wearing an apron dressed like a kitchen staff member and holding a small caliber revolver walks to the front door and locks it and says i am the new kang of charleston', 'i have been waiting for nigger music to die out as a fad for over a decade but it seems as if the problem is only getting worse', 'oh look another buttmad alt right guy accusing me of being a kike because i was in the shield wall while he was crying about how my optics were bad hint try not mixing up national socialists with kikes it makes you look stupid', 'there are c  are moslem jihadis moslems are nothing but a drain on uk taxpayers whilst we pay for moslems to kill us deport the lot moslems are the problem bluehand trump', 'women should be ashamed of themselves for letting transgender lesbian man hating dykes speak for them shame on you', 'yes moar fat sheboons telling us all what to do did not we get enough of this from  yrs of oprah', 'i do i do i love retarded conspiracies lol so damn fun', 'jews are the only enemy in the history of the world that resort to crying its anti semitic to resist my actions boo hoo', 'totalbiscuit mainly attacked sjws because they attacked him first in hysterical and extremely aggressive terms for looking into the quinnspiracy on his own and not  going along with the narrative he shares most of the sjws views on gender feminism etc but is slightly less retarded about it', 'you mean more rapes and more sand niggers because that what you want sjw more curry niggers getting gibs killing whitey look at you you dirty race traitor curry nigger', 'hex those faggots with your witch broom', 'so if the ghetto clans and angry dumb fems so come over with there muslum terrorist buddies that are equally great appearetly for whatever reason will this site cater to them because they do love a good upsetting it like a happening for them except is it different', 'i am sick of a  white country not killing niggers jews in the damn streets', 'the government needs to keep inspecting the places that towel heads worship cause they are bad places and whats going on with the cop killer that shot the white un armed woman', 'it seems that none of you are talking about reality tv so i understand why your pushed out now your not a custuoer of the ghetto filth and will rage after the storm join this site and get her german ass gangbamged because she loves white dick', 'idk about you but i think kimjongun is perhaps retarded no offense to retarded people northkorea', 'who were the utter fuckwits that thought nazi salutes nazi symbolism and yelling gas the kikes was a good idea way to let a legitimate protest be ambushed charlottesville', 'yup voluntarily associating with such folks is the most retarded marketing strategy i have ever seen', ' southern i support traditional values and all things with southern culture i support anything that saves confederate monuments and history', ' of american women are overweight or obese — what the hell is going on in our country', 'i ’ ll turn a dyke into a bike', 'ideally yes when push comes to shove id rather live in a white run city country we already know what a planet of apes scenario looks like baltimore chicago philly detroit and every suburban mall failing to shoo flies', ' so dickie durbin cares more for illegal aliens then about american children living on the streets typical libtard', ' your the one left faggot the battle been over good night', ' button it then 😂 😂 😂 😂 😂 your boy is a fucking retard jose there a name for you lad', ' i am delighted peter sweden is as retarded as his twitter career suggests it ’ all very quaint and comfortable', 'sucking all the msm dick eh curry nigger race traitor tell em how you are really an sjw who sides with sadiq khan mayor of londonstan and believe curries and sand niggers should steal whyte wymn and destroy the white race gabfam speakfreely tell em how you censor downvotes profitmonger', ' rob my man i ’ m sorry but your a retarded pedo', ' what you know you crisp selling prick house the refugees you keep on about you potato shagging cunt', ' let be honest multiculturalism is just a euphemism for hostile takeover by jews and non whites', 'pro tip the niggers do not care if you never owned slaves granddaddy fought the natzis or great great grandad ground the confederacy into dust with the boot heel of the proto bolshevik yankee gubment force of weight and arms behind it they hate you because you are white and you exist altright', ' some people are just retarded like that', 'glassboro mcdonald ’ ghetto just like millville got me getting smart with people early in the morning', ' stupid sand niggers', ' he ’ delusional trying to say that jews built the pyramids what a joke', 'these hoes really be talking bout another hoe and still be in that hoe face', 'who do bitches in horror movies always have huge houses like cmon we know you can ’ t cover those property taxes', ' what if the sugar gramp was a ss soilder who killed hundreds of jews but is a multi billionaire 🤔', ' she looks retarded', ' not low class they enjoy to get fucked by muslims', ' well she ’ muslim so of course she hates the jews jew hatred is one of the defining feature of islam', 'i forgot all about my steak in the damn sink 🤦 🏼 \\u200d ♀ ️ ion even wanna cook the bitch now', ' remember when her dad hung out with a ukrainian neo nazi or when he called his captors gooks', ' oh boy you are a retard but can be chill you remind me of the kid we used to fuck in the locker room before gym', ' i can not decide if you are retarded or a troll', 'anyways shit man the rainbow flag represents lesbians better than that pink knock off garbage fire one', ' could it be possible to sound more like a faggot', ' the shooters must be muslim', ' are you retarded', ' you ’ re retarded if you believe this', ' you decide to follow his twitter and rant about his posts retard', 'good morning everyone except illegal aliens and avocados 😂', 'what an absolutely beautiful video this is germany under hitler was as close to paradise as the beleagurd goyim shall ever see the jews won ww1 and ww2 the jews are now orchestrating ww3 godspeed my friends i love u', ' he ’ just gay in general no stipulations are needed', ' just shut up jihadi and whole country will burn you if you oppose', 'excuse me oh no i wasn t born into incest that was birthed out of the anus of a wunder you will have to take that up with that fat ginger state goobering retard lol', 'do the democrats feel white privilege or white racists are the problem these retards are retarted', 'tell your kids about today how king ermias united the ghettos of america even if it ’ just for a day 🏁', ' safe and affordable killing of helpless babies just what a muslim wants one less infidel to kill or convert', ' u negroes never take your destiny into your own hands and just keep waiting for others to change your lot in life', 'i basically refuse to believe this is real i refuse to believe that the bbc has a fucking ebonics version translator page too retarded to be believed i am not saying i will not someday but for now no this is not real to me for now', 'this is so fucking retarded', ' u spell it like a retard', ' slurs would be wetback or beaner not illegal alien 🙄', 'yfw deadpool is trolling niggers to death irl', 'lemme go watch dany be a stupid bitch yet again on got', ' women can not be wise estrogen makes them retarded', ' both are equally as retarded and awful', 'throwing kitchenware is a bitch move it what physically weak women do to indicate their displeasure without actually attacking their man', ' pass the funding you ’ re hurting the poor illegal aliens', 'me laughing at dead children and refugees is disgusting and scum pakis but what about those guys who beat up that scammer outside o k', ' hahaha dumb bitch blocked me', ' ok how about we give mestizos no welfare in exchange for free land like white immigrants then huh', ' is there any point in replying to this retard i guess not live in your bliss', 'this is the general attitude of all ghetto apes', 'i can ’ t wait to be a wife this girlfriend shit ghetto', ' quillette is nazi propaganda what a surprise', 'if u spell jacob like jakob u a retard', 'old ass bitch called me gay at the gas station yes that ’ a fact i will also fuck you up 🤗', 'yeah humnh what how do i use this app i ’ m alittle retarded 👹', 'idgaf how dramatic i sound rn or “ ghetto “ but a bitch is mad', 'it ’ payday bitches', ' it ’ mind poison islam', ' must admit the term “ muzzies ” nags at me bothers me but this guy nevertheless is in need of serious mental adjustment', 'oh my god some of the fucking freshmen of my school are fucking retarded smh', 'i hate arabs', ' to fulfill this plan the left is trying to fill the country with the 3 rd world population they are easily moldible into revolutionary lumpen combined with home grown ghetto population they will be a huge striking force', ' ffs these ghetto blacks are ignorant like cracker mountain hillbillies', 'i get on twitter just talk shit about you cause u a scary ass hoe 😂 amp i want your head hoe 🤷 🏽 \\u200d ♀ ️ but im off this shit good night 😘 ❗ ️', 'unrelated  is a faggot', 'the gay gods gave the lesbians  rights this day', ' she switching like faggots', 'plus he a faggot so he likes things up his ass', ' i peeped your avi you definitely look like the ghetto ass auntie that you are 😂 🤩 💋', ' guards being arrested you bum fuck racoon retard you sure showed me', 'the so called right kicking out the alt white has to be the most retarded thing i have every seen we are literally fighting in the streets against antifa while they play philospher on the net  doens t', ' they ’ re speaking retard jaja', ' chile the ghetto 💀 💀 💀 they mustve stole it coz they hate u i', 'am not trying to be racist some of them mmg rude especially arabs mabuk tu takyah cerita la dah mabuk blh pulak drive 🤦 \\u200d ♂ ️', ' another retard looking for a way to stay relevant and find some kind of meaning to their life victim mentality iq66', ' jews are white now', 'only gay nigger culture nice', 'fuck off retard', ' you are a fake pervert asshole you can be raped dont be stupid and work or study change you life', 'all that superfied ghetto hoe shit ain ’ t the wave truly', 'i feel that i am a muslim and you whores need to put on a burqa so that someone that is not me accidentally does not stone you to death', 'for all the muslim goatfuckers', 'that  bouncer and the boys you jumped up little nazi fag you wont see him again case closed', 'he is one obnoxious greasy nasty lying self serving horrible little muslim bastard', ' like i have been saying for awhile now that soon the left ideology will lock horns with the islamic one total shit show', ' are you fucking retard trump did not start this', ' aw it ’ retarded', 'worst mistake ever shouldve sliced off the balls of all africans killed them just like the arabs typical christ cuck pussies why the fuck would you endanger your white stable gene pool by allowing africans to breed jews subverted your cucked religion for a reason', '“ pick that cotton negro ” or whatever massa said', 'damn dykes be looking scrumptious', 'this nigga too good to be true ain ’ t no way he show up to my crib wit a bag full of my favorite food', ' that the retarded democrats for you', 'read multifandom as muslim maybe i should go sleep', ' you ’ re retarded — like actually — that goes for all you astrology people out there aswell', 'these yuri boards need to stop the purpose of life is to perpetuate the species two girls cannot reproduce two girls would not make good parents sociologists agree children reared in gay households are more likely to be homosexual all this proves yuri is immoral and wrong it just science', 'how about royal traitors 😂 loosewomen', 'white people are fucking retarded', '4 chan is retarded and so are you', 'i guess you are not good at statistics how many cities have whites burned and looted how many ghettos have they created how many first world civilizations have blacks created why did they never invent the wheel or written language why do they still live in mud huts', 'people on twitter are retarded lol that squad is never getting a result against that bayern team but yes it ’ lampard ’ fault', 'i m guessing that the first thing a white muslim terrorist man would do is throw this thing off a very tall building', ' must be free gold retarded people', 'an interesting sentiment but only a sentiment nonetheless trump has emboldened the grip israel has on america he has largely overlooked the jew owned federal reserve and given free reign to kike bank goldman sachs both of whom were fined billions for crashing the global economy in  maga', 'daily reminder that with the jews you lose do not believe me just ask jesus', ' ur fuckin retarded', 'fucking idiot dont believe anything you see they stole the white child imbasill you are retarded', ' being jamaati islami and supporting islamic state waystodieinkashmir', 'i ’ m a ghetto genius i ’ ll slap the shit out of you with my knowledge', ' take care of it for me a bitch wants to die and has no regard for her own health', ' riot made rift retard proof for people like us', ' you must be seriously retarded', 'gronk is retarded like there is something actually off in his big ass meathead', 'white bitch pink pussy', 'dear ghetto dwelling leaches put down the crack pipe and weed ', ' girl i use my email for anything important cause that shit too ghetto 😂 😭', 'ofc we get grief by snow and brook last game fucking retards holy fuck i hate them', 'come on please you forgot you are from europe you think north africa is black you take pre colombians for latinos then for indians are you conscient you are a retarded just as any yankee', ' do i look retarded', ' we have words for guys like you it ’ called bitches', ' are you retarded', ' i am sorry isabelle but you are fucking retarded', ' lmfao girl its just ghetto and its always alot going on', ' not migrants these are illegal immigrants which makes them criminals either lock them up or deport them', ' and never can make cl stfu faggot', ' why are you repeating yourself are you a little retarded', ' screw you you homophobic asshole', 'every time discord is slow i think about all the monkey brain retards with nitro fuck you', 'interesting note to self determine which dna test the israeli government uses to test immigrants so that unfortunate mis identifications can be avoided during shoah  electric boogaloo', 'construct bread and circuses ghettoes for white men to crowd into football and video games to keep them from being political but then attack the circuses with politics', 'black people are oppressed by their own culture and community blacks need to wake and realize the democrats party is the racist party that uses them for votes the kk democrats have broken up the black family and run the community onto the ghetto plantation to control it youvebeenpunkd', 'jews pull the same shit on online forums close down all criticism of them and ban threaten people in sherdog i mentioned jews in a couple of posts and all of a sudden some mod is leaning on me the fucker has an illuminati avatar', 'damn he a homo too not surprising israel is full of queers', ' talmud according to jews is just men commentary qur an according to muslims is literally the word of allah god we have to attack the qur an first because jews are not flying into buildings killing people plus is obvious no god would make so many mistakes as shown in qur an', ' and the chinaman will eat both', 'jew faggot milo is king of the alt right great it not the alt right anymore', 'society is sukin on your dick and since i got a pussy i am a bitch', ' the non whites will follow wherever we go until we go somewhere that we do not let wormtongue jews in with us and hold out ground', 'do the white thing turn nigger ball off', 'wow you think race has nothing to do with it why do we have all these ghettos in america you think race does not dictate behavior you really think these immigrants come here because they want to adopt your white american heritage why are they tearing your monuments down', 'sick commie but who elected her they are fucking genetic fails too much nigger genes wipe out island seed with asians collect bumper tax revenues', 'the cia niggers glow in the dark you can see them at night and run them over', 'at some point society began to use endearing terms for sodomites words like gay and queer were appropriated by your culture no i call sodomites non cutesy names like faggot and dykes bc their behavior is destructive to not only them but society at large btw booze ages women horribly', 'hi all i am a twitter refugee but no i wont rape yr daughters as a true conservative i am a mortal enemy of islam twitter the nytimes liberals socialists illegal aliens and similar glad to be here amongst the humans and the sane death to islam and iran', 'fuck that ghetto bitch she attacked a mother with child by pouring a drink on her and then punching her she punked the mother out in front of her child and in public people who do not know how to behave civilized should not be out in public', 'this nigger is victim stereotype is so ingrained it trumps all factual reality no matter the reporting makes absolutely no sense this is pure ideological thinking where category is all that matters nigger good white man nazi bad facts pale before holy categories by jew', ' are you just a retard or a window licking anus tickling retard', 'yeah who knows maybe or hes just mentally retarded', 'we have several generations of women utterly incapable of making even the simplest sandwich', 'i am a retarded fucking jew', 'and this is the thanks the bitch gives', 'i must ve been lucky back in my days of chasing poon as i found jewish women to be very easy as long as i pretended to have money', 'exactly but if a white  years ago defended himself against a black attack then it is an epidemic', 'i said that ghetto trash like emminem is in at the moment and my acct got blocked i signed in an deleted my account tired of being lectured and censored while ghetto trash is allowed  speak freely', 'killary is such a bitch she should be behind bars', 'when you are fighting a war as retarded as afghanistan all you have to keep you going are your brothers and he betrayed them i do not even want this shithead tortured i just want him dead you do not waste torture on a cockroach you step on it', 'did not he throw bricks at vietnamese people in his youth if he wants forgiveness for degenerate kike movies instead of pwning asians with bricks he might just be ourguy', 'peter kopteros peter kopteros  hours ago i sure hope that nappy headed lowlife never gets to play professional football ever again unless it in the ghetto they grew up in lol \\ufeff', 'america always was a country for by and of genetic europeans a white man born in china is not a chinaman just as a mexican anchor baby born in america is not american', 'this post is clearly bait from someone who wants to get sent pictures of asians with nice asses', 'p at least harvey weinstein only raped and assaulted the gentiles not angelina jolie or gwyneth paltrow so he still a good jew 😂', 'dunno not good enough he should offer his wife to the negro as', 'blind squirrel uses retarded logic it was already retarded', 'can someone answer my question are tax payers still paying for the so called obama phones for low income and ghetto rats', ' every bit of jewish origin stories in the old testament is about a horde of jews infiltrating another superior culture breeding like rats then trying to over throw said culture egypt babylon persia everywhere they went they did this', 'that the future face of the country is a dumb sexually confused hyperliberal negro should surprise no one', 'kevin spacey raped me by making me watch all the way through that queer man fantasia american beauty in the hope of seeing mena suvari tits metoo', 'bill clinton raped multiple women and lied under oath not a single democrat voted to remove him from office we refuse to accept their claimed moral authority and we will vote in our own interests as we see fit regardless of what lies the washington post chooses to print', 'the hamiltonmusical really is the epitome of idiocracy it as if many americans are too stupid to get american history unless through the lens of pc low iq ghetto rap hamilton altright', 'why do not you just kill yourself if you hate whites so much i guess you will in a way when you get knocked up by some negro thug you will be killing your whole genetic lineage', 'you are obviously stupid so you would not understand if you truly believe physical force is justified at this time why are not you shooting blacks or mexicans in the ghetto you do not really believe in what you are saying cuck', ' well not really islam does not care for ridicule nor reason you beat islam like you would a pack of wolves just do not be a bitch and act tougher than they are problem solved oh and do not invade their hunting grounds if you can help it', 'this is much more than being about filthy mudsharks this is about the destiny of humanity does it become a dumbed down mulatto race where the west falls apart like africa and asians dominate the future or do we ship the nigs back where they belong', 'that seems like a misleading generalization i heard black women do not like giving oral i bet the black gays do though and the dl guys probably do so prob  tops', 'i noticed how different the letters on gab look and i started freaking out becuz i thought i must have caught autism from this retarded kid that was coughing at walgreens 🙄', 'the only people trump is playing chess against are the american people the jew controlled alt right are full of liars and traitors ask yourselves would adolf hitler shake netanyahu hand would he prostrate himself like a bitch before the wailing wall', 'leftists truly believe that by feminizing our nation men there will be no more war or violence have they seen the ghettos where women are responsible for raising the criminal class they just do not think do they', 'that creature on the left she won the ghetto lottery with that one my goodness talk about lucking out maybe she his second wife hence the wedding dress if that the case please do not breed honey please please please', 'maybe feminism cropped its clip haired degenerate thot head up far back in the mohammedean past if so literally strapping a cork in their mouths would make good sense as a rule going forward even a broken sand nigger tells the right time twice a millennia o 😀', 'what faggot curates live topics', 'really i have seen men come together that we are atheist buddast odinist christian hell even morman for one cause survival religion and beliefs go out the window in a fox hole buddy so blow that retarded shit up some one else skirt', 'i mean of course we do not know why he did it we have yet to establish a clear motive it may just have been a sexualemergency hence his desperation the gun was just meant to compel the women to realize the urgency of the matter', 'they have thousands of years of practice but the fuckers keep re branding themselves in history books so nobody realizes it the same jews using the same rabid arabs century after century', 'hey nazi dirtbag is your black bull keeping you occupied', 'the neo nazi faggots are all running back to twitter twatter i dunno i am attempting an educated guess the next question is what or who scared the shit out of them and made them run away', 'just call the jews what they really are god suplanters', 'besides i am irish white nigger spud nigger shamrock nigger leprechaun nigger potato nigger the nigger list towards the irish is long and creative we worked harder and treated worse than blacks and we dont cry a river over a word', 'listen to me you fuck there is only one way you can say you are redpilled on women and that after you have created a family with one the sandnigger alien standards are those of a subhuman organism', 'whore says she does not want to get fucked by likely diseased faggots other whores and sjw freaks go crazy at this truly diabolical homophobia whore can not take the bullying kills herself what a world we live in', 'the democratic party is the party of jews and jew causes minority mutts dumb white bitches that they appoint to certain leadership positions are just puppets facade to disguise the real core and purpose of the party study jewishprivilege and who really matters in the case of conyers franken', 'it called escort prostitution so let call a spade a spade shall we lefttech must do this because its dungeon and dragon masters and anime trans porn loving programmers have the charm common sense and social skills of a retarded liberal frankenstein boy', 'so he admits to his inner retard that can not cope with facts not aligning with his feelinz priceless', 'i want roy moore to win even if it only to hear all the kikes commie faggot scum screaming about inbred misogynistic toothless alabama hillbilly white trash', ' ghetto and write for publication to sway people who are open to reason instead', 'socialist dictator socialist feminist son of a whore space cadet spoiled bitch stuttering barky stuttering clusterfuck the brown clown the choom gangster in chief the color muslim the community agitator the crony elitist presy the drama king the execuitve infant the face of evil', 'i swear porch monkeys and sand niggers have no honor whatsoever if the kikes were pushing for european migration into africa and the middle east to out breed the porch monkey and sand niggers there i could never find myself moving there just for that purpose', 'yeah just a bunch of triggered retarded nazis anyway i am off to sleep good nights', ' then pressured by kike groups like your wife you silenced political dissidents your argument works while companies can limit 1 a those days are ending wrong side of history', 'justin trudeau is the retarded asshole bastard son of fidel castro', 'daily reminder that any self proclaimed lolbertarian who does not like hoppe is a faggot and a disgrace real libertaryans were always politically incorrect', 'thats homophobic you vile sand nigger', ' it did not work with the leftists this year now did it people do not respond well to name calling not being retarded or anything but this exactly why leftists lost this year and we do not want to be them in the next time', 'by taking known numbers of muslim refugees being allowed onto our soil daily  enough diversity yet stopislam banislam', 'the civil rights movement was nothing more than a communist push for special rights for non whites via jewish legal teams capitalizing off media influenced white guilt and misplaced altruism that would change the face of america into what it is today', 'still avoiding my questions i see castrato what do you have against people hating the marxist cultural agenda led by your beloved jews who also lead the homosexual movement which you apparently support is it because you are a faggoty posin person masquerading as a christian', 'america is supposed to be home to free speech except there is one problem most of the platforms are privately owned by jews and the jews could not care less about your free speech wake up white people the jews control what you see and hear be vigilant', 'fucking slant retard', 'a b testing is a bitch when you can not find a delete button ', 'indeed ncaa football is as corrupt of as the nfl maybe half of the players in the ncaa are ghetto morons who lack the minds suitable for academics', 'at it root it is a muh dick and gibs me dat ideology no wonder it is so popular among blacks even though they have no idea how much the arabs hate them and still trade them into slavery', 'signs in the ghetto warning the jews of typhus germans warning jews about a deadly disease', 'european capitols arent american besides europe allowed the muzzies in anyway not my problem', 'ricky i very much wish this could be a possibility in the us however the data since the  until today proves that blacks jews mestizos and asians vote overwhelmingly for democrats non whites vote overwhelmingly for less freedom bigger govt and more gibs me dat please explain', 'we can either all gang up on the kike or the kike can get everyone to gang up on us', 'make up your retarded mind did hitler or did he not kill  jews', 'when america was white no ghettos no handouts almost no taxes no men of color trying to have sex with your  year old daughter almost no crime the left says the white communities must die out', 'saw the new star whores movie this is my review a long long time ago in a ghetto far far away it is a period of cibil rights nigga rocketships striking from dey hood dey have won dey first victory against the ebil cracka empire', 'iran our women and children are being raped murdered and stabbed by invading barbarians and we are worried about muh democracy in iran wtf iranprotests', 'agreed and riyadh and any another place in that cesspool they congregate as i said level them both if we ever want world peace there are a couple billion fundie raghead that gotta go', 'ahaahaha towel heads are too fucking stupid i will admit jews can be smart because no dummy can be this manipulative to convince people like you to support their asses even though they are responsible for the demise of western culture although they have not done much else', 'we are bringing back the 1 9 4 0 a homogeneous white place a safe place a place where blacks knew their place expect mass mccarthy hearings to root out the commie jew traitors amongst us hey just like you', 'so yes i do see the political landscape stormfags who spout jew shit are just as damaging to the solution as fucking sjw faggots are', 'and i told you at the time as now that your list is info everyone already knows what you are afraid to tackle is the reason behind raghead terrorism as it places all the blame on your precious kikes i say let them both kill each other good riddance', 'eh i do not think i d suggest it at this point too much crime largely driven by immigrants and the fact that jobs are getting hard to find at times five years ago i would have said sure chile may be better cc ', 'it not just mainstream media i do not like the argument that many people on gab or any where on the interenet have yo my neighborhood had a bunch of asians and blacks moving in i moved cause i did not want to deal with that that not genocide', 'fuck the community keep the muzzies on a fucking leash i consider them filthy', 'diversity is a code word for white genocide', 'she is tired of liberal faggots uwuu give me welfare open the borders i love refugees and trannies weak men turn her off she wants to be in a nationalist bed', 'i have a question for you  why do you think all these nasty dirty towel heads want to kill whites why do you think they are in our white lands i am just curious here', 'harvey how many babied did you kill today were they all nigger babies', 'because its a scam run by kikes to enforce world domination while using white lives to do so or perhaps you missed the part about how we have done nothing but invade nations since the end of ww2 that have never attacked us', 'i can not imagine having to live with this level of cognitive dissonance life is so much easier when you just say fuck it and adopt race realism and white nationalism instead of contradicting yourself a gorillian times over just to make niggers and jews hate you less', 'fact whites are the only race that care about animals niggers eat them chinks torture them and arabs fuck them', 'there already enough photos of that retarded freak of nature on its twitter page', 'this idea that jews join the armed services is absurd it a hollywood meme they were not even allowed out of their ghetto pick one', 'fuck a bunch of amnesty every last one of these illegal immigrants need to be rounded up like a herd of cattle and sent back to whatever shithole of a country they came from', ' of white women have non white babies because of the brain washing of the media they date men of color to prove they are not racist wind up with muslims ghetto men and members of the drug cartel', 'where are all the conservative white men where are all the white women defending men from women committing perjury in the divorce courts oh that right they are cheering as men commit suicide screw you bitches look after yourselves mgtow', 'too bad you are such a retard and you muted me cuz i caught you saying dumbass shit', 'yes so if you hate faggots but are not a faggot yourself god will like that you hate faggots because surprise god hates faggots you are a heretic and you are damned', 'i like my fascist freedom of speech as jews call every word that a non jew says to suppress his liberty just the way it is jews because your satanic diversity of opinions has brought us this', 'how could we ever lose the narrative with these borderline mental retard nazi on our side', 'we can never have this as long as there are blacks jews spics muslims and asians', 'that is about the most faggot ass looking shit a man could wear bet ya any sumbitch that dons this bs is packing a man purse too', 'trump proved his love of america when he chose to not take money and worked in the white house during the shutdown recently fuck the dems they are so retarded now they are blindly walking into a trap hahaha', 'islam continues to spread because of arabs', 'the koch faggots and friends should be ovened', 'the ultimate anti muslim weapon a muslim being killed by a women means no virgins in heaven the armed kurdish women brigades caused fear and running of isis in syria this is the time for our sisters to take control of the destiny of the human race', ' triggered faggot maga presidenttrump', 'because they go after the loan wolves they pick up mostly the native ones the immigrants tend to be in gangs that is not really the local perverts mo', 'imagine canada with  of these animals to canada', 'i wish this faggot would die already someone send him a pepe strobe gif and cause him to stroke out', 'canfam next make sure that everyone you know sees video footage of taharrush gamea from europe and let them know europe has imported the muslim gang rape game and that the euro press has totally blacked out this epidemic of horrifically violent gang rape and beatings of european women', 'blah blah blah gay reference deep state blah blah blah lol just come out the closet already homo', 'well the weasel and who is carrying water for the biggest liar in our country history obama is about to get his ass set on fire and the ex coon and moslem commander is going down too releasethememo is finally here', 'yeah i know but this is one part of the whole picture and for faggots that keep harping on about elections as if it our whole point of the movement', 'some faggot reported my avi on twitter the same as i have here i wish the main people i follow on twitter were on gab so i could abandon that shitty site', 'so you agree then she as white english as you bringing mongols from  years ago into it does not negate that fact does it so you judged her purely on her looks and assumed wrongly that why your national socialism is retarded 😊', 'ah yes the great poem that invites every 3 rd world shitskin to come to our shores', 'whoopi goldberk aka caryn johnson is a stupid nigger with no brain', 'illegal aliens should just be called enemy combatants they have killed more americans than the sand niggers have in all of our wars over there daca', 'what the fuck is a baba kamma there were not any jews back then i believe they were called hebrews just another semitic variety of sand nigger', 'broke jews control the world woke russia is funding the alt right and jared taylor richard spencer and generation identity are foot soldiers for a global russian nazi movement boomerlivesdontmatter', 'holly serial killer wtf are you retard 😨 😨 😨', 'the left just got caught in their own trap they promote islam and inter racial marriage mudsharks etc now they want to eliminate freedom of association and not mix it up you cannot fix stupid', 'democrats forever the partyofslaves all they ever do is obstruct that so they can keep you in chains housenigger pimped out whores who keep the ghetto complacent slaveryisfreedom', 'how about a white farmer he grows corn and kicks nigger ass he cleans up south africa', 'if the greeks from  years ago could see the olympics now they d throw up it all about more msm promotion of gays blacks and those who hate whitey back then it was a statement of see do not mess with my country we will f you up', 'without the jews we would not have all those illegals and arabs ur gay', 'defends islam doesnt want to see islam erased from existence why not crusade against the jews and the sandniggers class remember the golden rule if you hate trump for any reason you may as well be antifa and a jew yourself namethejew  is a jew', 'a facile claim of anti semitism does not equal the new ones murder jews and are driving them out especially when the muslims are semites and the jews are khazars', 'lol oh yeah ok you wanna fight lets go queer anyone who jojns the military withour being drafted is a faggot too', 'the christ cuck sand nigger messiah cries out in pain as he shoots himself in the foot with his sand nigger religion lmao', 'animals have hemoglobin and plasma too op bitch', 'says the retarded mong that had his here as nemesisofmycroft i broke you 2 yrs ago and you have never recovered', 'they are using arabs and africans to wipe out the western culture people it came from their mouths check my bitchute', 'backpedaling fails to point out exactly my comments and resumes to nonsensical aussie retarded babbles go choke on a cock you useless wrinkly aussie slag you are th descendants of the bottom feeders among limeys loll', 'and the pitifultruth is that when german women got to good to have german families the damned ragheads come in and rape them', 'so nice to see an american family in the white house and not the ghetto trash who was ruining our country maga gabfam britfam', 'libtards are allowing jews and people of color to ruin america', 'i am starting to think it the jews 👀', 'i can only assume that our govts are corrupted by saudi qatari money and in return have promised to put muslims above every non muslim citizen that the only thing that makes sense which means next ge we have to elect an uncorrupted govt', 'the muslims have fled and are claiming benefits in europe and the jews are sitting safe and sound in new york and washington rubbing their hands together spending the proceeds of stolen oil', 'anyone who still votes for democrats is a fucking retarded idiot', 'america the rulers overlords at the federal local levels have made a declaration the lives of american citizens are no longer our concern as of this moment the only lives worth protecting defending are those of illegal aliens muslim terrorists libbyschaaf', 'another ghetto fucking nigger ape murdering a white woman and not one mentioned in the fake news media about it white people need to bring back lynching parties again corrupt government law enforcement has neutered white men from justice from these sub human monkeys', 'i hope there are not many of my fellow asians in sweden high chance of falling victim to islamic rape gangs in that country', 'islam is the religion of peace there a piece of you over here another piece over there some more pieces over there the fun never stops with the retarded followers of the pedophile prophet', 'trudeau is a muzzie loving faggot he loves the goathumpers at the expense of canadians yet the canadians elected him what is wrong with canada', ' there are muslim umma fuckers muslim halal facebook is not reliable we must have a website social networking far powerfrul than muslim halal facebook we can destroy the coward muslim umma fuckers very easily', 'dont like capitalism want socialism want national socialism also known as socialism for whites only got to africa jews have imposed socialism for blacks only there and if someone tries to open a business he gets shot by the jews', 'talk to me when one of the dumb tradthots get shot over their views or something no one gives a shit about some idiot getting detained on muslim grounds anymore this isnt ', 'whatever ivan bollockov you keep flapping like a bitch i will get your dad to turn your wifi off and confiscate your phone', 'atomaweapon is a puny faggot trying to be big shit asking billshit questions to dodge the subject', 'fuck that towelhead terrorist ship him to syria and drop him off a building fucking cuck', 'did you hear about the sand nigger lookin guy on the human rights council of australia who used his parliament speaking time to rail against the fast track immigration to the south african whites that was proposed this is far worse than just clown world', 'when a cucked trump faggot thinks you are a libertarian', 'damn tfw total retard yet micro confirms ur suspicions called this weeks ago feelsgodopan jpg practice cancelled today shits about to get rough', 'lol most die from legal drugs not the ones shipped in by the cia nation of obese retarded junkies needs lots of drugs', 'confirmed retard here folks', 'stupid commie cunts fuck them well actually do not fuck the bald lesbian that just nasty plus she does not like dick and do not fuck the black one or the fat one who wants to go ghetto or hoggin the one on the left is doable though', 'racist pieces of shit more black kids are killed in the ghetto by other black kids so how is there never protests when an innocent little kid dies from stray bullets going through their house huh they wont because it smashes blms narrative and the truth is racist', 'i poisoned sergei skripal he was a faggot anyway', 'your pussy muzzie loving government is killing you off faster than any battlefield aside from a handful of brit your giving your country up just like your parliament wanted to do in  here you go hitler we give up you had better resurrect churchill rapidly cuck boy', 'i never thought i would see the day when faggots and niggers are held in a higher regard than myself when the leaders of your own country hate you love them your country is screwed', 'just how many niggers has david duke defeated in a knife fight did heimbach show you all the bullet holes that niggers have put in him and have many times has spencer been ass raped by a nigger and no you can not count the times money was exchanged beforehand mpcstatusupdates', 'longest war $$ $$ in american history a few stinkin thousand muzzies we can not wipe out gen smedley butler war i a racket but make sure you cough up your tax for this bullshit farce or they throw you in jail', 'no faggot you are anti white for calling white nationalists wignats a retarded anti white term coined by your idol ricky vaughn', ' yr ago muslims shot killed whites blacks latinos asians christians jews for the fact they were non muslim americans sanbernardino', 'have just another rabbit running on facebook under the honey badge guise this one is a little rocket wicked fun making jews dance the homo paedo dave slatfascists is unable to find me on facebook', 'christianity turned whites into lugubrious losers that why even white kids prefer nigger music because niggers do not sound beaten down white christians always do', '😂 altright is a joke and they dare to make fun of conservatives ha good luck killing eachother trying to be the top nazi ya bunch a retards 😂', 'warski has a flat earth debate two days later baked alaska has a flat earth debate that bleached haired retard does not even hide it anymore', 'america elected a ghetto family twice', 'now he comes aaron judge certainly one of the hotter yankees michael kay no homo', 'muzzies are goathumpers and wifebeaters fuck every muzzie and the religion of piss i d be happy if we nuked every muzzie country off the map', 'obama was ghetto bigger so yes', 'precinct and campaign meetings will confirm that it is only whites who hold any ideals about government non whites want free govt cheese and jews are crazy for power', 'they are lighter skinned arabs with phoenician and other relict populations mixed in hardly white but still i support them and their right to exist in the face of kike oppression', 'brennan is a vicious nasty muslim convert no act is too low for him', 'come on faggot you can do better than that why do not you come at me with scholarly sources scratch that you raggedy ass faggots would not know a reputable source or scholars for that matter if it fucked you in the ass get thee behind me faggot', 'a few years back i talked to my wife about maybe selling our house cashing in our 4 0 1 k and moving our family to sweden that out the window we have  yr old beautiful white daughters fucking sand niggers would have a hey day with them my sympathies sweden', 'yep and who pushed the civil rights thing which made niggers far worse you got it the joos they are worse than niggers ever thought about being', 'imagine trusting that rat faced faggot kike', 'education or marxist indoctrination since it is well established blacks are incapable of learning anything past the age of ten unless they are half white should not blacks go to a trade school upon age  say learning how to pick cotton fruits and vegetables', 'wotta day for putting the flag on top of your car and drive through the caliphates playing onwards christian soldiers full blast on a ghetto blaster', 'yes i am sure that bands of feral blacks would not be blowing each other away over gang territory in blighted urban ghettos if they had not gotten the idea from the book of ecclesiastes', 'leftists are all brainwashed retarded monkeys they need to hear the exact same words right back in their face it confuses their programming always remember all leftists are merely a software program never try to use logic only emotion', 'this sperging alt right retard accused me of being a subversive jew now he is claiming that i am sarcuck the fuckwad i wish i was making something like that up where it makes whites look bad but i am not', ' you can take the family out of the ghetto but you cannot take the ghetto out of the family', 'ben is a dumb kike but he sure is god at burning sjw faggots so he is a predictable winner for fag to fag confronts', 'dont try to follow me cunts i aint blind bitch faggot sandniggers', 'good might slow down their breeding by homosexual muslims who hate women', 'plenty of faggots to talk to', 'if a pic can be shown send in the drone the cancer of islam needs to be eradicated not enabled ww2 vets are rolling in their graves', 'nigger and a chimp walk into a gay bar iran has nukes istandwithisrael', 'justin you fucking retarded asshole get this through your thick skull once and for all even the globalist scumbags running the un will not pick a retard like you to be the secretary general', 'i wonder how many of those living in the ghetto now drinking leadened water and under constant threat of gang violence long for a secure bed and meals on the plantation', 'that fat fucking dyke pos should indeed be prosecuted and campaign finance violations should be the least of it get her on public indecency charges whatever they can come up with', 'immigrant fucks from middle east are destroying you faggots let them in your bad not my', 'if every white man who cares about the survival of our race killed as many niggers and kikes as they could before getting arrested or killed the problem would be solved in no time this is what they fear more than anything', 'we had a fun time on  one year with pam geller and geert wilders speaking against building a muzzie mosque in the area the english defence league even showed up', 'anyone that stepped foot on desert soil and fought those sand niggers please tell me does it make you sick to see them taking over america', 'brennan is a traitor any other muslim who attains a position of responsibility will also commit treason muslims cannot be muslims while upholding the us constitution or its laws they are irrevocably in conflict with so called islamic law', 'nazi assholes  only few have balls lmfao', 'rt usahotlips i never thought i would see the day when liberals would have so much contempt for one man their country that they would actually cheer for defend ms  north korea iran illegal immigrants deep state thursdaythought maga tds', 'wow you just admitted to wanting the homo sex eww the trolls on gab are retarded as hell maybe as technology improves so will the faggotry jeff mute this nigga mute', ' \\u200d i agree the catholic church loves their muzzie infiltration at any cost they give and give and give to the sand niggers at the cost of white catholics shame on them', 'it muh dickism and biketheftism rolled into one if you think about it it peak negro if niggers could do magic they would of course use their powers to steal shit', 'yep it been going on a while if only people would listen to people like tommy like us but they do not they like to feel good and not think about the up to a million underage girls raped over the decades', 'i should post pics of muslim women sucking christian cock lol', 'nigger jokes are more played out than groyper avis keep using it it has no effect meanwhile all you do is whine and bitch way to save the west bitching on gab my dude', 'arab refugees the jews are fucking arabs', 'the left labels trump supporters as being uneducated but chooses to side with third world refugees that have zero conception of how democracy works just liberal things maga democrats cucks trump', 'im not going to join that gay ass jew hate club ya fag now go find a kackrat and stroke it all better', 'wait so ur tellin me not only is the earth not flat but niggers be on other planets i guess i should not be surprised after learning what ethnic swedes look like i always thought they were hot blondes', 'so as men we have penises that look like melted candles but women get something cool as their pussies look like the fucking predator', 'lol we got another israel firsting faggot i bet you d like a kike rape your  year old daughter to prove you are not anti semitic would not you', 'thanks jews how it started', 'do not vote for any candidate with a jew spic sand nigger or gook last name or one who is a nigger period', 'you sound like an annoying boomer faggot', 'either that or you are a retard who does not understand that the word demand is customarily used when outlining political goals even when said goals are not addressed to any specific higher authority', 'president trump has the patience of a saint if it were me in his place i would have declared martial law rounded up every member of the retarded liberal media and shipped them all to a gulag in antarctica', 'the question i ask myself most often is why the negro race keeps running away from themselves to live amongst the white race and then turn around and blame the white race for their pathetic existence in the land from whence they came', 'for fuck sake when is the western governments going to stop giving these retarded hostile muslims perpetual aid', 'it probably does not since faggot kennedy limited the ruling to just that one baker and just to be pushing back against anti christian statements by the state regulators the one time kennedy was ready to do the right thing roberts was there to overrule him obamacare', 'jews started terrorism murdering and bombing in jerusalem jews are fucking arabs', '🎶 blackstones meet the blackstones they are a stone age ghetto family from the town of harlem they are niggers right from history 🎶', 'oh that bitch needs to be cornered by a pack of sand niggers made air tight and then have her throat slit it could have been a bus that killed her after all', 'wherever trump goes there is love peace and happiness except for israel only jews would kill around  people in his presence', 'as for jews revenge is the only answer i blame modern christianity for this cuck mentality turn the other cheek must end the jews have flooded our countries with invaders to rape our daughters our people used to live for conquer and revenge its time to rekindle the fire ', 'what a fucking bitch lol conservatives are just as liberal as democrats that why they accept faggots nowadays will not be long before they accept trannies too', 'is it just me or are the only people retarded enough to buy the q larp boomers i swear they eat it all up right along with a side of fox news and pro israel propaganda qanon', 'he gave you a brillo pad that you all spend a fortune on to get rid of so you can look like white women', 'tell that retarded fucking monkey to come on with it i will wait', 'so is it ok for us to protest jews in those positions in our countries as well chill the personal attacks i am better than you at those and i have not even used one yet it a debate', 'you have a spic in a spic area he d have had to be the shooter himself almost to get fired a little bit of sexual harassment eyy mamasita joo bee lookin good is nothing to those muds best to deport them all', 'the hill as always twists it up it not the religious right it the religious left that run refugee placement programs and such like the jackasses settle muzzies in paterson nj', 'purple haired dyke fascism please stop this meme', 'norwegians just as retarded as the rest of w europe importing murdering raping incestious pedophiles to a once beautiful country have caucasians no brain these days', 'attention all lieberal feminazi here a cause for you put on your pussy hats and go get the toxic male responsible for actual pussy grabbing c mon lying bitches still waiting', 'muslim migrant rapes more women than canadian bernado yet media stays silent we wonder why no one trusts the media any more', 'i am an american but i am ethnically chinese people often ask me what does ching chong ching chong mean i always answer it means go fuck yourself you retarded democrat speakfreely', ' he should resign and then commit hara kiri in front of those bloody thirsty muslim scumbag camel jockeys', ' conversano seen by some as controlled opposition advocates frontal clash risks civil war whereas the french white population has no weapons contrary to the heavily armed ghettos good idea', 'considering many europeans have now been raped and killed horriby by islamic hoardes i wonder what the media reaction when the backlash comes it is bound to happen no doubt they will condemn it as a white nazi hate crime and come down hard on anyone critical of islam banislam', 'obamanicknames  gay husband americahaterinchief america hating globalist elitist piece of trash arrogant pompous narcissistic thug attention hound b hussein blunder barack arafat', 'i hope obama and his corrupt cia get caught trying cut the power to our grid i d love to see that muslim goatf*cker  in cuffs and a jumpsuit falseflag obama', ' jews have their own country they should stop meddling and trying to flood our nations with immigrants', 'if these ghetto trash gangsta pussies are so bad ass then why do they almost always group up in packs of  or more to attack a solo white person and they tend to pick weakened inebriated or incapacitated victims doh', 'obama to cubans you can not stay sorry cubans but what about the illegal immigrants from mexico obama they get to stay they vote democrat result obama just guaranteed trump will win florida in  gab gabfam speakfreely maga cuba', 'yes npr do go on please tell me about all the poor women who need my money because they can not keep their legs closed maga speakfreely', 'bringing in pro sharia law immigrants is like letting a drunk driver take kids to school on the bus it like letting a serial killer out of prison and hope he she has learned their lesson', ' you do not consider anything presented to you as evidence let alone irrefutable evidence you just continue to diagree you shifted this argument from the jews pushing the muslims in to the holocaust to af diary you can not win so you shift are you black or a woman', ' we have all been raped by these assholes cathy obrian came out years ago', 'how many feminists will get raped tonight by the diverse filth they are currently marching with then blame men no right wing straight white male wants to touch your std infested multiculturally accecable hatchet wound and i think that really why you are angry womensmarch', 'breitbart com video  full of ghetto thugs stop supporting them you just make them rich ghetto thugs', 'imagine if someone wrote a  page racial history of jews white interactions in europe and casually noticed that millions of jews had been baptized and became faithful productive citizens that reversed is what i hold e michael jones has done teamwhite', 'i go to public beaches and see beautiful young women it tiny swimsuits and yet somehow i have managed to never rape anyone that the difference between americans and islamists apparently', 'european history of  years speaks with one voice exterminate the jews before they exterminate you whitegenocide', 'the solution to save the white race is clearly to vilify women and not have children after all who wants the burdens of marriage like our dumb ancestors they should have probably just chosen to stroke it out rather than continue on our race', 'what the fuck coca cola not a joke multicultural commercial featuring song america just had muslim immams and head bags and lyric god shed his grace on thee in arabic they really want us fucking dead', 'the more the demoncrats get pissed off the happier i am keep digging that hole with your retarded on hag cunt pelosi', 'this is milo pussy grabbing moment if you will we get to learn who the loyalists are and who the pusillanimous cuckservative faggots are trump maga milo pussygrabbing gabfam milo  dreadilk vfm fakenews', 'i do not see why people go camping if i wanted to freeze my balls off and shit in a bucket i would sleep at my aunt house in the ghetto', 'i swear if i ever die someday and some sorry son of bitch votes democrat on my behalf i will comeback and slash that motherfucker', 'a good reason why scientists should shut the fuck up when it comes to politics is that they will insist that niggers and arabs are rapey and stupid because of hot weather or lack of water rather than admitting that they have lower iqs and shittier cultures', 'egad my home is being invaded by black ants i wonder if this is some sort of cosmic symbolism for the third world immigrant invasion probably not i have not heard of any mexicans getting crushed by the thumb of damocles', 'dear illegal immigrants living in my apartment building stop overstuffing the washing machine stop giving me dirty looks when i kindly ask you to remove your car from the parking lot kindly stop looking like i owe you anything because i do not thank you rosy', 'objectively east asians are an upgrade intelligence and the mixes are frequently stunning look at kristin kreuk dutch chinese and hybrid vigor is a thing', 'all people engage in stereotyping bc that how humans survive anyone who claims that assuming blacks are thugs bc of how they dress in the ghetto is a retard bc they dress that way literally to convince others they are thugs so they will not be attacked by other thugs', 'i would say its the jews but well it is sorta its not that simple', 'are you talking about sand niggers', 'merkel next governmental position should be refugee camp whore', 'whatever crypto infiltrator u are yeah but ur pro zionist are not u definition of jew believes in and pushes holocaust hoax as well as pushes  was done by arabs story', 'in england they call these people asians even though they are from the sub continent and pakistan and east asians are called orientals it irritates me too we should classify them by race and perhaps religion in this case paki muzzie', 'another day another sand nigger kills whites', 'now that transgender rapist martin ponting traded his twig and doodleberries for a hoo hah courtesy of the british taxpayer he gets special accommodations – namely being put into a prison full of women brittany m hughes', 'cable news incl fox is absolutely intolerable now they have a few conservative journalists but we the public are bombarded by a parade of libtards liberal niggers and muzzrat opinions i can not stand it i contacted directv requested a lib nigger muzzrat filter and they laughed', 'if money was grown on trees women would be dating monkeys oh wait never mind', 'and you are allowing those sand niggers to conquer you without you firing a shot good job man', 'ultimately noone free shit whether to megacorps or ghetto trash never gets repealed a small group is for it and everyone else is apathetic as it slightly too complicated for them to grok', 'stealth goatfucker  😂 😂 😂', 'silent ive learned a lot in my life corn can be white red amp sometimes blue mars takes about  years to get to and you re the biggest retard', 'that is just so retarded that kid does not deserve what coming better still terminate those idiots when the kid is born they should slap the mother and put the kid in care', 'please can you enlighten me as to why chabad jews think they are superior are we all not gods children  is a very important number yes its not just your religious number i would welcome conversation with you to try and understand your attitude towards goyem life', 'arabs can barely build guided rockets', 'if muzrats reckon muzrat countries are houses of peace and non muzrat countries are houses of war then every muzrat in non muzrat countries should be considered as soldiers or spies behind enemy lines', 'and a closet muslim like obama jerks off whenever the rads go boom', 'no stop pointing the finger at men shame women who divorce who take the kids demand alimony for life teach their sons to hate their fathers basically guaranteeing they will be gay adults the blame for unwed men lies squarely w haughty mentally ill women misusing the law to destroy society', 'we hate islam and we will mock your paedophile prophet mohammed as much as we want no we dont care what you think or how offended you are we are americans and we are free to say what we want bitch banislam', 'no i only call you a retard because you are a retard', 'meh more likely it the digital version of rent seeking racist kike slumlords son do not rent to white men white men insist that the plumbing works and do not rent to your brother he deserves better than a ghetto', 'niggers in tulsa on video saying fuck the police after a wild nigger mentally ill was killed by cops we do not want or need niggers in america quit using  better yet leave america now you worthless pieces of shit', 'i envision everything this retarded puerto rican saying to me being typed out on a shitty android phone in between kik sessions with random  kids', 'keywords downvote copy pasted faggot link andrew torba muting retarded ass fuck off', 'the blm leadership have been out disrupting lgbt events the black militant muscle panthers guerilla family et al who were murdering whites cops are who knows where the street thugs burning and looting are probably in and out of jail or being moved to prey on the white suburbs', 'true but the most disgusting thing would be a muslim twerking a goat', 'the catholic church stopped being a bulwark against western rot when the church became infested with homosexuals it is now just as if not more corrupted than the government bureaucracies of western nations and has sunk so low we are hearing stories of depraved gay orgies on sacred church ground', 'well uh not just bc of zombama and cunton they arabs and blax love slavery jews too as far as i can tell', 'twitter use to suspend me and when i got back on id lost hundereds of followers they finally banned mebecaue this muslim who threatend potys i reported her to her busness fbi she called my home threatened me i bet she is still on twitter', 'how is all that awesome muslim diversity going for you native germans you have allowed this yourselves if you do not stand and fight against this you get what you asked for what you deserve', 'well my dear lgbtq brothers and sisters i do not want to die at the hands of a muslim terrorist and as you are putting my life in danger with your politics i would like to suggest that you all go fuck yourselves']\n"
     ]
    }
   ],
   "source": [
    "indices_TP =true_positives(test_label ,tv_lr_test_pred_1)\n",
    "print('True Positive indices >> ', indices_TP)\n",
    "toxic_comment_TP = sample_cf(indices_TP, df_test)\n",
    "print('Toxic comments identified as toxic >> ', toxic_comment_TP)"
   ]
  },
  {
   "cell_type": "code",
   "execution_count": 172,
   "metadata": {},
   "outputs": [
    {
     "name": "stdout",
     "output_type": "stream",
     "text": [
      "False Positive indices >>  [3, 6, 8, 12, 16, 18, 30, 39, 48, 53, 60, 64, 66, 75, 77, 79, 90, 94, 98, 106, 108, 116, 122, 123, 126, 137, 144, 145, 157, 159, 160, 161, 167, 169, 170, 172, 175, 178, 185, 196, 199, 203, 208, 211, 212, 219, 227, 228, 229, 233, 245, 250, 251, 257, 258, 261, 264, 268, 274, 281, 282, 283, 289, 295, 296, 304, 306, 308, 310, 313, 315, 330, 333, 342, 345, 348, 349, 354, 359, 361, 362, 371, 377, 385, 387, 391, 393, 401, 406, 428, 438, 447, 449, 457, 458, 487, 508, 509, 523, 526, 536, 541, 543, 545, 548, 549, 560, 564, 566, 568, 606, 624, 632, 638, 641, 646, 652, 658, 659, 678, 679, 687, 707, 712, 713, 721, 737, 738, 743, 753, 782, 784, 800, 808, 809, 812, 813, 814, 818, 821, 823, 825, 826, 840, 851, 852, 859, 863, 865, 870, 872, 873, 874, 885, 889, 894, 902, 906, 909, 934, 940, 943, 945, 947, 949, 963, 969, 979, 986, 997, 1000, 1004, 1008, 1010, 1015, 1025, 1053, 1064, 1070, 1087, 1119, 1121, 1126, 1127, 1132, 1137, 1144, 1163, 1170, 1172, 1174, 1184, 1185, 1191, 1194, 1198, 1203, 1204, 1205, 1207, 1209, 1221, 1222, 1223, 1225, 1235, 1236, 1249, 1261, 1266, 1272, 1276, 1294, 1298, 1303, 1305, 1306, 1317, 1335, 1338, 1355, 1357, 1367, 1374, 1380, 1400, 1421, 1432, 1446, 1448, 1451, 1474, 1477, 1481, 1482, 1489, 1491, 1502, 1506, 1507, 1524, 1532, 1535, 1540, 1548, 1552, 1553, 1559, 1572, 1588, 1592, 1599, 1603, 1618, 1624, 1636, 1663, 1664, 1674, 1678, 1695, 1720, 1725, 1728, 1733, 1736, 1743, 1745, 1753, 1759, 1764, 1779, 1781, 1794, 1796, 1799, 1800, 1801, 1812, 1813, 1826, 1853, 1863, 1867, 1876, 1885, 1905, 1909, 1910, 1913, 1917]\n",
      "Non Toxic comments identified as toxic >>   a camel jockey midde east watering station\n"
     ]
    }
   ],
   "source": [
    "indices_FP =false_positive(test_label ,tv_lr_test_pred_1)\n",
    "print('False Positive indices >> ', indices_FP)\n",
    "toxic_comment_FP = sample_cf(indices_FP, df_test)\n",
    "print('Non Toxic comments identified as toxic >> ', toxic_comment_FP[2])"
   ]
  },
  {
   "cell_type": "code",
   "execution_count": 178,
   "metadata": {},
   "outputs": [
    {
     "name": "stdout",
     "output_type": "stream",
     "text": [
      "False negative indices >>  [10, 13, 57, 63, 72, 204, 209, 218, 220, 234, 248, 249, 253, 366, 382, 416, 425, 443, 454, 460, 463, 469, 470, 483, 495, 519, 552, 565, 609, 642, 655, 670, 677, 680, 793, 805, 846, 854, 855, 915, 925, 931, 936, 983, 1018, 1026, 1027, 1043, 1044, 1045, 1049, 1051, 1054, 1055, 1058, 1061, 1069, 1071, 1073, 1076, 1078, 1080, 1082, 1083, 1084, 1086, 1089, 1096, 1101, 1111, 1116, 1135, 1141, 1142, 1153, 1154, 1157, 1160, 1167, 1168, 1180, 1183, 1188, 1190, 1199, 1212, 1213, 1214, 1218, 1219, 1220, 1226, 1238, 1241, 1247, 1248, 1251, 1264, 1267, 1269, 1270, 1274, 1278, 1281, 1284, 1289, 1300, 1308, 1332, 1333, 1340, 1344, 1347, 1373, 1377, 1381, 1383, 1385, 1394, 1398, 1404, 1407, 1409, 1413, 1429, 1439, 1450, 1452, 1459, 1462, 1471, 1479, 1494, 1500, 1508, 1513, 1528, 1539, 1549, 1550, 1556, 1563, 1566, 1575, 1578, 1582, 1583, 1598, 1602, 1610, 1614, 1617, 1619, 1625, 1626, 1644, 1650, 1653, 1657, 1665, 1670, 1671, 1700, 1713, 1714, 1716, 1726, 1727, 1744, 1746, 1754, 1769, 1771, 1827, 1831, 1834, 1836, 1842, 1844, 1849, 1854, 1864, 1868, 1872, 1874, 1875, 1880, 1887, 1893, 1897, 1903, 1918, 1919, 1920]\n",
      "Toxic comments identified as non-toxic >>  get the honky cat\n"
     ]
    }
   ],
   "source": [
    "indices_FN =false_negative(test_label ,tv_lr_test_pred_1)\n",
    "print('False negative indices >> ', indices_FN)\n",
    "toxic_comment_FN = sample_cf(indices_FN, df_test)\n",
    "print('Toxic comments identified as non-toxic >> ', toxic_comment_FN[2])"
   ]
  },
  {
   "cell_type": "code",
   "execution_count": 173,
   "metadata": {},
   "outputs": [
    {
     "data": {
      "text/plain": [
       "(array([[ 0.15598683,  0.16492113, -0.19364593, ..., -0.13280978,\n",
       "         -0.13280978, -0.18801325]]),\n",
       " array([-0.35113794]),\n",
       " array([0, 1], dtype=int64))"
      ]
     },
     "execution_count": 173,
     "metadata": {},
     "output_type": "execute_result"
    }
   ],
   "source": [
    "from sklearn.linear_model import LogisticRegression\n",
    "lr = LogisticRegression(penalty='l2', max_iter=1000, C=1, random_state=42)\n",
    "lr.fit(tv_train_final_features,  train_final_label)\n",
    "lr.coef_,lr.intercept_,lr.classes_"
   ]
  },
  {
   "cell_type": "code",
   "execution_count": 162,
   "metadata": {},
   "outputs": [
    {
     "data": {
      "text/plain": [
       "18182"
      ]
     },
     "execution_count": 162,
     "metadata": {},
     "output_type": "execute_result"
    }
   ],
   "source": [
    "len(lr.coef_[0])"
   ]
  },
  {
   "cell_type": "code",
   "execution_count": 163,
   "metadata": {},
   "outputs": [
    {
     "data": {
      "text/plain": [
       "<17305x18182 sparse matrix of type '<class 'numpy.float64'>'\n",
       "\twith 196346 stored elements in Compressed Sparse Row format>"
      ]
     },
     "execution_count": 163,
     "metadata": {},
     "output_type": "execute_result"
    }
   ],
   "source": [
    "tv_train_final_features"
   ]
  },
  {
   "cell_type": "code",
   "execution_count": 166,
   "metadata": {},
   "outputs": [],
   "source": [
    "from sklearn.feature_extraction.text import TfidfVectorizer\n",
    "tv = TfidfVectorizer(ngram_range=(1,1),max_features=None, min_df=0.0, max_df=1.0,use_idf=True)\n",
    "tv_train_features = tv.fit_transform(norm_train_final_corpus)\n",
    "tv_test_features = tv.transform(norm_test_corpus)"
   ]
  },
  {
   "cell_type": "code",
   "execution_count": 167,
   "metadata": {},
   "outputs": [],
   "source": [
    "from sklearn.feature_selection import mutual_info_classif\n",
    "important = mutual_info_classif(tv_test_features, test_label)"
   ]
  },
  {
   "cell_type": "code",
   "execution_count": 168,
   "metadata": {},
   "outputs": [
    {
     "data": {
      "text/html": [
       "<div>\n",
       "<style scoped>\n",
       "    .dataframe tbody tr th:only-of-type {\n",
       "        vertical-align: middle;\n",
       "    }\n",
       "\n",
       "    .dataframe tbody tr th {\n",
       "        vertical-align: top;\n",
       "    }\n",
       "\n",
       "    .dataframe thead th {\n",
       "        text-align: right;\n",
       "    }\n",
       "</style>\n",
       "<table border=\"1\" class=\"dataframe\">\n",
       "  <thead>\n",
       "    <tr style=\"text-align: right;\">\n",
       "      <th></th>\n",
       "      <th>score</th>\n",
       "      <th>features</th>\n",
       "    </tr>\n",
       "  </thead>\n",
       "  <tbody>\n",
       "    <tr>\n",
       "      <th>17564</th>\n",
       "      <td>0.124073</td>\n",
       "      <td>white</td>\n",
       "    </tr>\n",
       "    <tr>\n",
       "      <th>10979</th>\n",
       "      <td>0.0668227</td>\n",
       "      <td>nigger</td>\n",
       "    </tr>\n",
       "    <tr>\n",
       "      <th>9223</th>\n",
       "      <td>0.0643978</td>\n",
       "      <td>like</td>\n",
       "    </tr>\n",
       "    <tr>\n",
       "      <th>11917</th>\n",
       "      <td>0.0580435</td>\n",
       "      <td>peopl</td>\n",
       "    </tr>\n",
       "    <tr>\n",
       "      <th>5954</th>\n",
       "      <td>0.0533306</td>\n",
       "      <td>fuck</td>\n",
       "    </tr>\n",
       "    <tr>\n",
       "      <th>...</th>\n",
       "      <td>...</td>\n",
       "      <td>...</td>\n",
       "    </tr>\n",
       "    <tr>\n",
       "      <th>6999</th>\n",
       "      <td>0</td>\n",
       "      <td>headlight</td>\n",
       "    </tr>\n",
       "    <tr>\n",
       "      <th>7001</th>\n",
       "      <td>0</td>\n",
       "      <td>headquart</td>\n",
       "    </tr>\n",
       "    <tr>\n",
       "      <th>7002</th>\n",
       "      <td>0</td>\n",
       "      <td>headrag</td>\n",
       "    </tr>\n",
       "    <tr>\n",
       "      <th>7003</th>\n",
       "      <td>0</td>\n",
       "      <td>headscarv</td>\n",
       "    </tr>\n",
       "    <tr>\n",
       "      <th>18181</th>\n",
       "      <td>0</td>\n",
       "      <td>엑스원</td>\n",
       "    </tr>\n",
       "  </tbody>\n",
       "</table>\n",
       "<p>18182 rows × 2 columns</p>\n",
       "</div>"
      ],
      "text/plain": [
       "           score   features\n",
       "17564   0.124073      white\n",
       "10979  0.0668227     nigger\n",
       "9223   0.0643978       like\n",
       "11917  0.0580435      peopl\n",
       "5954   0.0533306       fuck\n",
       "...          ...        ...\n",
       "6999           0  headlight\n",
       "7001           0  headquart\n",
       "7002           0    headrag\n",
       "7003           0  headscarv\n",
       "18181          0        엑스원\n",
       "\n",
       "[18182 rows x 2 columns]"
      ]
     },
     "execution_count": 168,
     "metadata": {},
     "output_type": "execute_result"
    }
   ],
   "source": [
    "d = pd.DataFrame([important, tv.get_feature_names()], index=['score', 'features']).T\n",
    "d.sort_values(by=['score'], ascending=False)"
   ]
  },
  {
   "cell_type": "code",
   "execution_count": 175,
   "metadata": {},
   "outputs": [
    {
     "data": {
      "text/html": [
       "<div>\n",
       "<style scoped>\n",
       "    .dataframe tbody tr th:only-of-type {\n",
       "        vertical-align: middle;\n",
       "    }\n",
       "\n",
       "    .dataframe tbody tr th {\n",
       "        vertical-align: top;\n",
       "    }\n",
       "\n",
       "    .dataframe thead th {\n",
       "        text-align: right;\n",
       "    }\n",
       "</style>\n",
       "<table border=\"1\" class=\"dataframe\">\n",
       "  <thead>\n",
       "    <tr style=\"text-align: right;\">\n",
       "      <th></th>\n",
       "      <th>score</th>\n",
       "      <th>features</th>\n",
       "      <th>coefficients</th>\n",
       "    </tr>\n",
       "  </thead>\n",
       "  <tbody>\n",
       "    <tr>\n",
       "      <th>17564</th>\n",
       "      <td>0.124073</td>\n",
       "      <td>white</td>\n",
       "      <td>-1.97341</td>\n",
       "    </tr>\n",
       "    <tr>\n",
       "      <th>10979</th>\n",
       "      <td>0.0668227</td>\n",
       "      <td>nigger</td>\n",
       "      <td>9.92938</td>\n",
       "    </tr>\n",
       "    <tr>\n",
       "      <th>9223</th>\n",
       "      <td>0.0643978</td>\n",
       "      <td>like</td>\n",
       "      <td>1.13568</td>\n",
       "    </tr>\n",
       "    <tr>\n",
       "      <th>11917</th>\n",
       "      <td>0.0580435</td>\n",
       "      <td>peopl</td>\n",
       "      <td>-1.2239</td>\n",
       "    </tr>\n",
       "    <tr>\n",
       "      <th>5954</th>\n",
       "      <td>0.0533306</td>\n",
       "      <td>fuck</td>\n",
       "      <td>1.19448</td>\n",
       "    </tr>\n",
       "    <tr>\n",
       "      <th>...</th>\n",
       "      <td>...</td>\n",
       "      <td>...</td>\n",
       "      <td>...</td>\n",
       "    </tr>\n",
       "    <tr>\n",
       "      <th>6999</th>\n",
       "      <td>0</td>\n",
       "      <td>headlight</td>\n",
       "      <td>0.0373926</td>\n",
       "    </tr>\n",
       "    <tr>\n",
       "      <th>7001</th>\n",
       "      <td>0</td>\n",
       "      <td>headquart</td>\n",
       "      <td>0.365901</td>\n",
       "    </tr>\n",
       "    <tr>\n",
       "      <th>7002</th>\n",
       "      <td>0</td>\n",
       "      <td>headrag</td>\n",
       "      <td>0.0393781</td>\n",
       "    </tr>\n",
       "    <tr>\n",
       "      <th>7003</th>\n",
       "      <td>0</td>\n",
       "      <td>headscarv</td>\n",
       "      <td>0.146395</td>\n",
       "    </tr>\n",
       "    <tr>\n",
       "      <th>18181</th>\n",
       "      <td>0</td>\n",
       "      <td>엑스원</td>\n",
       "      <td>-0.188013</td>\n",
       "    </tr>\n",
       "  </tbody>\n",
       "</table>\n",
       "<p>18182 rows × 3 columns</p>\n",
       "</div>"
      ],
      "text/plain": [
       "           score   features coefficients\n",
       "17564   0.124073      white     -1.97341\n",
       "10979  0.0668227     nigger      9.92938\n",
       "9223   0.0643978       like      1.13568\n",
       "11917  0.0580435      peopl      -1.2239\n",
       "5954   0.0533306       fuck      1.19448\n",
       "...          ...        ...          ...\n",
       "6999           0  headlight    0.0373926\n",
       "7001           0  headquart     0.365901\n",
       "7002           0    headrag    0.0393781\n",
       "7003           0  headscarv     0.146395\n",
       "18181          0        엑스원    -0.188013\n",
       "\n",
       "[18182 rows x 3 columns]"
      ]
     },
     "execution_count": 175,
     "metadata": {},
     "output_type": "execute_result"
    }
   ],
   "source": [
    "d = pd.DataFrame([important, tv.get_feature_names(),lr.coef_[0]], index=['score', 'features','coefficients']).T\n",
    "d.sort_values(by=['score'], ascending=False)"
   ]
  },
  {
   "cell_type": "code",
   "execution_count": null,
   "metadata": {},
   "outputs": [],
   "source": []
  }
 ],
 "metadata": {
  "kernelspec": {
   "display_name": "Python 3 (ipykernel)",
   "language": "python",
   "name": "python3"
  },
  "language_info": {
   "codemirror_mode": {
    "name": "ipython",
    "version": 3
   },
   "file_extension": ".py",
   "mimetype": "text/x-python",
   "name": "python",
   "nbconvert_exporter": "python",
   "pygments_lexer": "ipython3",
   "version": "3.9.7"
  }
 },
 "nbformat": 4,
 "nbformat_minor": 4
}
